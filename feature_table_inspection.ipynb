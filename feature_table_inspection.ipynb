{
 "cells": [
  {
   "cell_type": "code",
   "execution_count": 26,
   "id": "initial_id",
   "metadata": {
    "collapsed": true,
    "ExecuteTime": {
     "end_time": "2024-02-24T20:41:38.281254Z",
     "start_time": "2024-02-24T20:41:38.276380Z"
    }
   },
   "outputs": [],
   "source": [
    "import numpy as np\n",
    "import pandas as pd\n",
    "import matplotlib.pyplot as plt\n",
    "import seaborn as sb"
   ]
  },
  {
   "cell_type": "code",
   "outputs": [
    {
     "name": "stderr",
     "output_type": "stream",
     "text": [
      "/var/folders/9p/yj4h2ydd47g1c0r59wypbbd16vt4k0/T/ipykernel_24372/3781470467.py:1: ParserWarning: Skipping line 47805: expected 231 fields, saw 366\n",
      "\n",
      "  mask_features = pd.read_csv(\"/Users/onur_serce/MPIB/20240125_MPIB_15um/mask_features_regions_dedup\", sep=\";\", on_bad_lines='warn')\n",
      "/var/folders/9p/yj4h2ydd47g1c0r59wypbbd16vt4k0/T/ipykernel_24372/3781470467.py:1: ParserWarning: Skipping line 194397: expected 231 fields, saw 302\n",
      "\n",
      "  mask_features = pd.read_csv(\"/Users/onur_serce/MPIB/20240125_MPIB_15um/mask_features_regions_dedup\", sep=\";\", on_bad_lines='warn')\n",
      "/var/folders/9p/yj4h2ydd47g1c0r59wypbbd16vt4k0/T/ipykernel_24372/3781470467.py:1: ParserWarning: Skipping line 219080: expected 231 fields, saw 344\n",
      "\n",
      "  mask_features = pd.read_csv(\"/Users/onur_serce/MPIB/20240125_MPIB_15um/mask_features_regions_dedup\", sep=\";\", on_bad_lines='warn')\n",
      "/var/folders/9p/yj4h2ydd47g1c0r59wypbbd16vt4k0/T/ipykernel_24372/3781470467.py:1: ParserWarning: Skipping line 382828: expected 231 fields, saw 283\n",
      "\n",
      "  mask_features = pd.read_csv(\"/Users/onur_serce/MPIB/20240125_MPIB_15um/mask_features_regions_dedup\", sep=\";\", on_bad_lines='warn')\n"
     ]
    }
   ],
   "source": [
    "mask_features = pd.read_csv(\"/Users/onur_serce/MPIB/20240125_MPIB_15um/mask_features_regions_dedup\", sep=\";\", on_bad_lines='warn')"
   ],
   "metadata": {
    "collapsed": false,
    "ExecuteTime": {
     "end_time": "2024-02-24T20:17:58.681662Z",
     "start_time": "2024-02-24T20:17:50.299705Z"
    }
   },
   "id": "16d5c3d8025aacf5",
   "execution_count": 2
  },
  {
   "cell_type": "code",
   "outputs": [
    {
     "data": {
      "text/plain": "   il id                                             series              path  \\\n0      1  20240125_Onur_15um_NG_555cfos_647neun-_EDFvar-...  Items_NeuN_dedup   \n1      1  20240125_Onur_15um_NG_555cfos_647neun-_EDFvar-...  Items_NeuN_dedup   \n2      1  20240125_Onur_15um_NG_555cfos_647neun-_EDFvar-...  Items_NeuN_dedup   \n3      1  20240125_Onur_15um_NG_555cfos_647neun-_EDFvar-...  Items_NeuN_dedup   \n4      1  20240125_Onur_15um_NG_555cfos_647neun-_EDFvar-...  Items_NeuN_dedup   \n\n                        name   type  plate well  well_row  well_column  \\\n0  p1_wA1_t1_m20_c0_z1_l1_o0  items      1   A1         1            1   \n1  p1_wA1_t1_m20_c0_z1_l1_o0  items      1   A1         1            1   \n2  p1_wA1_t1_m20_c0_z1_l1_o0  items      1   A1         1            1   \n3  p1_wA1_t1_m20_c0_z1_l1_o0  items      1   A1         1            1   \n4  p1_wA1_t1_m20_c0_z1_l1_o0  items      1   A1         1            1   \n\n   timepoint  ...  CELL WINDOWED-INTENSITY-MIN SYTOG.1  \\\n0          1  ...                             0.072043   \n1          1  ...                             0.213577   \n2          1  ...                             0.118465   \n3          1  ...                             0.129054   \n4          1  ...                             0.114021   \n\n   CELL WINDOWED-INTENSITY-STDDEV AF555.1  \\\n0                                0.013090   \n1                                0.004489   \n2                                0.008339   \n3                                0.019876   \n4                                0.017269   \n\n   CELL WINDOWED-INTENSITY-STDDEV AF647.1  \\\n0                               -0.002525   \n1                               -0.018174   \n2                                0.002494   \n3                                0.012955   \n4                                0.008782   \n\n   CELL WINDOWED-INTENSITY-STDDEV SYTOG.1  REGION COMBINED Region 1.1  \\\n0                                0.193304                         0.0   \n1                                0.018469                         0.0   \n2                                0.067541                         0.0   \n3                                0.173649                         0.0   \n4                                0.266945                         0.0   \n\n   REGION COMBINED Region 4.1  REGION COMBINED Region 5.1  \\\n0                         0.0                         1.0   \n1                         0.0                         1.0   \n2                         0.0                         1.0   \n3                         0.0                         1.0   \n4                         0.0                         1.0   \n\n   REGION COMBINED Region 2.1  REGION COMBINED Region 3.1  Unnamed: 230  \n0                         0.0                         0.0           NaN  \n1                         0.0                         0.0           NaN  \n2                         0.0                         0.0           NaN  \n3                         0.0                         0.0           NaN  \n4                         0.0                         0.0           NaN  \n\n[5 rows x 231 columns]",
      "text/html": "<div>\n<style scoped>\n    .dataframe tbody tr th:only-of-type {\n        vertical-align: middle;\n    }\n\n    .dataframe tbody tr th {\n        vertical-align: top;\n    }\n\n    .dataframe thead th {\n        text-align: right;\n    }\n</style>\n<table border=\"1\" class=\"dataframe\">\n  <thead>\n    <tr style=\"text-align: right;\">\n      <th></th>\n      <th>il id</th>\n      <th>series</th>\n      <th>path</th>\n      <th>name</th>\n      <th>type</th>\n      <th>plate</th>\n      <th>well</th>\n      <th>well_row</th>\n      <th>well_column</th>\n      <th>timepoint</th>\n      <th>...</th>\n      <th>CELL WINDOWED-INTENSITY-MIN SYTOG.1</th>\n      <th>CELL WINDOWED-INTENSITY-STDDEV AF555.1</th>\n      <th>CELL WINDOWED-INTENSITY-STDDEV AF647.1</th>\n      <th>CELL WINDOWED-INTENSITY-STDDEV SYTOG.1</th>\n      <th>REGION COMBINED Region 1.1</th>\n      <th>REGION COMBINED Region 4.1</th>\n      <th>REGION COMBINED Region 5.1</th>\n      <th>REGION COMBINED Region 2.1</th>\n      <th>REGION COMBINED Region 3.1</th>\n      <th>Unnamed: 230</th>\n    </tr>\n  </thead>\n  <tbody>\n    <tr>\n      <th>0</th>\n      <td>1</td>\n      <td>20240125_Onur_15um_NG_555cfos_647neun-_EDFvar-...</td>\n      <td>Items_NeuN_dedup</td>\n      <td>p1_wA1_t1_m20_c0_z1_l1_o0</td>\n      <td>items</td>\n      <td>1</td>\n      <td>A1</td>\n      <td>1</td>\n      <td>1</td>\n      <td>1</td>\n      <td>...</td>\n      <td>0.072043</td>\n      <td>0.013090</td>\n      <td>-0.002525</td>\n      <td>0.193304</td>\n      <td>0.0</td>\n      <td>0.0</td>\n      <td>1.0</td>\n      <td>0.0</td>\n      <td>0.0</td>\n      <td>NaN</td>\n    </tr>\n    <tr>\n      <th>1</th>\n      <td>1</td>\n      <td>20240125_Onur_15um_NG_555cfos_647neun-_EDFvar-...</td>\n      <td>Items_NeuN_dedup</td>\n      <td>p1_wA1_t1_m20_c0_z1_l1_o0</td>\n      <td>items</td>\n      <td>1</td>\n      <td>A1</td>\n      <td>1</td>\n      <td>1</td>\n      <td>1</td>\n      <td>...</td>\n      <td>0.213577</td>\n      <td>0.004489</td>\n      <td>-0.018174</td>\n      <td>0.018469</td>\n      <td>0.0</td>\n      <td>0.0</td>\n      <td>1.0</td>\n      <td>0.0</td>\n      <td>0.0</td>\n      <td>NaN</td>\n    </tr>\n    <tr>\n      <th>2</th>\n      <td>1</td>\n      <td>20240125_Onur_15um_NG_555cfos_647neun-_EDFvar-...</td>\n      <td>Items_NeuN_dedup</td>\n      <td>p1_wA1_t1_m20_c0_z1_l1_o0</td>\n      <td>items</td>\n      <td>1</td>\n      <td>A1</td>\n      <td>1</td>\n      <td>1</td>\n      <td>1</td>\n      <td>...</td>\n      <td>0.118465</td>\n      <td>0.008339</td>\n      <td>0.002494</td>\n      <td>0.067541</td>\n      <td>0.0</td>\n      <td>0.0</td>\n      <td>1.0</td>\n      <td>0.0</td>\n      <td>0.0</td>\n      <td>NaN</td>\n    </tr>\n    <tr>\n      <th>3</th>\n      <td>1</td>\n      <td>20240125_Onur_15um_NG_555cfos_647neun-_EDFvar-...</td>\n      <td>Items_NeuN_dedup</td>\n      <td>p1_wA1_t1_m20_c0_z1_l1_o0</td>\n      <td>items</td>\n      <td>1</td>\n      <td>A1</td>\n      <td>1</td>\n      <td>1</td>\n      <td>1</td>\n      <td>...</td>\n      <td>0.129054</td>\n      <td>0.019876</td>\n      <td>0.012955</td>\n      <td>0.173649</td>\n      <td>0.0</td>\n      <td>0.0</td>\n      <td>1.0</td>\n      <td>0.0</td>\n      <td>0.0</td>\n      <td>NaN</td>\n    </tr>\n    <tr>\n      <th>4</th>\n      <td>1</td>\n      <td>20240125_Onur_15um_NG_555cfos_647neun-_EDFvar-...</td>\n      <td>Items_NeuN_dedup</td>\n      <td>p1_wA1_t1_m20_c0_z1_l1_o0</td>\n      <td>items</td>\n      <td>1</td>\n      <td>A1</td>\n      <td>1</td>\n      <td>1</td>\n      <td>1</td>\n      <td>...</td>\n      <td>0.114021</td>\n      <td>0.017269</td>\n      <td>0.008782</td>\n      <td>0.266945</td>\n      <td>0.0</td>\n      <td>0.0</td>\n      <td>1.0</td>\n      <td>0.0</td>\n      <td>0.0</td>\n      <td>NaN</td>\n    </tr>\n  </tbody>\n</table>\n<p>5 rows × 231 columns</p>\n</div>"
     },
     "execution_count": 3,
     "metadata": {},
     "output_type": "execute_result"
    }
   ],
   "source": [
    "mask_features.head()"
   ],
   "metadata": {
    "collapsed": false,
    "ExecuteTime": {
     "end_time": "2024-02-24T20:18:02.672888Z",
     "start_time": "2024-02-24T20:18:02.659453Z"
    }
   },
   "id": "e446a3a35827b71d",
   "execution_count": 3
  },
  {
   "cell_type": "code",
   "outputs": [
    {
     "data": {
      "text/plain": "388597"
     },
     "execution_count": 56,
     "metadata": {},
     "output_type": "execute_result"
    }
   ],
   "source": [
    "len(mask_features.columns)\n",
    "len(mask_features)"
   ],
   "metadata": {
    "collapsed": false,
    "ExecuteTime": {
     "end_time": "2024-02-26T14:59:54.715363Z",
     "start_time": "2024-02-26T14:59:54.708112Z"
    }
   },
   "id": "ef16894b7aa1755a",
   "execution_count": 56
  },
  {
   "cell_type": "code",
   "outputs": [],
   "source": [
    "# Drop duplicate columns\n",
    "dup_cols = []\n",
    "\n",
    "for col in mask_features.columns:\n",
    "    if col.endswith(\".1\"):\n",
    "        dup_cols.append(col)\n",
    "\n",
    "# Drop it like it's hot!\n",
    "mask_features.drop(dup_cols, axis=1, inplace=True)"
   ],
   "metadata": {
    "collapsed": false,
    "ExecuteTime": {
     "end_time": "2024-02-24T20:28:16.878480Z",
     "start_time": "2024-02-24T20:28:16.803139Z"
    }
   },
   "id": "74eb35739b0cb7f6",
   "execution_count": 21
  },
  {
   "cell_type": "code",
   "outputs": [
    {
     "data": {
      "text/plain": "Index(['il id', 'series', 'path', 'name', 'type', 'plate', 'well', 'well_row',\n       'well_column', 'timepoint',\n       ...\n       'CELL WINDOWED-INTENSITY-STDDEV AF647',\n       'CELL WINDOWED-INTENSITY-STDDEV SYTOG', 'REGION COMBINED Region 1',\n       'REGION COMBINED Region 4', 'REGION COMBINED Region 5',\n       'REGION COMBINED Region 2', 'REGION COMBINED Region 3', 'rowid',\n       'il id.2', 'Unnamed: 230'],\n      dtype='object', length=124)"
     },
     "execution_count": 23,
     "metadata": {},
     "output_type": "execute_result"
    }
   ],
   "source": [
    "mask_features.columns"
   ],
   "metadata": {
    "collapsed": false,
    "ExecuteTime": {
     "end_time": "2024-02-24T20:28:32.286993Z",
     "start_time": "2024-02-24T20:28:32.279317Z"
    }
   },
   "id": "eacaee010c62e50a",
   "execution_count": 23
  },
  {
   "cell_type": "code",
   "outputs": [],
   "source": [
    "mask_features.to_csv('/Users/onur_serce/MPIB/20240125_MPIB_15um/test.csv', sep=\";\", index=False)"
   ],
   "metadata": {
    "collapsed": false,
    "ExecuteTime": {
     "end_time": "2024-02-24T20:33:38.555783Z",
     "start_time": "2024-02-24T20:33:14.456594Z"
    }
   },
   "id": "ca5dcf5062e5c338",
   "execution_count": 25
  },
  {
   "cell_type": "code",
   "outputs": [],
   "source": [
    "# Save data from each region into seperate csv files\n",
    " \n",
    "for col in mask_features.columns:\n",
    "    if col.startswith(\"REGION COMBINED\"):\n",
    "        region = \"_\".join(col.split(\" \")[-2:])\n",
    "        subdf = mask_features.loc[mask_features.loc[:, col] == 1, :]\n",
    "        subdf.to_csv(\"/Users/onur_serce/MPIB/20240125_MPIB_15um/mask_features_regions_dedup\" + \"_\" + region + \".csv\", sep=\",\")"
   ],
   "metadata": {
    "collapsed": false,
    "ExecuteTime": {
     "end_time": "2024-02-26T16:05:36.430362Z",
     "start_time": "2024-02-26T16:05:11.421404Z"
    }
   },
   "id": "d939810795661d0",
   "execution_count": 86
  },
  {
   "cell_type": "code",
   "outputs": [],
   "source": [],
   "metadata": {
    "collapsed": false,
    "ExecuteTime": {
     "end_time": "2024-02-26T16:05:43.212798Z",
     "start_time": "2024-02-26T16:05:43.207008Z"
    }
   },
   "id": "bb8b5d6acf103ea6",
   "execution_count": 86
  },
  {
   "cell_type": "code",
   "outputs": [
    {
     "data": {
      "text/plain": "<matplotlib.collections.LineCollection at 0x3ff3a7a40>"
     },
     "execution_count": 54,
     "metadata": {},
     "output_type": "execute_result"
    },
    {
     "data": {
      "text/plain": "<Figure size 500x500 with 1 Axes>",
      "image/png": "[encoded data removed]"
     },
     "metadata": {},
     "output_type": "display_data"
    }
   ],
   "source": [
    "sb.displot(data=mask_features, x=\"CELL AREA\", kde=True)\n",
    "plt.vlines(ymin=0, ymax=50000, x=2500, linestyles='dashed', color='r')\n",
    "plt.vlines(ymin=0, ymax=50000, x=7500, linestyles='dashed', color='r')"
   ],
   "metadata": {
    "collapsed": false,
    "ExecuteTime": {
     "end_time": "2024-02-25T15:41:38.611851Z",
     "start_time": "2024-02-25T15:41:37.800725Z"
    }
   },
   "id": "d9e55726c199fd6b",
   "execution_count": 54
  },
  {
   "cell_type": "code",
   "outputs": [
    {
     "data": {
      "text/plain": "               il id     plate  well_row  well_column  timepoint  \\\ncount  388597.000000  388597.0  388597.0     388597.0   388597.0   \nmean      297.003873       1.0       1.0          1.0        1.0   \nstd       174.794862       0.0       0.0          0.0        0.0   \nmin         1.000000       1.0       1.0          1.0        1.0   \n25%       142.000000       1.0       1.0          1.0        1.0   \n50%       295.000000       1.0       1.0          1.0        1.0   \n75%       451.000000       1.0       1.0          1.0        1.0   \nmax       604.000000       1.0       1.0          1.0        1.0   \n\n              mosaic   channel     plane    lambda  optional  ...  \\\ncount  388597.000000  388597.0  388597.0  388597.0  388597.0  ...   \nmean      341.877928       0.0       1.0       1.0       0.0  ...   \nstd       192.245724       0.0       0.0       0.0       0.0  ...   \nmin         1.000000       0.0       1.0       1.0       0.0  ...   \n25%       174.000000       0.0       1.0       1.0       0.0  ...   \n50%       349.000000       0.0       1.0       1.0       0.0  ...   \n75%       503.000000       0.0       1.0       1.0       0.0  ...   \nmax       671.000000       0.0       1.0       1.0       0.0  ...   \n\n       CELL WINDOWED-INTENSITY-STDDEV AF647  \\\ncount                         388597.000000   \nmean                               0.146276   \nstd                               10.706666   \nmin                               -0.031427   \n25%                                0.006065   \n50%                                0.073632   \n75%                                0.188994   \nmax                             6673.541016   \n\n       CELL WINDOWED-INTENSITY-STDDEV SYTOG  REGION COMBINED Region 1  \\\ncount                         388597.000000              3.885970e+05   \nmean                               0.194282              4.284180e+07   \nstd                               71.197757              2.670653e+10   \nmin                                0.001843              0.000000e+00   \n25%                                0.032783              0.000000e+00   \n50%                                0.068439              0.000000e+00   \n75%                                0.111040              0.000000e+00   \nmax                            44383.000000              1.664819e+13   \n\n       REGION COMBINED Region 4  REGION COMBINED Region 5  \\\ncount             388597.000000             388597.000000   \nmean                   0.014082                  0.038412   \nstd                   95.525850                 89.368189   \nmin               -59547.851562             -55709.238281   \n25%                    0.000000                  0.000000   \n50%                    0.000000                  0.000000   \n75%                    0.000000                  0.000000   \nmax                    1.000000                  1.000000   \n\n       REGION COMBINED Region 2  REGION COMBINED Region 3          rowid  \\\ncount              3.885970e+05             388597.000000  388597.000000   \nmean               3.565580e+05                  0.051014  194302.031194   \nstd                2.222694e+08                110.146543  112180.984203   \nmin                0.000000e+00             -68661.929688      -1.119939   \n25%                0.000000e+00                  0.000000   97151.000000   \n50%                0.000000e+00                  0.000000  194300.000000   \n75%                0.000000e+00                  0.000000  291454.000000   \nmax                1.385573e+11                  1.000000  388605.000000   \n\n             il id.2  Unnamed: 230  \ncount  388597.000000           0.0  \nmean      297.002913           NaN  \nstd       174.795469           NaN  \nmin        -0.000118           NaN  \n25%       142.000000           NaN  \n50%       295.000000           NaN  \n75%       451.000000           NaN  \nmax       604.000000           NaN  \n\n[8 rows x 119 columns]",
      "text/html": "<div>\n<style scoped>\n    .dataframe tbody tr th:only-of-type {\n        vertical-align: middle;\n    }\n\n    .dataframe tbody tr th {\n        vertical-align: top;\n    }\n\n    .dataframe thead th {\n        text-align: right;\n    }\n</style>\n<table border=\"1\" class=\"dataframe\">\n  <thead>\n    <tr style=\"text-align: right;\">\n      <th></th>\n      <th>il id</th>\n      <th>plate</th>\n      <th>well_row</th>\n      <th>well_column</th>\n      <th>timepoint</th>\n      <th>mosaic</th>\n      <th>channel</th>\n      <th>plane</th>\n      <th>lambda</th>\n      <th>optional</th>\n      <th>...</th>\n      <th>CELL WINDOWED-INTENSITY-STDDEV AF647</th>\n      <th>CELL WINDOWED-INTENSITY-STDDEV SYTOG</th>\n      <th>REGION COMBINED Region 1</th>\n      <th>REGION COMBINED Region 4</th>\n      <th>REGION COMBINED Region 5</th>\n      <th>REGION COMBINED Region 2</th>\n      <th>REGION COMBINED Region 3</th>\n      <th>rowid</th>\n      <th>il id.2</th>\n      <th>Unnamed: 230</th>\n    </tr>\n  </thead>\n  <tbody>\n    <tr>\n      <th>count</th>\n      <td>388597.000000</td>\n      <td>388597.0</td>\n      <td>388597.0</td>\n      <td>388597.0</td>\n      <td>388597.0</td>\n      <td>388597.000000</td>\n      <td>388597.0</td>\n      <td>388597.0</td>\n      <td>388597.0</td>\n      <td>388597.0</td>\n      <td>...</td>\n      <td>388597.000000</td>\n      <td>388597.000000</td>\n      <td>3.885970e+05</td>\n      <td>388597.000000</td>\n      <td>388597.000000</td>\n      <td>3.885970e+05</td>\n      <td>388597.000000</td>\n      <td>388597.000000</td>\n      <td>388597.000000</td>\n      <td>0.0</td>\n    </tr>\n    <tr>\n      <th>mean</th>\n      <td>297.003873</td>\n      <td>1.0</td>\n      <td>1.0</td>\n      <td>1.0</td>\n      <td>1.0</td>\n      <td>341.877928</td>\n      <td>0.0</td>\n      <td>1.0</td>\n      <td>1.0</td>\n      <td>0.0</td>\n      <td>...</td>\n      <td>0.146276</td>\n      <td>0.194282</td>\n      <td>4.284180e+07</td>\n      <td>0.014082</td>\n      <td>0.038412</td>\n      <td>3.565580e+05</td>\n      <td>0.051014</td>\n      <td>194302.031194</td>\n      <td>297.002913</td>\n      <td>NaN</td>\n    </tr>\n    <tr>\n      <th>std</th>\n      <td>174.794862</td>\n      <td>0.0</td>\n      <td>0.0</td>\n      <td>0.0</td>\n      <td>0.0</td>\n      <td>192.245724</td>\n      <td>0.0</td>\n      <td>0.0</td>\n      <td>0.0</td>\n      <td>0.0</td>\n      <td>...</td>\n      <td>10.706666</td>\n      <td>71.197757</td>\n      <td>2.670653e+10</td>\n      <td>95.525850</td>\n      <td>89.368189</td>\n      <td>2.222694e+08</td>\n      <td>110.146543</td>\n      <td>112180.984203</td>\n      <td>174.795469</td>\n      <td>NaN</td>\n    </tr>\n    <tr>\n      <th>min</th>\n      <td>1.000000</td>\n      <td>1.0</td>\n      <td>1.0</td>\n      <td>1.0</td>\n      <td>1.0</td>\n      <td>1.000000</td>\n      <td>0.0</td>\n      <td>1.0</td>\n      <td>1.0</td>\n      <td>0.0</td>\n      <td>...</td>\n      <td>-0.031427</td>\n      <td>0.001843</td>\n      <td>0.000000e+00</td>\n      <td>-59547.851562</td>\n      <td>-55709.238281</td>\n      <td>0.000000e+00</td>\n      <td>-68661.929688</td>\n      <td>-1.119939</td>\n      <td>-0.000118</td>\n      <td>NaN</td>\n    </tr>\n    <tr>\n      <th>25%</th>\n      <td>142.000000</td>\n      <td>1.0</td>\n      <td>1.0</td>\n      <td>1.0</td>\n      <td>1.0</td>\n      <td>174.000000</td>\n      <td>0.0</td>\n      <td>1.0</td>\n      <td>1.0</td>\n      <td>0.0</td>\n      <td>...</td>\n      <td>0.006065</td>\n      <td>0.032783</td>\n      <td>0.000000e+00</td>\n      <td>0.000000</td>\n      <td>0.000000</td>\n      <td>0.000000e+00</td>\n      <td>0.000000</td>\n      <td>97151.000000</td>\n      <td>142.000000</td>\n      <td>NaN</td>\n    </tr>\n    <tr>\n      <th>50%</th>\n      <td>295.000000</td>\n      <td>1.0</td>\n      <td>1.0</td>\n      <td>1.0</td>\n      <td>1.0</td>\n      <td>349.000000</td>\n      <td>0.0</td>\n      <td>1.0</td>\n      <td>1.0</td>\n      <td>0.0</td>\n      <td>...</td>\n      <td>0.073632</td>\n      <td>0.068439</td>\n      <td>0.000000e+00</td>\n      <td>0.000000</td>\n      <td>0.000000</td>\n      <td>0.000000e+00</td>\n      <td>0.000000</td>\n      <td>194300.000000</td>\n      <td>295.000000</td>\n      <td>NaN</td>\n    </tr>\n    <tr>\n      <th>75%</th>\n      <td>451.000000</td>\n      <td>1.0</td>\n      <td>1.0</td>\n      <td>1.0</td>\n      <td>1.0</td>\n      <td>503.000000</td>\n      <td>0.0</td>\n      <td>1.0</td>\n      <td>1.0</td>\n      <td>0.0</td>\n      <td>...</td>\n      <td>0.188994</td>\n      <td>0.111040</td>\n      <td>0.000000e+00</td>\n      <td>0.000000</td>\n      <td>0.000000</td>\n      <td>0.000000e+00</td>\n      <td>0.000000</td>\n      <td>291454.000000</td>\n      <td>451.000000</td>\n      <td>NaN</td>\n    </tr>\n    <tr>\n      <th>max</th>\n      <td>604.000000</td>\n      <td>1.0</td>\n      <td>1.0</td>\n      <td>1.0</td>\n      <td>1.0</td>\n      <td>671.000000</td>\n      <td>0.0</td>\n      <td>1.0</td>\n      <td>1.0</td>\n      <td>0.0</td>\n      <td>...</td>\n      <td>6673.541016</td>\n      <td>44383.000000</td>\n      <td>1.664819e+13</td>\n      <td>1.000000</td>\n      <td>1.000000</td>\n      <td>1.385573e+11</td>\n      <td>1.000000</td>\n      <td>388605.000000</td>\n      <td>604.000000</td>\n      <td>NaN</td>\n    </tr>\n  </tbody>\n</table>\n<p>8 rows × 119 columns</p>\n</div>"
     },
     "execution_count": 55,
     "metadata": {},
     "output_type": "execute_result"
    }
   ],
   "source": [
    "mask_features.describe()"
   ],
   "metadata": {
    "collapsed": false,
    "ExecuteTime": {
     "end_time": "2024-02-26T13:59:56.526205Z",
     "start_time": "2024-02-26T13:59:55.274650Z"
    }
   },
   "id": "65e42d4e1be831b6",
   "execution_count": 55
  },
  {
   "cell_type": "code",
   "outputs": [
    {
     "data": {
      "text/plain": "528"
     },
     "execution_count": 62,
     "metadata": {},
     "output_type": "execute_result"
    }
   ],
   "source": [
    "(mask_features['name'] == 'p1_wA1_t1_m20_c0_z1_l1_o0').sum()"
   ],
   "metadata": {
    "collapsed": false,
    "ExecuteTime": {
     "end_time": "2024-02-26T15:15:52.669310Z",
     "start_time": "2024-02-26T15:15:52.665765Z"
    }
   },
   "id": "ae4dd954d3b4f0db",
   "execution_count": 62
  },
  {
   "cell_type": "code",
   "outputs": [
    {
     "data": {
      "text/plain": "82"
     },
     "execution_count": 63,
     "metadata": {},
     "output_type": "execute_result"
    }
   ],
   "source": [
    "(mask_features['name'] == 'p1_wA1_t1_m21_c0_z1_l1_o0').sum()"
   ],
   "metadata": {
    "collapsed": false,
    "ExecuteTime": {
     "end_time": "2024-02-26T15:19:37.554695Z",
     "start_time": "2024-02-26T15:19:37.549947Z"
    }
   },
   "id": "557882dd2fa2ba35",
   "execution_count": 63
  },
  {
   "cell_type": "code",
   "outputs": [],
   "source": [],
   "metadata": {
    "collapsed": false
   },
   "id": "c855646f0b22cc7d"
  }
 ],
 "metadata": {
  "kernelspec": {
   "display_name": "Python 3",
   "language": "python",
   "name": "python3"
  },
  "language_info": {
   "codemirror_mode": {
    "name": "ipython",
    "version": 2
   },
   "file_extension": ".py",
   "mimetype": "text/x-python",
   "name": "python",
   "nbconvert_exporter": "python",
   "pygments_lexer": "ipython2",
   "version": "2.7.6"
  }
 },
 "nbformat": 4,
 "nbformat_minor": 5
}
