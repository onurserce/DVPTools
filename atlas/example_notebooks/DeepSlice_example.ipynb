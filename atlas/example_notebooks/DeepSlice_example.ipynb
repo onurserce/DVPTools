{
 "cells": [
  {
   "attachments": {},
   "cell_type": "markdown",
   "metadata": {
    "id": "dzxs1lm6SxGK"
   },
   "source": [
    "# **DeepSlice notebook**\n",
    "this is an example notebook designed to teach you how to use DeepSlice \n",
    "\n"
   ]
  },
  {
   "cell_type": "code",
   "metadata": {
    "ExecuteTime": {
     "end_time": "2024-05-23T22:02:08.617776Z",
     "start_time": "2024-05-23T22:02:08.602773Z"
    }
   },
   "source": [
    "import os"
   ],
   "outputs": [],
   "execution_count": 1
  },
  {
   "cell_type": "code",
   "metadata": {},
   "source": [
    "#first lets ensure we are in the DeepSlice parent directory\n",
    "# if we are in examples/example_notebooks, we need to go up two directories\n",
    "os.chdir('../../')"
   ],
   "outputs": [],
   "execution_count": null
  },
  {
   "attachments": {},
   "cell_type": "markdown",
   "metadata": {
    "id": "SIhHUfT1RRrw"
   },
   "source": [
    "## **Import and Build the model**"
   ]
  },
  {
   "cell_type": "code",
   "metadata": {
    "id": "PqLx610CIZ3a",
    "ExecuteTime": {
     "end_time": "2024-05-23T22:02:50.200297Z",
     "start_time": "2024-05-23T22:02:48.294153Z"
    }
   },
   "source": [
    "from DeepSlice import DSModel"
   ],
   "outputs": [],
   "execution_count": 2
  },
  {
   "cell_type": "code",
   "metadata": {
    "colab": {
     "base_uri": "https://localhost:8080/"
    },
    "id": "MUYhpi_EIsKc",
    "outputId": "4ed363d5-e569-45b5-c35e-99cfce1eaf8f",
    "ExecuteTime": {
     "end_time": "2024-05-23T22:03:01.382967Z",
     "start_time": "2024-05-23T22:02:54.519874Z"
    }
   },
   "source": [
    "species = 'mouse' #available species are 'mouse' and 'rat'\n",
    "\n",
    "Model = DSModel(species)"
   ],
   "outputs": [
    {
     "name": "stdout",
     "output_type": "stream",
     "text": [
      "Downloading file from https://data-proxy.ebrains.eu/api/v1/buckets/deepslice/weights/xception_weights_tf_dim_ordering_tf_kernels.h5 to C:\\Users\\onur.serce\\AppData\\Local\\anaconda3\\envs\\DeepSlice\\lib\\site-packages\\DeepSlice\\metadata\\weights/xception_weights_tf_dim_ordering_tf_kernels.h5\n",
      "Downloading file from https://data-proxy.ebrains.eu/api/v1/buckets/deepslice/weights/Allen_Mixed_Best.h5 to C:\\Users\\onur.serce\\AppData\\Local\\anaconda3\\envs\\DeepSlice\\lib\\site-packages\\DeepSlice\\metadata\\weights/Allen_Mixed_Best.h5\n",
      "WARNING:tensorflow:From C:\\Users\\onur.serce\\AppData\\Local\\anaconda3\\envs\\DeepSlice\\lib\\site-packages\\tensorflow_core\\python\\ops\\resource_variable_ops.py:1630: calling BaseResourceVariable.__init__ (from tensorflow.python.ops.resource_variable_ops) with constraint is deprecated and will be removed in a future version.\n",
      "Instructions for updating:\n",
      "If using Keras pass *_constraint arguments to layers.\n"
     ]
    }
   ],
   "execution_count": 3
  },
  {
   "cell_type": "markdown",
   "metadata": {
    "id": "IWOP83baRoL5"
   },
   "source": [
    "## **Make Predictions & Save Results**"
   ]
  },
  {
   "attachments": {},
   "cell_type": "markdown",
   "metadata": {
    "id": "eqyCkkHnSKCK"
   },
   "source": [
    "Next we point our model towards a folder which contains images we would like to align. <br> \n",
    "\n",
    "\n",
    "* ensemble uses multiple models to make predictions, test this out on your data as it is not better in all cases (though takes twice as long to run)\n",
    "\n",
    "* section numbers tells the model whether your images have section numbers in the file name, if True they should be included as _sXXX where X is the three digit section number"
   ]
  },
  {
   "cell_type": "code",
   "metadata": {
    "colab": {
     "base_uri": "https://localhost:8080/"
    },
    "id": "kokJ0Ir1LxtS",
    "outputId": "0621290b-71df-46d0-9724-e113c6d88327",
    "ExecuteTime": {
     "end_time": "2024-05-23T22:03:59.932391Z",
     "start_time": "2024-05-23T22:03:45.240030Z"
    }
   },
   "source": [
    "#this cell should take about 1 second per image\n",
    "folderpath = '../example_brain/GLTa/'\n",
    "Model.predict(folderpath, ensemble=True, section_numbers=True)"
   ],
   "outputs": [
    {
     "name": "stdout",
     "output_type": "stream",
     "text": [
      "Found 35 validated image filenames.\n",
      "Downloading file from https://data-proxy.ebrains.eu/api/v1/buckets/deepslice/weights/Synthetic_data_final.hdf5 to C:\\Users\\onur.serce\\AppData\\Local\\anaconda3\\envs\\DeepSlice\\lib\\site-packages\\DeepSlice\\metadata\\weights/Synthetic_data_final.hdf5\n",
      "35/35 [==============================] - 6s 180ms/step\n",
      "35/35 [==============================] - 6s 176ms/step\n"
     ]
    }
   ],
   "execution_count": 4
  },
  {
   "attachments": {},
   "cell_type": "markdown",
   "metadata": {},
   "source": [
    "**Angle propagation**\n",
    "this tells the model to average the predicted angles (since your sections are cut from a block they should all share an angle)"
   ]
  },
  {
   "cell_type": "code",
   "metadata": {
    "ExecuteTime": {
     "end_time": "2024-05-23T22:04:23.713685Z",
     "start_time": "2024-05-23T22:04:23.623563Z"
    }
   },
   "source": [
    "Model.propagate_angles()"
   ],
   "outputs": [
    {
     "name": "stdout",
     "output_type": "stream",
     "text": [
      "[0.03739812549567805, 0.06541069477425403, 0.09613589016452957, 0.13493375290655457, 0.1648789522003683, 0.21147598409604665, 0.23151837617716062, 0.2603249718469408, 0.27740279109966126, 0.3205031773816918, 0.36099692867506294, 0.38092447092316406, 0.39129703403152494, 0.39836851928325706, 0.38935510562985237, 0.3809244709231641, 0.3647624065885265, 0.3508784957507472, 0.3304025318917793, 0.3128065686341862, 0.27457816278146124, 0.2603249718469408, 0.22003145830890813, 0.20299331135490192, 0.15968904366556058, 0.1279294211556017, 0.0904485821913841, 0.07639449102083411, 0.062493121948865055, 0.04581478594935927, 0.03457584416615222, 0.030251230586367663, 0.019260900348501735, 0.012993787740379941, 0.007241437080626942]\n",
      "DV angle: -1.2860651604391147\n",
      "ML angle: 0.3991987454811852\n",
      "[0.04250208445466561, 0.0731323911744306, 0.10205017092515631, 0.1325762137260315, 0.16750110160533638, 0.22003145830890813, 0.2372823366188749, 0.26890020309663637, 0.27174366561618923, 0.3153961757126757, 0.3629005752101876, 0.38358695374648205, 0.3938080375797071, 0.39893519189518034, 0.3958284371367573, 0.38358695374648205, 0.3647624065885265, 0.3550427555997452, 0.3328064917490792, 0.31539617571267575, 0.2802166419489822, 0.254579616427532, 0.21147598409604665, 0.2001851318407821, 0.14213962335369498, 0.11891572164131405, 0.08498893188056159, 0.07153869916534578, 0.0556173801497707, 0.04144017859431446, 0.03457584416615222, 0.03192567922733571, 0.021020490917802573, 0.013826537208020325, 0.006766712923654944]\n",
      "DV angle: -1.2860458788190998\n",
      "ML angle: 0.3991962041285735\n"
     ]
    }
   ],
   "execution_count": 5
  },
  {
   "attachments": {},
   "cell_type": "markdown",
   "metadata": {},
   "source": [
    "<h2>Use section number information</h2>\n",
    "If you have included section numbers in your filenames we can do one of two things.<br>\n",
    "You need to know how accurate your section numbers are, if they are simply the order the sections were cut you can use<br>\n",
    "\n",
    "**Model.enforce_index_order()** <br>\n",
    "\n",
    "To reorder your sections according to their number. If your section numbers are the precise index which the sections were cut (ie; 1, 2, 4, indicates that section 3 has been left out of the series) You can use <br>\n",
    "\n",
    "**Model.enforce_index_spacing()**\n",
    "<br>\n",
    "\n",
    "If you know the exact Thickness of your sectionsin microns you can include this here as well, but don't worry, if you dont include it we will estimate and tell you our guess. <br>\n",
    "**Model.enforce_index_spacing(section_thickness = 25)**"
   ]
  },
  {
   "cell_type": "code",
   "metadata": {
    "ExecuteTime": {
     "end_time": "2024-05-23T22:06:14.147660Z",
     "start_time": "2024-05-23T22:06:14.133686Z"
    }
   },
   "source": [
    "Model.enforce_index_spacing()"
   ],
   "outputs": [
    {
     "name": "stdout",
     "output_type": "stream",
     "text": [
      "predicted thickness is -56.15339346331882µm\n"
     ]
    }
   ],
   "execution_count": 6
  },
  {
   "cell_type": "markdown",
   "metadata": {
    "id": "TmAKBQGPSViM"
   },
   "source": [
    "The next cell will save both a CSV file and QuickNII XML file to the current directory. If you wish to view it in quickNII simply download the xml file and brain images and place the csv in the same directory as your images."
   ]
  },
  {
   "cell_type": "code",
   "metadata": {
    "colab": {
     "base_uri": "https://localhost:8080/"
    },
    "id": "AsFBw_NzL9f9",
    "outputId": "ea7da7cf-174b-42a4-b25f-2227a20f06d2",
    "ExecuteTime": {
     "end_time": "2024-05-23T22:08:06.986321Z",
     "start_time": "2024-05-23T22:08:06.953429Z"
    }
   },
   "source": [
    "Model.save_predictions(folderpath + 'MyResults')"
   ],
   "outputs": [
    {
     "name": "stdout",
     "output_type": "stream",
     "text": [
      "35\n",
      "saving to ../example_brain/GLTa/MyResults.json\n",
      "saving to ../example_brain/GLTa/MyResults.xml\n"
     ]
    }
   ],
   "execution_count": 7
  },
  {
   "metadata": {},
   "cell_type": "code",
   "outputs": [],
   "execution_count": null,
   "source": ""
  }
 ],
 "metadata": {
  "colab": {
   "authorship_tag": "ABX9TyOrgT3kBmK2DG+N97+KlBVW",
   "include_colab_link": true,
   "name": "DeepSlice_example.ipynb",
   "provenance": [],
   "toc_visible": true
  },
  "kernelspec": {
   "display_name": "DS-CPU",
   "language": "python",
   "name": "python3"
  },
  "language_info": {
   "codemirror_mode": {
    "name": "ipython",
    "version": 3
   },
   "file_extension": ".py",
   "mimetype": "text/x-python",
   "name": "python",
   "nbconvert_exporter": "python",
   "pygments_lexer": "ipython3",
   "version": "3.7.16"
  },
  "vscode": {
   "interpreter": {
    "hash": "bb9d081d115f30eb263a989b966b689a1df26f078f2c741c7bb85b547870c623"
   }
  }
 },
 "nbformat": 4,
 "nbformat_minor": 4
}
