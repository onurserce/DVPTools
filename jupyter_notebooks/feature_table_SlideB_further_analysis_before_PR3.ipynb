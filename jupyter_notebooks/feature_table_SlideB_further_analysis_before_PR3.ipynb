{
 "cells": [
  {
   "cell_type": "code",
   "id": "initial_id",
   "metadata": {
    "collapsed": true,
    "ExecuteTime": {
     "end_time": "2024-05-20T12:16:14.832932Z",
     "start_time": "2024-05-20T12:16:14.831346Z"
    }
   },
   "source": [
    "import numpy as np\n",
    "import pandas as pd\n",
    "import matplotlib.pyplot as plt\n",
    "import seaborn as sb\n",
    "import ipywidgets as widgets"
   ],
   "outputs": [],
   "execution_count": 1
  },
  {
   "cell_type": "code",
   "source": [
    "file = \"/Users/onur.serce/Data/MPIB/20240326_backup_slides/slideB_statsout\"\n",
    "mask_features = pd.read_csv(file, sep=\";\", on_bad_lines='warn')\n",
    "mask_features.head()"
   ],
   "metadata": {
    "collapsed": false,
    "ExecuteTime": {
     "end_time": "2024-05-20T12:16:17.503540Z",
     "start_time": "2024-05-20T12:16:14.833699Z"
    }
   },
   "id": "16d5c3d8025aacf5",
   "outputs": [
    {
     "data": {
      "text/plain": [
       "                                              series   path  \\\n",
       "0  20240326_Onur_NG_555cFos_647NeuN_800Gad67_slid...  Items   \n",
       "1  20240326_Onur_NG_555cFos_647NeuN_800Gad67_slid...  Items   \n",
       "2  20240326_Onur_NG_555cFos_647NeuN_800Gad67_slid...  Items   \n",
       "3  20240326_Onur_NG_555cFos_647NeuN_800Gad67_slid...  Items   \n",
       "4  20240326_Onur_NG_555cFos_647NeuN_800Gad67_slid...  Items   \n",
       "\n",
       "                        name   type  item id  fm id  il id  CELL METCENTER-X  \\\n",
       "0  p1_wA1_t1_m10_c0_z1_l1_o0  items        4      1      1      -3142.927979   \n",
       "1  p1_wA1_t1_m10_c0_z1_l1_o0  items        6      1      1      -3087.943848   \n",
       "2  p1_wA1_t1_m10_c0_z1_l1_o0  items        7      1      1      -3165.250732   \n",
       "3  p1_wA1_t1_m10_c0_z1_l1_o0  items        8      1      1      -2976.842285   \n",
       "4  p1_wA1_t1_m10_c0_z1_l1_o0  items        9      1      1      -2931.696777   \n",
       "\n",
       "   CELL METCENTER-Y  CELL AREA  ...  CELL WINDOWED-INTENSITY-STDDEV AF800  \\\n",
       "0      -3324.078613       1124  ...                              0.049610   \n",
       "1      -3326.078857        475  ...                              0.045360   \n",
       "2      -3320.490479       1292  ...                              0.038061   \n",
       "3      -3313.589600       1471  ...                              0.034544   \n",
       "4      -3314.956299        253  ...                              0.026946   \n",
       "\n",
       "   CELL WINDOWED-INTENSITY-STDDEV SYTOG  REGION COMBINED Region 4  \\\n",
       "0                              0.161265                       0.0   \n",
       "1                              0.073630                       0.0   \n",
       "2                              0.101416                       0.0   \n",
       "3                              0.110516                       0.0   \n",
       "4                              0.098503                       0.0   \n",
       "\n",
       "   REGION COMBINED Region 3  REGION COMBINED Region 2  \\\n",
       "0                       0.0                       0.0   \n",
       "1                       0.0                       0.0   \n",
       "2                       0.0                       0.0   \n",
       "3                       0.0                       0.0   \n",
       "4                       0.0                       0.0   \n",
       "\n",
       "   REGION COMBINED Region 1  REGION COMBINED Region 5  rowid  item id.1  \\\n",
       "0                       0.0                       1.0    1.0        4.0   \n",
       "1                       0.0                       1.0    2.0        6.0   \n",
       "2                       0.0                       1.0    3.0        7.0   \n",
       "3                       0.0                       1.0    4.0        8.0   \n",
       "4                       0.0                       1.0    5.0        9.0   \n",
       "\n",
       "   Unnamed: 137  \n",
       "0           NaN  \n",
       "1           NaN  \n",
       "2           NaN  \n",
       "3           NaN  \n",
       "4           NaN  \n",
       "\n",
       "[5 rows x 138 columns]"
      ],
      "text/html": [
       "<div>\n",
       "<style scoped>\n",
       "    .dataframe tbody tr th:only-of-type {\n",
       "        vertical-align: middle;\n",
       "    }\n",
       "\n",
       "    .dataframe tbody tr th {\n",
       "        vertical-align: top;\n",
       "    }\n",
       "\n",
       "    .dataframe thead th {\n",
       "        text-align: right;\n",
       "    }\n",
       "</style>\n",
       "<table border=\"1\" class=\"dataframe\">\n",
       "  <thead>\n",
       "    <tr style=\"text-align: right;\">\n",
       "      <th></th>\n",
       "      <th>series</th>\n",
       "      <th>path</th>\n",
       "      <th>name</th>\n",
       "      <th>type</th>\n",
       "      <th>item id</th>\n",
       "      <th>fm id</th>\n",
       "      <th>il id</th>\n",
       "      <th>CELL METCENTER-X</th>\n",
       "      <th>CELL METCENTER-Y</th>\n",
       "      <th>CELL AREA</th>\n",
       "      <th>...</th>\n",
       "      <th>CELL WINDOWED-INTENSITY-STDDEV AF800</th>\n",
       "      <th>CELL WINDOWED-INTENSITY-STDDEV SYTOG</th>\n",
       "      <th>REGION COMBINED Region 4</th>\n",
       "      <th>REGION COMBINED Region 3</th>\n",
       "      <th>REGION COMBINED Region 2</th>\n",
       "      <th>REGION COMBINED Region 1</th>\n",
       "      <th>REGION COMBINED Region 5</th>\n",
       "      <th>rowid</th>\n",
       "      <th>item id.1</th>\n",
       "      <th>Unnamed: 137</th>\n",
       "    </tr>\n",
       "  </thead>\n",
       "  <tbody>\n",
       "    <tr>\n",
       "      <th>0</th>\n",
       "      <td>20240326_Onur_NG_555cFos_647NeuN_800Gad67_slid...</td>\n",
       "      <td>Items</td>\n",
       "      <td>p1_wA1_t1_m10_c0_z1_l1_o0</td>\n",
       "      <td>items</td>\n",
       "      <td>4</td>\n",
       "      <td>1</td>\n",
       "      <td>1</td>\n",
       "      <td>-3142.927979</td>\n",
       "      <td>-3324.078613</td>\n",
       "      <td>1124</td>\n",
       "      <td>...</td>\n",
       "      <td>0.049610</td>\n",
       "      <td>0.161265</td>\n",
       "      <td>0.0</td>\n",
       "      <td>0.0</td>\n",
       "      <td>0.0</td>\n",
       "      <td>0.0</td>\n",
       "      <td>1.0</td>\n",
       "      <td>1.0</td>\n",
       "      <td>4.0</td>\n",
       "      <td>NaN</td>\n",
       "    </tr>\n",
       "    <tr>\n",
       "      <th>1</th>\n",
       "      <td>20240326_Onur_NG_555cFos_647NeuN_800Gad67_slid...</td>\n",
       "      <td>Items</td>\n",
       "      <td>p1_wA1_t1_m10_c0_z1_l1_o0</td>\n",
       "      <td>items</td>\n",
       "      <td>6</td>\n",
       "      <td>1</td>\n",
       "      <td>1</td>\n",
       "      <td>-3087.943848</td>\n",
       "      <td>-3326.078857</td>\n",
       "      <td>475</td>\n",
       "      <td>...</td>\n",
       "      <td>0.045360</td>\n",
       "      <td>0.073630</td>\n",
       "      <td>0.0</td>\n",
       "      <td>0.0</td>\n",
       "      <td>0.0</td>\n",
       "      <td>0.0</td>\n",
       "      <td>1.0</td>\n",
       "      <td>2.0</td>\n",
       "      <td>6.0</td>\n",
       "      <td>NaN</td>\n",
       "    </tr>\n",
       "    <tr>\n",
       "      <th>2</th>\n",
       "      <td>20240326_Onur_NG_555cFos_647NeuN_800Gad67_slid...</td>\n",
       "      <td>Items</td>\n",
       "      <td>p1_wA1_t1_m10_c0_z1_l1_o0</td>\n",
       "      <td>items</td>\n",
       "      <td>7</td>\n",
       "      <td>1</td>\n",
       "      <td>1</td>\n",
       "      <td>-3165.250732</td>\n",
       "      <td>-3320.490479</td>\n",
       "      <td>1292</td>\n",
       "      <td>...</td>\n",
       "      <td>0.038061</td>\n",
       "      <td>0.101416</td>\n",
       "      <td>0.0</td>\n",
       "      <td>0.0</td>\n",
       "      <td>0.0</td>\n",
       "      <td>0.0</td>\n",
       "      <td>1.0</td>\n",
       "      <td>3.0</td>\n",
       "      <td>7.0</td>\n",
       "      <td>NaN</td>\n",
       "    </tr>\n",
       "    <tr>\n",
       "      <th>3</th>\n",
       "      <td>20240326_Onur_NG_555cFos_647NeuN_800Gad67_slid...</td>\n",
       "      <td>Items</td>\n",
       "      <td>p1_wA1_t1_m10_c0_z1_l1_o0</td>\n",
       "      <td>items</td>\n",
       "      <td>8</td>\n",
       "      <td>1</td>\n",
       "      <td>1</td>\n",
       "      <td>-2976.842285</td>\n",
       "      <td>-3313.589600</td>\n",
       "      <td>1471</td>\n",
       "      <td>...</td>\n",
       "      <td>0.034544</td>\n",
       "      <td>0.110516</td>\n",
       "      <td>0.0</td>\n",
       "      <td>0.0</td>\n",
       "      <td>0.0</td>\n",
       "      <td>0.0</td>\n",
       "      <td>1.0</td>\n",
       "      <td>4.0</td>\n",
       "      <td>8.0</td>\n",
       "      <td>NaN</td>\n",
       "    </tr>\n",
       "    <tr>\n",
       "      <th>4</th>\n",
       "      <td>20240326_Onur_NG_555cFos_647NeuN_800Gad67_slid...</td>\n",
       "      <td>Items</td>\n",
       "      <td>p1_wA1_t1_m10_c0_z1_l1_o0</td>\n",
       "      <td>items</td>\n",
       "      <td>9</td>\n",
       "      <td>1</td>\n",
       "      <td>1</td>\n",
       "      <td>-2931.696777</td>\n",
       "      <td>-3314.956299</td>\n",
       "      <td>253</td>\n",
       "      <td>...</td>\n",
       "      <td>0.026946</td>\n",
       "      <td>0.098503</td>\n",
       "      <td>0.0</td>\n",
       "      <td>0.0</td>\n",
       "      <td>0.0</td>\n",
       "      <td>0.0</td>\n",
       "      <td>1.0</td>\n",
       "      <td>5.0</td>\n",
       "      <td>9.0</td>\n",
       "      <td>NaN</td>\n",
       "    </tr>\n",
       "  </tbody>\n",
       "</table>\n",
       "<p>5 rows × 138 columns</p>\n",
       "</div>"
      ]
     },
     "execution_count": 2,
     "metadata": {},
     "output_type": "execute_result"
    }
   ],
   "execution_count": 2
  },
  {
   "cell_type": "markdown",
   "source": [
    "## Cleaning and seperating the data per region"
   ],
   "metadata": {
    "collapsed": false
   },
   "id": "a6e9cb21e7f1d85b"
  },
  {
   "cell_type": "code",
   "source": [
    "print(f\"shape is {mask_features.shape} but the data contains duplicate columns\")"
   ],
   "metadata": {
    "collapsed": false,
    "ExecuteTime": {
     "end_time": "2024-05-20T18:27:34.708668Z",
     "start_time": "2024-05-20T18:27:34.706521Z"
    }
   },
   "id": "ef16894b7aa1755a",
   "outputs": [
    {
     "name": "stdout",
     "output_type": "stream",
     "text": [
      "shape is (202617, 137) but the data contains duplicate columns\n"
     ]
    }
   ],
   "execution_count": 70
  },
  {
   "cell_type": "code",
   "source": [
    "# Drop duplicate columns\n",
    "\n",
    "dup_cols = []\n",
    "\n",
    "for col in mask_features.columns:\n",
    "    if col.endswith(\".1\"):\n",
    "        dup_cols.append(col)\n",
    "\n",
    "# Drop it like it's hot!\n",
    "mask_features.drop(dup_cols, axis=1, inplace=True)\n",
    "\n",
    "print(f\"shape is {mask_features.shape} after dropping duplicate columns\")\n",
    "mask_features.head()"
   ],
   "metadata": {
    "collapsed": false,
    "ExecuteTime": {
     "end_time": "2024-05-20T12:16:17.543881Z",
     "start_time": "2024-05-20T12:16:17.507963Z"
    }
   },
   "id": "74eb35739b0cb7f6",
   "outputs": [
    {
     "name": "stdout",
     "output_type": "stream",
     "text": [
      "shape is (202617, 137) after dropping duplicate columns\n"
     ]
    },
    {
     "data": {
      "text/plain": [
       "                                              series   path  \\\n",
       "0  20240326_Onur_NG_555cFos_647NeuN_800Gad67_slid...  Items   \n",
       "1  20240326_Onur_NG_555cFos_647NeuN_800Gad67_slid...  Items   \n",
       "2  20240326_Onur_NG_555cFos_647NeuN_800Gad67_slid...  Items   \n",
       "3  20240326_Onur_NG_555cFos_647NeuN_800Gad67_slid...  Items   \n",
       "4  20240326_Onur_NG_555cFos_647NeuN_800Gad67_slid...  Items   \n",
       "\n",
       "                        name   type  item id  fm id  il id  CELL METCENTER-X  \\\n",
       "0  p1_wA1_t1_m10_c0_z1_l1_o0  items        4      1      1      -3142.927979   \n",
       "1  p1_wA1_t1_m10_c0_z1_l1_o0  items        6      1      1      -3087.943848   \n",
       "2  p1_wA1_t1_m10_c0_z1_l1_o0  items        7      1      1      -3165.250732   \n",
       "3  p1_wA1_t1_m10_c0_z1_l1_o0  items        8      1      1      -2976.842285   \n",
       "4  p1_wA1_t1_m10_c0_z1_l1_o0  items        9      1      1      -2931.696777   \n",
       "\n",
       "   CELL METCENTER-Y  CELL AREA  ...  CELL WINDOWED-INTENSITY-STDDEV AF647  \\\n",
       "0      -3324.078613       1124  ...                              0.150883   \n",
       "1      -3326.078857        475  ...                              0.130159   \n",
       "2      -3320.490479       1292  ...                              0.133473   \n",
       "3      -3313.589600       1471  ...                              0.240660   \n",
       "4      -3314.956299        253  ...                              0.037365   \n",
       "\n",
       "   CELL WINDOWED-INTENSITY-STDDEV AF800  CELL WINDOWED-INTENSITY-STDDEV SYTOG  \\\n",
       "0                              0.049610                              0.161265   \n",
       "1                              0.045360                              0.073630   \n",
       "2                              0.038061                              0.101416   \n",
       "3                              0.034544                              0.110516   \n",
       "4                              0.026946                              0.098503   \n",
       "\n",
       "   REGION COMBINED Region 4  REGION COMBINED Region 3  \\\n",
       "0                       0.0                       0.0   \n",
       "1                       0.0                       0.0   \n",
       "2                       0.0                       0.0   \n",
       "3                       0.0                       0.0   \n",
       "4                       0.0                       0.0   \n",
       "\n",
       "   REGION COMBINED Region 2  REGION COMBINED Region 1  \\\n",
       "0                       0.0                       0.0   \n",
       "1                       0.0                       0.0   \n",
       "2                       0.0                       0.0   \n",
       "3                       0.0                       0.0   \n",
       "4                       0.0                       0.0   \n",
       "\n",
       "   REGION COMBINED Region 5  rowid  Unnamed: 137  \n",
       "0                       1.0    1.0           NaN  \n",
       "1                       1.0    2.0           NaN  \n",
       "2                       1.0    3.0           NaN  \n",
       "3                       1.0    4.0           NaN  \n",
       "4                       1.0    5.0           NaN  \n",
       "\n",
       "[5 rows x 137 columns]"
      ],
      "text/html": [
       "<div>\n",
       "<style scoped>\n",
       "    .dataframe tbody tr th:only-of-type {\n",
       "        vertical-align: middle;\n",
       "    }\n",
       "\n",
       "    .dataframe tbody tr th {\n",
       "        vertical-align: top;\n",
       "    }\n",
       "\n",
       "    .dataframe thead th {\n",
       "        text-align: right;\n",
       "    }\n",
       "</style>\n",
       "<table border=\"1\" class=\"dataframe\">\n",
       "  <thead>\n",
       "    <tr style=\"text-align: right;\">\n",
       "      <th></th>\n",
       "      <th>series</th>\n",
       "      <th>path</th>\n",
       "      <th>name</th>\n",
       "      <th>type</th>\n",
       "      <th>item id</th>\n",
       "      <th>fm id</th>\n",
       "      <th>il id</th>\n",
       "      <th>CELL METCENTER-X</th>\n",
       "      <th>CELL METCENTER-Y</th>\n",
       "      <th>CELL AREA</th>\n",
       "      <th>...</th>\n",
       "      <th>CELL WINDOWED-INTENSITY-STDDEV AF647</th>\n",
       "      <th>CELL WINDOWED-INTENSITY-STDDEV AF800</th>\n",
       "      <th>CELL WINDOWED-INTENSITY-STDDEV SYTOG</th>\n",
       "      <th>REGION COMBINED Region 4</th>\n",
       "      <th>REGION COMBINED Region 3</th>\n",
       "      <th>REGION COMBINED Region 2</th>\n",
       "      <th>REGION COMBINED Region 1</th>\n",
       "      <th>REGION COMBINED Region 5</th>\n",
       "      <th>rowid</th>\n",
       "      <th>Unnamed: 137</th>\n",
       "    </tr>\n",
       "  </thead>\n",
       "  <tbody>\n",
       "    <tr>\n",
       "      <th>0</th>\n",
       "      <td>20240326_Onur_NG_555cFos_647NeuN_800Gad67_slid...</td>\n",
       "      <td>Items</td>\n",
       "      <td>p1_wA1_t1_m10_c0_z1_l1_o0</td>\n",
       "      <td>items</td>\n",
       "      <td>4</td>\n",
       "      <td>1</td>\n",
       "      <td>1</td>\n",
       "      <td>-3142.927979</td>\n",
       "      <td>-3324.078613</td>\n",
       "      <td>1124</td>\n",
       "      <td>...</td>\n",
       "      <td>0.150883</td>\n",
       "      <td>0.049610</td>\n",
       "      <td>0.161265</td>\n",
       "      <td>0.0</td>\n",
       "      <td>0.0</td>\n",
       "      <td>0.0</td>\n",
       "      <td>0.0</td>\n",
       "      <td>1.0</td>\n",
       "      <td>1.0</td>\n",
       "      <td>NaN</td>\n",
       "    </tr>\n",
       "    <tr>\n",
       "      <th>1</th>\n",
       "      <td>20240326_Onur_NG_555cFos_647NeuN_800Gad67_slid...</td>\n",
       "      <td>Items</td>\n",
       "      <td>p1_wA1_t1_m10_c0_z1_l1_o0</td>\n",
       "      <td>items</td>\n",
       "      <td>6</td>\n",
       "      <td>1</td>\n",
       "      <td>1</td>\n",
       "      <td>-3087.943848</td>\n",
       "      <td>-3326.078857</td>\n",
       "      <td>475</td>\n",
       "      <td>...</td>\n",
       "      <td>0.130159</td>\n",
       "      <td>0.045360</td>\n",
       "      <td>0.073630</td>\n",
       "      <td>0.0</td>\n",
       "      <td>0.0</td>\n",
       "      <td>0.0</td>\n",
       "      <td>0.0</td>\n",
       "      <td>1.0</td>\n",
       "      <td>2.0</td>\n",
       "      <td>NaN</td>\n",
       "    </tr>\n",
       "    <tr>\n",
       "      <th>2</th>\n",
       "      <td>20240326_Onur_NG_555cFos_647NeuN_800Gad67_slid...</td>\n",
       "      <td>Items</td>\n",
       "      <td>p1_wA1_t1_m10_c0_z1_l1_o0</td>\n",
       "      <td>items</td>\n",
       "      <td>7</td>\n",
       "      <td>1</td>\n",
       "      <td>1</td>\n",
       "      <td>-3165.250732</td>\n",
       "      <td>-3320.490479</td>\n",
       "      <td>1292</td>\n",
       "      <td>...</td>\n",
       "      <td>0.133473</td>\n",
       "      <td>0.038061</td>\n",
       "      <td>0.101416</td>\n",
       "      <td>0.0</td>\n",
       "      <td>0.0</td>\n",
       "      <td>0.0</td>\n",
       "      <td>0.0</td>\n",
       "      <td>1.0</td>\n",
       "      <td>3.0</td>\n",
       "      <td>NaN</td>\n",
       "    </tr>\n",
       "    <tr>\n",
       "      <th>3</th>\n",
       "      <td>20240326_Onur_NG_555cFos_647NeuN_800Gad67_slid...</td>\n",
       "      <td>Items</td>\n",
       "      <td>p1_wA1_t1_m10_c0_z1_l1_o0</td>\n",
       "      <td>items</td>\n",
       "      <td>8</td>\n",
       "      <td>1</td>\n",
       "      <td>1</td>\n",
       "      <td>-2976.842285</td>\n",
       "      <td>-3313.589600</td>\n",
       "      <td>1471</td>\n",
       "      <td>...</td>\n",
       "      <td>0.240660</td>\n",
       "      <td>0.034544</td>\n",
       "      <td>0.110516</td>\n",
       "      <td>0.0</td>\n",
       "      <td>0.0</td>\n",
       "      <td>0.0</td>\n",
       "      <td>0.0</td>\n",
       "      <td>1.0</td>\n",
       "      <td>4.0</td>\n",
       "      <td>NaN</td>\n",
       "    </tr>\n",
       "    <tr>\n",
       "      <th>4</th>\n",
       "      <td>20240326_Onur_NG_555cFos_647NeuN_800Gad67_slid...</td>\n",
       "      <td>Items</td>\n",
       "      <td>p1_wA1_t1_m10_c0_z1_l1_o0</td>\n",
       "      <td>items</td>\n",
       "      <td>9</td>\n",
       "      <td>1</td>\n",
       "      <td>1</td>\n",
       "      <td>-2931.696777</td>\n",
       "      <td>-3314.956299</td>\n",
       "      <td>253</td>\n",
       "      <td>...</td>\n",
       "      <td>0.037365</td>\n",
       "      <td>0.026946</td>\n",
       "      <td>0.098503</td>\n",
       "      <td>0.0</td>\n",
       "      <td>0.0</td>\n",
       "      <td>0.0</td>\n",
       "      <td>0.0</td>\n",
       "      <td>1.0</td>\n",
       "      <td>5.0</td>\n",
       "      <td>NaN</td>\n",
       "    </tr>\n",
       "  </tbody>\n",
       "</table>\n",
       "<p>5 rows × 137 columns</p>\n",
       "</div>"
      ]
     },
     "execution_count": 4,
     "metadata": {},
     "output_type": "execute_result"
    }
   ],
   "execution_count": 4
  },
  {
   "cell_type": "code",
   "source": [
    "# Save data from each region into seperate csv files\n",
    " \n",
    "for col in mask_features.columns:\n",
    "    if col.startswith(\"REGION COMBINED\"):\n",
    "        region = \"_\".join(col.split(\" \")[-2:])\n",
    "        subdf = mask_features.loc[mask_features.loc[:, col] == True, :]\n",
    "        subdf.to_csv(file + \"_\" + region + \".csv\", sep=\",\")"
   ],
   "metadata": {
    "collapsed": false,
    "ExecuteTime": {
     "end_time": "2024-04-22T11:37:45.104234Z",
     "start_time": "2024-04-22T11:37:30.755891Z"
    }
   },
   "id": "d939810795661d0",
   "outputs": [],
   "execution_count": 9
  },
  {
   "cell_type": "markdown",
   "source": [
    "##  Filtering\n",
    "\n",
    "Following filtering and analysis will be done with only a single region (brain section)."
   ],
   "metadata": {
    "collapsed": false
   },
   "id": "d0ca56b21fcaf278"
  },
  {
   "cell_type": "markdown",
   "source": "### Region 2",
   "metadata": {
    "collapsed": false
   },
   "id": "dbf24c526f315560"
  },
  {
   "cell_type": "code",
   "source": [
    "# Continue with region 3\n",
    "\n",
    "subdf = mask_features.loc[mask_features.loc[:, \"REGION COMBINED Region 2\"] == True, :]\n",
    "df = subdf"
   ],
   "metadata": {
    "collapsed": false,
    "ExecuteTime": {
     "end_time": "2024-05-20T12:16:21.842599Z",
     "start_time": "2024-05-20T12:16:21.826872Z"
    }
   },
   "id": "d6f20ab428dd0e1",
   "outputs": [],
   "execution_count": 5
  },
  {
   "cell_type": "markdown",
   "source": [
    "### Filtering functions"
   ],
   "metadata": {
    "collapsed": false
   },
   "id": "3e67bcf9eda0c8a3"
  },
  {
   "cell_type": "code",
   "source": [
    "def visualize_thresholds(df, variable, title, thresholds=None):\n",
    "    \"\"\"\n",
    "    Convenience function to plot a distribution with thresholds\n",
    "    :param variable: dataframe column\n",
    "    :param title: plot title\n",
    "    :param thresholds: list or tuple containing thresholds\n",
    "    \"\"\"\n",
    "    \n",
    "    plt.figure(figsize=(8, 4))\n",
    "    sb.displot(data=df, x=variable, kind='kde')\n",
    "    if thresholds is not None:\n",
    "        if type(thresholds) is int:\n",
    "            plt.axvline(x=thresholds[0], color='r', linestyle='--')\n",
    "        elif len(thresholds) == 2:\n",
    "            for threshold in thresholds:\n",
    "                plt.axvline(x=threshold, color='r', linestyle='--')\n",
    "        else:\n",
    "            raise ValueError(\"Threshold should be an int or a list or a tuple containing two numbers\")\n",
    "    plt.title(title)\n",
    "    plt.show()"
   ],
   "metadata": {
    "collapsed": false,
    "ExecuteTime": {
     "end_time": "2024-05-20T12:16:23.162863Z",
     "start_time": "2024-05-20T12:16:23.160023Z"
    }
   },
   "id": "28ca697ce2b086e9",
   "outputs": [],
   "execution_count": 6
  },
  {
   "cell_type": "code",
   "source": [
    "def define_thresholds(df, variable):\n",
    "    \"\"\"\n",
    "    Interactive version to plot a distribution with thresholds using ipywidgets\n",
    "    :param df: DataFrame containing the data\n",
    "    :param variable: dataframe column\n",
    "    :param title: plot title\n",
    "    \"\"\"\n",
    "    \n",
    "    # Determine the range of the variable for the slider and convert to int\n",
    "    min_val, max_val = int(df[variable].min()), int(df[variable].max())\n",
    "    \n",
    "    # Pre-calculate the KDE plot\n",
    "    plt.figure(figsize=(8, 4))\n",
    "    kde_plot = sb.kdeplot(data=df, x=variable)\n",
    "    plt.close()  # Close the plot to prevent it from displaying now\n",
    "    \n",
    "    # Create an FloatRangeSlider for selecting thresholds\n",
    "    thresholds_slider = widgets.FloatRangeSlider(\n",
    "        value=[min_val, max_val],\n",
    "        min=min_val,\n",
    "        max=max_val,\n",
    "        step=(max_val - min_val) / 100,\n",
    "        description='Thresholds:',\n",
    "        continuous_update=False\n",
    "    )\n",
    "    \n",
    "    def update_plot(thresholds):\n",
    "        \"\"\"\n",
    "        This function updates the plot based on the thresholds.\n",
    "        \"\"\"\n",
    "        # Display the KDE plot\n",
    "        fig, ax = plt.subplots(figsize=(8, 4))\n",
    "        ax = kde_plot.get_lines()[0].get_xydata()\n",
    "        plt.plot(ax[:,0], ax[:,1], label='Kernel density')\n",
    "        \n",
    "        # Plot the thresholds\n",
    "        plt.axvline(x=thresholds[0], color='r', linestyle='-', label='Lower threshold')\n",
    "        plt.axvline(x=thresholds[1], color='r', linestyle='--', label='Upper threshold')\n",
    "        plt.title(variable)\n",
    "        plt.legend()\n",
    "        plt.show()\n",
    "        globals()[variable] = thresholds\n",
    "        print(globals()[variable])\n",
    "    # Interactively update the plot when the slider value changes\n",
    "    widgets.interact(update_plot, thresholds=thresholds_slider)"
   ],
   "metadata": {
    "collapsed": false,
    "ExecuteTime": {
     "end_time": "2024-05-20T12:16:25.389722Z",
     "start_time": "2024-05-20T12:16:25.385996Z"
    }
   },
   "id": "14a17efd80c0b38",
   "outputs": [],
   "execution_count": 7
  },
  {
   "cell_type": "code",
   "source": [
    "def subset_dataframe_by_thresholds(df, variable):\n",
    "    \"\"\"\n",
    "    Return a subset of the DataFrame based on the given thresholds for a specific variable.\n",
    "    \n",
    "    Parameters:\n",
    "    - df: pandas.DataFrame containing the data.\n",
    "    - variable: String representing the column name to filter by.\n",
    "    - thresholds: Tuple containing two numbers (lower_bound, upper_bound) representing the thresholds.\n",
    "    \n",
    "    Returns:\n",
    "    - A subset of the original DataFrame where the values in the specified column fall within the given thresholds.\n",
    "    \n",
    "    # Example usage:\n",
    "    # Assuming 'df' is your DataFrame, 'variable' is the column name, and 'thresholds' is the tuple of lower and upper bounds.\n",
    "    # subsetted_df = subset_dataframe_by_thresholds(df, 'your_variable_here', (lower_bound, upper_bound))\n",
    "    # print(subsetted_df)\n",
    "    \"\"\"\n",
    "    # Ensure that thresholds is a tuple with two elements\n",
    "    thresholds = globals()[variable]\n",
    "    if not isinstance(thresholds, tuple) or len(thresholds) != 2:\n",
    "        raise ValueError(\"Thresholds must be a tuple with two elements (lower_bound, upper_bound).\")\n",
    "    \n",
    "    lower_bound, upper_bound = thresholds\n",
    "    \n",
    "    # Filter the DataFrame\n",
    "    filtered_df = df[(df[variable] >= lower_bound) & (df[variable] <= upper_bound)]\n",
    "    print(globals()[variable])\n",
    "    return filtered_df"
   ],
   "metadata": {
    "collapsed": false,
    "ExecuteTime": {
     "end_time": "2024-05-20T12:16:26.180288Z",
     "start_time": "2024-05-20T12:16:26.177773Z"
    }
   },
   "id": "f10fd43e03131c5",
   "outputs": [],
   "execution_count": 8
  },
  {
   "metadata": {
    "ExecuteTime": {
     "end_time": "2024-05-20T12:16:30.618657Z",
     "start_time": "2024-05-20T12:16:30.416948Z"
    }
   },
   "cell_type": "code",
   "source": "define_thresholds(df, variable='CELL CIRCULARITY')",
   "id": "3a6b9482b8264e0f",
   "outputs": [
    {
     "data": {
      "text/plain": [
       "interactive(children=(FloatRangeSlider(value=(0.0, 1.0), continuous_update=False, description='Thresholds:', m…"
      ],
      "application/vnd.jupyter.widget-view+json": {
       "version_major": 2,
       "version_minor": 0,
       "model_id": "f4ca7f4700b848fe9993ee4db8ad230a"
      }
     },
     "metadata": {},
     "output_type": "display_data"
    }
   ],
   "execution_count": 9
  },
  {
   "metadata": {
    "ExecuteTime": {
     "end_time": "2024-05-20T12:16:43.112215Z",
     "start_time": "2024-05-20T12:16:43.100378Z"
    }
   },
   "cell_type": "code",
   "source": [
    "circular = df[(df['CELL CIRCULARITY'] > 0.75)]\n",
    "print(f\"From total of {len(df)} cells, {len(df)-len(circular)} cells removed due to high cell circulation. Remaining: {len(circular)}\")"
   ],
   "id": "27551a5183bd0a7e",
   "outputs": [
    {
     "name": "stdout",
     "output_type": "stream",
     "text": [
      "From total of 39551 cells, 6950 cells removed due to high cell circulation. Remaining: 32601\n"
     ]
    }
   ],
   "execution_count": 10
  },
  {
   "cell_type": "code",
   "source": "define_thresholds(circular, variable='CELL AREA')",
   "metadata": {
    "collapsed": false,
    "ExecuteTime": {
     "end_time": "2024-05-20T12:16:56.800604Z",
     "start_time": "2024-05-20T12:16:56.668320Z"
    }
   },
   "id": "8fa9e66710d967a8",
   "outputs": [
    {
     "data": {
      "text/plain": [
       "interactive(children=(FloatRangeSlider(value=(30.0, 5111.0), continuous_update=False, description='Thresholds:…"
      ],
      "application/vnd.jupyter.widget-view+json": {
       "version_major": 2,
       "version_minor": 0,
       "model_id": "c02d31c22178467f87a0bc4bb3bd4cd3"
      }
     },
     "metadata": {},
     "output_type": "display_data"
    }
   ],
   "execution_count": 11
  },
  {
   "cell_type": "code",
   "source": "print(globals()['CELL AREA'])",
   "metadata": {
    "collapsed": false,
    "ExecuteTime": {
     "end_time": "2024-05-20T12:17:16.896478Z",
     "start_time": "2024-05-20T12:17:16.894415Z"
    }
   },
   "id": "25692faf3aafb8b4",
   "outputs": [
    {
     "name": "stdout",
     "output_type": "stream",
     "text": [
      "(250.0, 1600.0)\n"
     ]
    }
   ],
   "execution_count": 12
  },
  {
   "cell_type": "code",
   "source": [
    "good_size = subset_dataframe_by_thresholds(circular, 'CELL AREA')\n",
    "print(f\"From total of {len(circular)} cells, {len(circular)-len(good_size)} cells removed due to their size. Remaining: {len(good_size)}\")"
   ],
   "metadata": {
    "collapsed": false,
    "ExecuteTime": {
     "end_time": "2024-05-20T12:17:18.210157Z",
     "start_time": "2024-05-20T12:17:18.200437Z"
    }
   },
   "id": "9b5fa1f95df54f0a",
   "outputs": [
    {
     "name": "stdout",
     "output_type": "stream",
     "text": [
      "(250.0, 1600.0)\n",
      "From total of 32601 cells, 6351 cells removed due to their size. Remaining: 26250\n"
     ]
    }
   ],
   "execution_count": 13
  },
  {
   "cell_type": "code",
   "source": "define_thresholds(good_size, variable='CELL INTENSITY-MIN AF555')",
   "metadata": {
    "collapsed": false,
    "ExecuteTime": {
     "end_time": "2024-05-20T12:17:32.980549Z",
     "start_time": "2024-05-20T12:17:32.848114Z"
    }
   },
   "id": "1ccaa1336d868bd1",
   "outputs": [
    {
     "data": {
      "text/plain": [
       "interactive(children=(FloatRangeSlider(value=(40.0, 14302.0), continuous_update=False, description='Thresholds…"
      ],
      "application/vnd.jupyter.widget-view+json": {
       "version_major": 2,
       "version_minor": 0,
       "model_id": "0cdaa218338a4a7f856893b33e3dd9cf"
      }
     },
     "metadata": {},
     "output_type": "display_data"
    }
   ],
   "execution_count": 14
  },
  {
   "metadata": {
    "ExecuteTime": {
     "end_time": "2024-05-20T12:17:44.510131Z",
     "start_time": "2024-05-20T12:17:44.499917Z"
    }
   },
   "cell_type": "code",
   "source": [
    "min_threshold_555 = subset_dataframe_by_thresholds(good_size, 'CELL INTENSITY-MIN AF555')\n",
    "print(f\"From total of {len(good_size)} cells, {len(good_size)-len(min_threshold_555)} cells removed due MIN AF555. Remaining: {len(min_threshold_555)}\")"
   ],
   "id": "429cf7f05ce892f0",
   "outputs": [
    {
     "name": "stdout",
     "output_type": "stream",
     "text": [
      "(1467.0, 14302.0)\n",
      "From total of 26250 cells, 511 cells removed due MIN AF555. Remaining: 25739\n"
     ]
    }
   ],
   "execution_count": 15
  },
  {
   "metadata": {
    "ExecuteTime": {
     "end_time": "2024-05-20T12:17:54.299940Z",
     "start_time": "2024-05-20T12:17:54.168584Z"
    }
   },
   "cell_type": "code",
   "source": "define_thresholds(min_threshold_555, variable='CELL INTENSITY-MEAN AF555')",
   "id": "c6fd144314a4e48f",
   "outputs": [
    {
     "data": {
      "text/plain": [
       "interactive(children=(FloatRangeSlider(value=(1799.0, 16278.0), continuous_update=False, description='Threshol…"
      ],
      "application/vnd.jupyter.widget-view+json": {
       "version_major": 2,
       "version_minor": 0,
       "model_id": "65c4e662a2754d759c74fd5e103a181c"
      }
     },
     "metadata": {},
     "output_type": "display_data"
    }
   ],
   "execution_count": 16
  },
  {
   "metadata": {
    "ExecuteTime": {
     "end_time": "2024-05-20T12:18:48.854754Z",
     "start_time": "2024-05-20T12:18:48.849713Z"
    }
   },
   "cell_type": "code",
   "source": [
    "mean_threshold_555 = subset_dataframe_by_thresholds(min_threshold_555, 'CELL INTENSITY-MEAN AF555')\n",
    "print(f\"From total of {len(min_threshold_555)} cells, {len(min_threshold_555)-len(mean_threshold_555)} cells removed due to MEAN AF555. Remaining: {len(mean_threshold_555)}\")"
   ],
   "id": "d97e6916e46052ac",
   "outputs": [
    {
     "name": "stdout",
     "output_type": "stream",
     "text": [
      "(3391.0, 16278.0)\n",
      "From total of 25739 cells, 10627 cells removed due to MEAN AF555. Remaining: 15112\n"
     ]
    }
   ],
   "execution_count": 17
  },
  {
   "metadata": {
    "ExecuteTime": {
     "end_time": "2024-05-20T12:18:52.472069Z",
     "start_time": "2024-05-20T12:18:52.329253Z"
    }
   },
   "cell_type": "code",
   "source": "define_thresholds(mean_threshold_555, variable='CELL INTENSITY-MEDIAN AF555')",
   "id": "d0290d22ed65b33e",
   "outputs": [
    {
     "data": {
      "text/plain": [
       "interactive(children=(FloatRangeSlider(value=(2592.0, 16383.0), continuous_update=False, description='Threshol…"
      ],
      "application/vnd.jupyter.widget-view+json": {
       "version_major": 2,
       "version_minor": 0,
       "model_id": "60e6c0dd430e41eb948e03dfca2c08b6"
      }
     },
     "metadata": {},
     "output_type": "display_data"
    }
   ],
   "execution_count": 18
  },
  {
   "metadata": {
    "ExecuteTime": {
     "end_time": "2024-05-20T12:19:10.435Z",
     "start_time": "2024-05-20T12:19:10.430371Z"
    }
   },
   "cell_type": "code",
   "source": [
    "median_threshold_555 = subset_dataframe_by_thresholds(mean_threshold_555, 'CELL INTENSITY-MEDIAN AF555')\n",
    "print(f\"From total of {len(mean_threshold_555)} cells, {len(mean_threshold_555)-len(median_threshold_555)} cells removed due MEDIAN AF555. Remaining: {len(median_threshold_555)}\")"
   ],
   "id": "19e55bd753a0ea35",
   "outputs": [
    {
     "name": "stdout",
     "output_type": "stream",
     "text": [
      "(3695.2799999999997, 16383.0)\n",
      "From total of 15112 cells, 5035 cells removed due MEDIAN AF555. Remaining: 10077\n"
     ]
    }
   ],
   "execution_count": 19
  },
  {
   "metadata": {
    "ExecuteTime": {
     "end_time": "2024-05-20T12:19:32.950270Z",
     "start_time": "2024-05-20T12:19:32.835015Z"
    }
   },
   "cell_type": "code",
   "source": "define_thresholds(median_threshold_555, variable='CELL INTENSITY-INTEGRATED AF555')",
   "id": "ee0163f4b133be06",
   "outputs": [
    {
     "data": {
      "text/plain": [
       "interactive(children=(FloatRangeSlider(value=(9702261.0, 41347489792.0), continuous_update=False, description=…"
      ],
      "application/vnd.jupyter.widget-view+json": {
       "version_major": 2,
       "version_minor": 0,
       "model_id": "5bc332a5f131492683a149660c312996"
      }
     },
     "metadata": {},
     "output_type": "display_data"
    }
   ],
   "execution_count": 20
  },
  {
   "metadata": {
    "ExecuteTime": {
     "end_time": "2024-05-20T12:20:22.927829Z",
     "start_time": "2024-05-20T12:20:22.924266Z"
    }
   },
   "cell_type": "code",
   "source": [
    "integrated_threshold_555 = subset_dataframe_by_thresholds(median_threshold_555, 'CELL INTENSITY-INTEGRATED AF555')\n",
    "print(f\"From total of {len(median_threshold_555)} cells, {len(median_threshold_555)-len(integrated_threshold_555)} cells removed due INTEGRATED AF555. Remaining: {len(integrated_threshold_555)}\")"
   ],
   "id": "2ce102a6ca7ef6cb",
   "outputs": [
    {
     "name": "stdout",
     "output_type": "stream",
     "text": [
      "(836458011.62, 41347489792.0)\n",
      "From total of 10077 cells, 6083 cells removed due INTEGRATED AF555. Remaining: 3994\n"
     ]
    }
   ],
   "execution_count": 21
  },
  {
   "cell_type": "code",
   "source": [
    "sb.displot(data=integrated_threshold_555, x=\"CELL INTENSITY-MAX AF555\", y=\"CELL INTENSITY-MAX AF647\", kind='kde', rug=\"True\")\n",
    "plt.axvline(x=14000, color='r', linestyle='--')"
   ],
   "metadata": {
    "collapsed": false,
    "ExecuteTime": {
     "end_time": "2024-05-20T12:20:27.429516Z",
     "start_time": "2024-05-20T12:20:26.560371Z"
    }
   },
   "id": "3f8eba9b739f2739",
   "outputs": [
    {
     "data": {
      "text/plain": [
       "<matplotlib.lines.Line2D at 0x30b0c7f50>"
      ]
     },
     "execution_count": 22,
     "metadata": {},
     "output_type": "execute_result"
    },
    {
     "data": {
      "text/plain": [
       "<Figure size 500x500 with 1 Axes>"
      ],
      "image/png": "[encoded data removed]"
     },
     "metadata": {},
     "output_type": "display_data"
    }
   ],
   "execution_count": 22
  },
  {
   "metadata": {
    "ExecuteTime": {
     "end_time": "2024-05-20T12:41:47.812958Z",
     "start_time": "2024-05-20T12:41:47.810470Z"
    }
   },
   "cell_type": "code",
   "source": "len(integrated_threshold_555)",
   "id": "503cd84d0ba36cf4",
   "outputs": [
    {
     "data": {
      "text/plain": [
       "3994"
      ]
     },
     "execution_count": 27,
     "metadata": {},
     "output_type": "execute_result"
    }
   ],
   "execution_count": 27
  },
  {
   "metadata": {
    "ExecuteTime": {
     "end_time": "2024-05-20T12:41:49.135236Z",
     "start_time": "2024-05-20T12:41:49.132533Z"
    }
   },
   "cell_type": "code",
   "source": [
    "high_555_signal = integrated_threshold_555[integrated_threshold_555['CELL INTENSITY-MAX AF555'] > 14000]\n",
    "print(len(high_555_signal))"
   ],
   "id": "17da83b10f4a8903",
   "outputs": [
    {
     "name": "stdout",
     "output_type": "stream",
     "text": [
      "1581\n"
     ]
    }
   ],
   "execution_count": 28
  },
  {
   "metadata": {
    "ExecuteTime": {
     "end_time": "2024-05-20T12:41:51.689799Z",
     "start_time": "2024-05-20T12:41:51.677235Z"
    }
   },
   "cell_type": "code",
   "source": "integrated_threshold_555[integrated_threshold_555['CELL INTENSITY-MAX AF555'] < 14000]",
   "id": "fc32496d3be26c47",
   "outputs": [
    {
     "data": {
      "text/plain": [
       "                                                   series   path  \\\n",
       "42314   20240326_Onur_NG_555cFos_647NeuN_800Gad67_slid...  Items   \n",
       "42330   20240326_Onur_NG_555cFos_647NeuN_800Gad67_slid...  Items   \n",
       "44740   20240326_Onur_NG_555cFos_647NeuN_800Gad67_slid...  Items   \n",
       "44753   20240326_Onur_NG_555cFos_647NeuN_800Gad67_slid...  Items   \n",
       "44784   20240326_Onur_NG_555cFos_647NeuN_800Gad67_slid...  Items   \n",
       "...                                                   ...    ...   \n",
       "199627  20240326_Onur_NG_555cFos_647NeuN_800Gad67_slid...  Items   \n",
       "199647  20240326_Onur_NG_555cFos_647NeuN_800Gad67_slid...  Items   \n",
       "199663  20240326_Onur_NG_555cFos_647NeuN_800Gad67_slid...  Items   \n",
       "199738  20240326_Onur_NG_555cFos_647NeuN_800Gad67_slid...  Items   \n",
       "199747  20240326_Onur_NG_555cFos_647NeuN_800Gad67_slid...  Items   \n",
       "\n",
       "                              name   type  item id  fm id  il id  \\\n",
       "42314   p1_wA1_t1_m400_c0_z1_l1_o0  items       16     89     89   \n",
       "42330   p1_wA1_t1_m400_c0_z1_l1_o0  items       32     89     89   \n",
       "44740   p1_wA1_t1_m410_c0_z1_l1_o0  items      153     95     95   \n",
       "44753   p1_wA1_t1_m410_c0_z1_l1_o0  items      166     95     95   \n",
       "44784   p1_wA1_t1_m410_c0_z1_l1_o0  items      200     95     95   \n",
       "...                            ...    ...      ...    ...    ...   \n",
       "199627  p1_wA1_t1_m587_c0_z1_l1_o0  items       58    470    470   \n",
       "199647  p1_wA1_t1_m587_c0_z1_l1_o0  items       79    470    470   \n",
       "199663  p1_wA1_t1_m587_c0_z1_l1_o0  items       95    470    470   \n",
       "199738  p1_wA1_t1_m587_c0_z1_l1_o0  items      182    470    470   \n",
       "199747  p1_wA1_t1_m587_c0_z1_l1_o0  items      193    470    470   \n",
       "\n",
       "        CELL METCENTER-X  CELL METCENTER-Y  CELL AREA  ...  \\\n",
       "42314       -1891.752319     -23966.175781        344  ...   \n",
       "42330       -1960.151978     -23836.412109        460  ...   \n",
       "44740       -7127.429688     -22376.074219        774  ...   \n",
       "44753       -7146.856445     -22362.554688        548  ...   \n",
       "44784       -7067.132324     -22335.591797       1036  ...   \n",
       "...                  ...               ...        ...  ...   \n",
       "199627      -7526.964844     -24964.376953       1465  ...   \n",
       "199647      -7649.780762     -24950.777344        260  ...   \n",
       "199663      -7172.482422     -24932.115234        819  ...   \n",
       "199738      -7252.605469     -24813.503906        911  ...   \n",
       "199747      -7565.891113     -24800.363281        927  ...   \n",
       "\n",
       "        CELL WINDOWED-INTENSITY-STDDEV AF647  \\\n",
       "42314                               0.143719   \n",
       "42330                               0.167186   \n",
       "44740                               0.164069   \n",
       "44753                               0.120178   \n",
       "44784                               0.171894   \n",
       "...                                      ...   \n",
       "199627                              0.010617   \n",
       "199647                              0.143775   \n",
       "199663                              0.036403   \n",
       "199738                              0.028404   \n",
       "199747                              0.065452   \n",
       "\n",
       "        CELL WINDOWED-INTENSITY-STDDEV AF800  \\\n",
       "42314                               0.076941   \n",
       "42330                               0.149076   \n",
       "44740                               0.166381   \n",
       "44753                               0.053862   \n",
       "44784                               0.023146   \n",
       "...                                      ...   \n",
       "199627                              0.028975   \n",
       "199647                              0.032840   \n",
       "199663                              0.073199   \n",
       "199738                              0.030920   \n",
       "199747                              0.116623   \n",
       "\n",
       "        CELL WINDOWED-INTENSITY-STDDEV SYTOG  REGION COMBINED Region 4  \\\n",
       "42314                               0.208904                       0.0   \n",
       "42330                               0.205751                       0.0   \n",
       "44740                               0.203603                       0.0   \n",
       "44753                               0.142615                       0.0   \n",
       "44784                               0.159147                       0.0   \n",
       "...                                      ...                       ...   \n",
       "199627                              0.090470                       0.0   \n",
       "199647                              0.180137                       0.0   \n",
       "199663                              0.209931                       0.0   \n",
       "199738                              0.084999                       0.0   \n",
       "199747                              0.150359                       0.0   \n",
       "\n",
       "        REGION COMBINED Region 3  REGION COMBINED Region 2  \\\n",
       "42314                        0.0                       1.0   \n",
       "42330                        0.0                       1.0   \n",
       "44740                        0.0                       1.0   \n",
       "44753                        0.0                       1.0   \n",
       "44784                        0.0                       1.0   \n",
       "...                          ...                       ...   \n",
       "199627                       0.0                       1.0   \n",
       "199647                       0.0                       1.0   \n",
       "199663                       0.0                       1.0   \n",
       "199738                       0.0                       1.0   \n",
       "199747                       0.0                       1.0   \n",
       "\n",
       "        REGION COMBINED Region 1  REGION COMBINED Region 5     rowid  \\\n",
       "42314                        0.0                       0.0   42315.0   \n",
       "42330                        0.0                       0.0   42331.0   \n",
       "44740                        0.0                       0.0   44741.0   \n",
       "44753                        0.0                       0.0   44754.0   \n",
       "44784                        0.0                       0.0   44785.0   \n",
       "...                          ...                       ...       ...   \n",
       "199627                       0.0                       0.0  199628.0   \n",
       "199647                       0.0                       0.0  199648.0   \n",
       "199663                       0.0                       0.0  199664.0   \n",
       "199738                       0.0                       0.0  199739.0   \n",
       "199747                       0.0                       0.0  199748.0   \n",
       "\n",
       "        Unnamed: 137  \n",
       "42314            NaN  \n",
       "42330            NaN  \n",
       "44740            NaN  \n",
       "44753            NaN  \n",
       "44784            NaN  \n",
       "...              ...  \n",
       "199627           NaN  \n",
       "199647           NaN  \n",
       "199663           NaN  \n",
       "199738           NaN  \n",
       "199747           NaN  \n",
       "\n",
       "[2413 rows x 137 columns]"
      ],
      "text/html": [
       "<div>\n",
       "<style scoped>\n",
       "    .dataframe tbody tr th:only-of-type {\n",
       "        vertical-align: middle;\n",
       "    }\n",
       "\n",
       "    .dataframe tbody tr th {\n",
       "        vertical-align: top;\n",
       "    }\n",
       "\n",
       "    .dataframe thead th {\n",
       "        text-align: right;\n",
       "    }\n",
       "</style>\n",
       "<table border=\"1\" class=\"dataframe\">\n",
       "  <thead>\n",
       "    <tr style=\"text-align: right;\">\n",
       "      <th></th>\n",
       "      <th>series</th>\n",
       "      <th>path</th>\n",
       "      <th>name</th>\n",
       "      <th>type</th>\n",
       "      <th>item id</th>\n",
       "      <th>fm id</th>\n",
       "      <th>il id</th>\n",
       "      <th>CELL METCENTER-X</th>\n",
       "      <th>CELL METCENTER-Y</th>\n",
       "      <th>CELL AREA</th>\n",
       "      <th>...</th>\n",
       "      <th>CELL WINDOWED-INTENSITY-STDDEV AF647</th>\n",
       "      <th>CELL WINDOWED-INTENSITY-STDDEV AF800</th>\n",
       "      <th>CELL WINDOWED-INTENSITY-STDDEV SYTOG</th>\n",
       "      <th>REGION COMBINED Region 4</th>\n",
       "      <th>REGION COMBINED Region 3</th>\n",
       "      <th>REGION COMBINED Region 2</th>\n",
       "      <th>REGION COMBINED Region 1</th>\n",
       "      <th>REGION COMBINED Region 5</th>\n",
       "      <th>rowid</th>\n",
       "      <th>Unnamed: 137</th>\n",
       "    </tr>\n",
       "  </thead>\n",
       "  <tbody>\n",
       "    <tr>\n",
       "      <th>42314</th>\n",
       "      <td>20240326_Onur_NG_555cFos_647NeuN_800Gad67_slid...</td>\n",
       "      <td>Items</td>\n",
       "      <td>p1_wA1_t1_m400_c0_z1_l1_o0</td>\n",
       "      <td>items</td>\n",
       "      <td>16</td>\n",
       "      <td>89</td>\n",
       "      <td>89</td>\n",
       "      <td>-1891.752319</td>\n",
       "      <td>-23966.175781</td>\n",
       "      <td>344</td>\n",
       "      <td>...</td>\n",
       "      <td>0.143719</td>\n",
       "      <td>0.076941</td>\n",
       "      <td>0.208904</td>\n",
       "      <td>0.0</td>\n",
       "      <td>0.0</td>\n",
       "      <td>1.0</td>\n",
       "      <td>0.0</td>\n",
       "      <td>0.0</td>\n",
       "      <td>42315.0</td>\n",
       "      <td>NaN</td>\n",
       "    </tr>\n",
       "    <tr>\n",
       "      <th>42330</th>\n",
       "      <td>20240326_Onur_NG_555cFos_647NeuN_800Gad67_slid...</td>\n",
       "      <td>Items</td>\n",
       "      <td>p1_wA1_t1_m400_c0_z1_l1_o0</td>\n",
       "      <td>items</td>\n",
       "      <td>32</td>\n",
       "      <td>89</td>\n",
       "      <td>89</td>\n",
       "      <td>-1960.151978</td>\n",
       "      <td>-23836.412109</td>\n",
       "      <td>460</td>\n",
       "      <td>...</td>\n",
       "      <td>0.167186</td>\n",
       "      <td>0.149076</td>\n",
       "      <td>0.205751</td>\n",
       "      <td>0.0</td>\n",
       "      <td>0.0</td>\n",
       "      <td>1.0</td>\n",
       "      <td>0.0</td>\n",
       "      <td>0.0</td>\n",
       "      <td>42331.0</td>\n",
       "      <td>NaN</td>\n",
       "    </tr>\n",
       "    <tr>\n",
       "      <th>44740</th>\n",
       "      <td>20240326_Onur_NG_555cFos_647NeuN_800Gad67_slid...</td>\n",
       "      <td>Items</td>\n",
       "      <td>p1_wA1_t1_m410_c0_z1_l1_o0</td>\n",
       "      <td>items</td>\n",
       "      <td>153</td>\n",
       "      <td>95</td>\n",
       "      <td>95</td>\n",
       "      <td>-7127.429688</td>\n",
       "      <td>-22376.074219</td>\n",
       "      <td>774</td>\n",
       "      <td>...</td>\n",
       "      <td>0.164069</td>\n",
       "      <td>0.166381</td>\n",
       "      <td>0.203603</td>\n",
       "      <td>0.0</td>\n",
       "      <td>0.0</td>\n",
       "      <td>1.0</td>\n",
       "      <td>0.0</td>\n",
       "      <td>0.0</td>\n",
       "      <td>44741.0</td>\n",
       "      <td>NaN</td>\n",
       "    </tr>\n",
       "    <tr>\n",
       "      <th>44753</th>\n",
       "      <td>20240326_Onur_NG_555cFos_647NeuN_800Gad67_slid...</td>\n",
       "      <td>Items</td>\n",
       "      <td>p1_wA1_t1_m410_c0_z1_l1_o0</td>\n",
       "      <td>items</td>\n",
       "      <td>166</td>\n",
       "      <td>95</td>\n",
       "      <td>95</td>\n",
       "      <td>-7146.856445</td>\n",
       "      <td>-22362.554688</td>\n",
       "      <td>548</td>\n",
       "      <td>...</td>\n",
       "      <td>0.120178</td>\n",
       "      <td>0.053862</td>\n",
       "      <td>0.142615</td>\n",
       "      <td>0.0</td>\n",
       "      <td>0.0</td>\n",
       "      <td>1.0</td>\n",
       "      <td>0.0</td>\n",
       "      <td>0.0</td>\n",
       "      <td>44754.0</td>\n",
       "      <td>NaN</td>\n",
       "    </tr>\n",
       "    <tr>\n",
       "      <th>44784</th>\n",
       "      <td>20240326_Onur_NG_555cFos_647NeuN_800Gad67_slid...</td>\n",
       "      <td>Items</td>\n",
       "      <td>p1_wA1_t1_m410_c0_z1_l1_o0</td>\n",
       "      <td>items</td>\n",
       "      <td>200</td>\n",
       "      <td>95</td>\n",
       "      <td>95</td>\n",
       "      <td>-7067.132324</td>\n",
       "      <td>-22335.591797</td>\n",
       "      <td>1036</td>\n",
       "      <td>...</td>\n",
       "      <td>0.171894</td>\n",
       "      <td>0.023146</td>\n",
       "      <td>0.159147</td>\n",
       "      <td>0.0</td>\n",
       "      <td>0.0</td>\n",
       "      <td>1.0</td>\n",
       "      <td>0.0</td>\n",
       "      <td>0.0</td>\n",
       "      <td>44785.0</td>\n",
       "      <td>NaN</td>\n",
       "    </tr>\n",
       "    <tr>\n",
       "      <th>...</th>\n",
       "      <td>...</td>\n",
       "      <td>...</td>\n",
       "      <td>...</td>\n",
       "      <td>...</td>\n",
       "      <td>...</td>\n",
       "      <td>...</td>\n",
       "      <td>...</td>\n",
       "      <td>...</td>\n",
       "      <td>...</td>\n",
       "      <td>...</td>\n",
       "      <td>...</td>\n",
       "      <td>...</td>\n",
       "      <td>...</td>\n",
       "      <td>...</td>\n",
       "      <td>...</td>\n",
       "      <td>...</td>\n",
       "      <td>...</td>\n",
       "      <td>...</td>\n",
       "      <td>...</td>\n",
       "      <td>...</td>\n",
       "      <td>...</td>\n",
       "    </tr>\n",
       "    <tr>\n",
       "      <th>199627</th>\n",
       "      <td>20240326_Onur_NG_555cFos_647NeuN_800Gad67_slid...</td>\n",
       "      <td>Items</td>\n",
       "      <td>p1_wA1_t1_m587_c0_z1_l1_o0</td>\n",
       "      <td>items</td>\n",
       "      <td>58</td>\n",
       "      <td>470</td>\n",
       "      <td>470</td>\n",
       "      <td>-7526.964844</td>\n",
       "      <td>-24964.376953</td>\n",
       "      <td>1465</td>\n",
       "      <td>...</td>\n",
       "      <td>0.010617</td>\n",
       "      <td>0.028975</td>\n",
       "      <td>0.090470</td>\n",
       "      <td>0.0</td>\n",
       "      <td>0.0</td>\n",
       "      <td>1.0</td>\n",
       "      <td>0.0</td>\n",
       "      <td>0.0</td>\n",
       "      <td>199628.0</td>\n",
       "      <td>NaN</td>\n",
       "    </tr>\n",
       "    <tr>\n",
       "      <th>199647</th>\n",
       "      <td>20240326_Onur_NG_555cFos_647NeuN_800Gad67_slid...</td>\n",
       "      <td>Items</td>\n",
       "      <td>p1_wA1_t1_m587_c0_z1_l1_o0</td>\n",
       "      <td>items</td>\n",
       "      <td>79</td>\n",
       "      <td>470</td>\n",
       "      <td>470</td>\n",
       "      <td>-7649.780762</td>\n",
       "      <td>-24950.777344</td>\n",
       "      <td>260</td>\n",
       "      <td>...</td>\n",
       "      <td>0.143775</td>\n",
       "      <td>0.032840</td>\n",
       "      <td>0.180137</td>\n",
       "      <td>0.0</td>\n",
       "      <td>0.0</td>\n",
       "      <td>1.0</td>\n",
       "      <td>0.0</td>\n",
       "      <td>0.0</td>\n",
       "      <td>199648.0</td>\n",
       "      <td>NaN</td>\n",
       "    </tr>\n",
       "    <tr>\n",
       "      <th>199663</th>\n",
       "      <td>20240326_Onur_NG_555cFos_647NeuN_800Gad67_slid...</td>\n",
       "      <td>Items</td>\n",
       "      <td>p1_wA1_t1_m587_c0_z1_l1_o0</td>\n",
       "      <td>items</td>\n",
       "      <td>95</td>\n",
       "      <td>470</td>\n",
       "      <td>470</td>\n",
       "      <td>-7172.482422</td>\n",
       "      <td>-24932.115234</td>\n",
       "      <td>819</td>\n",
       "      <td>...</td>\n",
       "      <td>0.036403</td>\n",
       "      <td>0.073199</td>\n",
       "      <td>0.209931</td>\n",
       "      <td>0.0</td>\n",
       "      <td>0.0</td>\n",
       "      <td>1.0</td>\n",
       "      <td>0.0</td>\n",
       "      <td>0.0</td>\n",
       "      <td>199664.0</td>\n",
       "      <td>NaN</td>\n",
       "    </tr>\n",
       "    <tr>\n",
       "      <th>199738</th>\n",
       "      <td>20240326_Onur_NG_555cFos_647NeuN_800Gad67_slid...</td>\n",
       "      <td>Items</td>\n",
       "      <td>p1_wA1_t1_m587_c0_z1_l1_o0</td>\n",
       "      <td>items</td>\n",
       "      <td>182</td>\n",
       "      <td>470</td>\n",
       "      <td>470</td>\n",
       "      <td>-7252.605469</td>\n",
       "      <td>-24813.503906</td>\n",
       "      <td>911</td>\n",
       "      <td>...</td>\n",
       "      <td>0.028404</td>\n",
       "      <td>0.030920</td>\n",
       "      <td>0.084999</td>\n",
       "      <td>0.0</td>\n",
       "      <td>0.0</td>\n",
       "      <td>1.0</td>\n",
       "      <td>0.0</td>\n",
       "      <td>0.0</td>\n",
       "      <td>199739.0</td>\n",
       "      <td>NaN</td>\n",
       "    </tr>\n",
       "    <tr>\n",
       "      <th>199747</th>\n",
       "      <td>20240326_Onur_NG_555cFos_647NeuN_800Gad67_slid...</td>\n",
       "      <td>Items</td>\n",
       "      <td>p1_wA1_t1_m587_c0_z1_l1_o0</td>\n",
       "      <td>items</td>\n",
       "      <td>193</td>\n",
       "      <td>470</td>\n",
       "      <td>470</td>\n",
       "      <td>-7565.891113</td>\n",
       "      <td>-24800.363281</td>\n",
       "      <td>927</td>\n",
       "      <td>...</td>\n",
       "      <td>0.065452</td>\n",
       "      <td>0.116623</td>\n",
       "      <td>0.150359</td>\n",
       "      <td>0.0</td>\n",
       "      <td>0.0</td>\n",
       "      <td>1.0</td>\n",
       "      <td>0.0</td>\n",
       "      <td>0.0</td>\n",
       "      <td>199748.0</td>\n",
       "      <td>NaN</td>\n",
       "    </tr>\n",
       "  </tbody>\n",
       "</table>\n",
       "<p>2413 rows × 137 columns</p>\n",
       "</div>"
      ]
     },
     "execution_count": 29,
     "metadata": {},
     "output_type": "execute_result"
    }
   ],
   "execution_count": 29
  },
  {
   "cell_type": "code",
   "source": [
    "sb.displot(data=integrated_threshold_555, x=\"CELL INTENSITY-MAX AF555\", y=\"CELL INTENSITY-MAX AF647\", rug=\"True\")\n",
    "plt.legend()"
   ],
   "metadata": {
    "collapsed": false,
    "ExecuteTime": {
     "end_time": "2024-05-20T12:41:55.357949Z",
     "start_time": "2024-05-20T12:41:55.191372Z"
    }
   },
   "id": "89c182db318a829a",
   "outputs": [
    {
     "name": "stderr",
     "output_type": "stream",
     "text": [
      "No artists with labels found to put in legend.  Note that artists whose label start with an underscore are ignored when legend() is called with no argument.\n"
     ]
    },
    {
     "data": {
      "text/plain": [
       "<matplotlib.legend.Legend at 0x34023f710>"
      ]
     },
     "execution_count": 30,
     "metadata": {},
     "output_type": "execute_result"
    },
    {
     "data": {
      "text/plain": [
       "<Figure size 500x500 with 1 Axes>"
      ],
      "image/png": "[encoded data removed]"
     },
     "metadata": {},
     "output_type": "display_data"
    }
   ],
   "execution_count": 30
  },
  {
   "metadata": {
    "ExecuteTime": {
     "end_time": "2024-05-20T14:40:58.250318Z",
     "start_time": "2024-05-20T14:40:58.240030Z"
    }
   },
   "cell_type": "code",
   "source": "high_555_signal",
   "id": "238879ef5bddb286",
   "outputs": [
    {
     "data": {
      "text/plain": [
       "                                                   series   path  \\\n",
       "44656   20240326_Onur_NG_555cFos_647NeuN_800Gad67_slid...  Items   \n",
       "44670   20240326_Onur_NG_555cFos_647NeuN_800Gad67_slid...  Items   \n",
       "44702   20240326_Onur_NG_555cFos_647NeuN_800Gad67_slid...  Items   \n",
       "44704   20240326_Onur_NG_555cFos_647NeuN_800Gad67_slid...  Items   \n",
       "44734   20240326_Onur_NG_555cFos_647NeuN_800Gad67_slid...  Items   \n",
       "...                                                   ...    ...   \n",
       "199733  20240326_Onur_NG_555cFos_647NeuN_800Gad67_slid...  Items   \n",
       "199736  20240326_Onur_NG_555cFos_647NeuN_800Gad67_slid...  Items   \n",
       "199744  20240326_Onur_NG_555cFos_647NeuN_800Gad67_slid...  Items   \n",
       "199746  20240326_Onur_NG_555cFos_647NeuN_800Gad67_slid...  Items   \n",
       "199761  20240326_Onur_NG_555cFos_647NeuN_800Gad67_slid...  Items   \n",
       "\n",
       "                              name   type  item id  fm id  il id  \\\n",
       "44656   p1_wA1_t1_m410_c0_z1_l1_o0  items       49     95     95   \n",
       "44670   p1_wA1_t1_m410_c0_z1_l1_o0  items       74     95     95   \n",
       "44702   p1_wA1_t1_m410_c0_z1_l1_o0  items      113     95     95   \n",
       "44704   p1_wA1_t1_m410_c0_z1_l1_o0  items      115     95     95   \n",
       "44734   p1_wA1_t1_m410_c0_z1_l1_o0  items      147     95     95   \n",
       "...                            ...    ...      ...    ...    ...   \n",
       "199733  p1_wA1_t1_m587_c0_z1_l1_o0  items      177    470    470   \n",
       "199736  p1_wA1_t1_m587_c0_z1_l1_o0  items      180    470    470   \n",
       "199744  p1_wA1_t1_m587_c0_z1_l1_o0  items      188    470    470   \n",
       "199746  p1_wA1_t1_m587_c0_z1_l1_o0  items      190    470    470   \n",
       "199761  p1_wA1_t1_m587_c0_z1_l1_o0  items      215    470    470   \n",
       "\n",
       "        CELL METCENTER-X  CELL METCENTER-Y  CELL AREA  ...  \\\n",
       "44656       -7033.807129     -22445.248047        556  ...   \n",
       "44670       -7106.711914     -22429.767578        923  ...   \n",
       "44702       -7109.700195     -22405.738281        711  ...   \n",
       "44704       -7409.506348     -22404.863281       1075  ...   \n",
       "44734       -7364.495605     -22380.455078       1048  ...   \n",
       "...                  ...               ...        ...  ...   \n",
       "199733      -7154.093750     -24822.787109        496  ...   \n",
       "199736      -7286.207520     -24817.599609        965  ...   \n",
       "199744      -7244.534668     -24806.484375        783  ...   \n",
       "199746      -7295.278809     -24805.242188        542  ...   \n",
       "199761      -7582.562988     -24761.439453       1005  ...   \n",
       "\n",
       "        CELL WINDOWED-INTENSITY-STDDEV AF647  \\\n",
       "44656                               0.085478   \n",
       "44670                               0.178659   \n",
       "44702                               0.192377   \n",
       "44704                               0.127939   \n",
       "44734                               0.145795   \n",
       "...                                      ...   \n",
       "199733                              0.053558   \n",
       "199736                              0.018872   \n",
       "199744                              0.032476   \n",
       "199746                              0.022872   \n",
       "199761                              0.027909   \n",
       "\n",
       "        CELL WINDOWED-INTENSITY-STDDEV AF800  \\\n",
       "44656                               0.034645   \n",
       "44670                               0.025422   \n",
       "44702                               0.031346   \n",
       "44704                               0.037525   \n",
       "44734                               0.039726   \n",
       "...                                      ...   \n",
       "199733                              0.052087   \n",
       "199736                              0.059079   \n",
       "199744                              0.063305   \n",
       "199746                              0.082915   \n",
       "199761                              0.080274   \n",
       "\n",
       "        CELL WINDOWED-INTENSITY-STDDEV SYTOG  REGION COMBINED Region 4  \\\n",
       "44656                               0.136210                       0.0   \n",
       "44670                               0.209225                       0.0   \n",
       "44702                               0.209856                       0.0   \n",
       "44704                               0.127899                       0.0   \n",
       "44734                               0.169230                       0.0   \n",
       "...                                      ...                       ...   \n",
       "199733                              0.081629                       0.0   \n",
       "199736                              0.155367                       0.0   \n",
       "199744                              0.093131                       0.0   \n",
       "199746                              0.061553                       0.0   \n",
       "199761                              0.188349                       0.0   \n",
       "\n",
       "        REGION COMBINED Region 3  REGION COMBINED Region 2  \\\n",
       "44656                        0.0                       1.0   \n",
       "44670                        0.0                       1.0   \n",
       "44702                        0.0                       1.0   \n",
       "44704                        0.0                       1.0   \n",
       "44734                        0.0                       1.0   \n",
       "...                          ...                       ...   \n",
       "199733                       0.0                       1.0   \n",
       "199736                       0.0                       1.0   \n",
       "199744                       0.0                       1.0   \n",
       "199746                       0.0                       1.0   \n",
       "199761                       0.0                       1.0   \n",
       "\n",
       "        REGION COMBINED Region 1  REGION COMBINED Region 5     rowid  \\\n",
       "44656                        0.0                       0.0   44657.0   \n",
       "44670                        0.0                       0.0   44671.0   \n",
       "44702                        0.0                       0.0   44703.0   \n",
       "44704                        0.0                       0.0   44705.0   \n",
       "44734                        0.0                       0.0   44735.0   \n",
       "...                          ...                       ...       ...   \n",
       "199733                       0.0                       0.0  199734.0   \n",
       "199736                       0.0                       0.0  199737.0   \n",
       "199744                       0.0                       0.0  199745.0   \n",
       "199746                       0.0                       0.0  199747.0   \n",
       "199761                       0.0                       0.0  199762.0   \n",
       "\n",
       "        Unnamed: 137  \n",
       "44656            NaN  \n",
       "44670            NaN  \n",
       "44702            NaN  \n",
       "44704            NaN  \n",
       "44734            NaN  \n",
       "...              ...  \n",
       "199733           NaN  \n",
       "199736           NaN  \n",
       "199744           NaN  \n",
       "199746           NaN  \n",
       "199761           NaN  \n",
       "\n",
       "[1581 rows x 137 columns]"
      ],
      "text/html": [
       "<div>\n",
       "<style scoped>\n",
       "    .dataframe tbody tr th:only-of-type {\n",
       "        vertical-align: middle;\n",
       "    }\n",
       "\n",
       "    .dataframe tbody tr th {\n",
       "        vertical-align: top;\n",
       "    }\n",
       "\n",
       "    .dataframe thead th {\n",
       "        text-align: right;\n",
       "    }\n",
       "</style>\n",
       "<table border=\"1\" class=\"dataframe\">\n",
       "  <thead>\n",
       "    <tr style=\"text-align: right;\">\n",
       "      <th></th>\n",
       "      <th>series</th>\n",
       "      <th>path</th>\n",
       "      <th>name</th>\n",
       "      <th>type</th>\n",
       "      <th>item id</th>\n",
       "      <th>fm id</th>\n",
       "      <th>il id</th>\n",
       "      <th>CELL METCENTER-X</th>\n",
       "      <th>CELL METCENTER-Y</th>\n",
       "      <th>CELL AREA</th>\n",
       "      <th>...</th>\n",
       "      <th>CELL WINDOWED-INTENSITY-STDDEV AF647</th>\n",
       "      <th>CELL WINDOWED-INTENSITY-STDDEV AF800</th>\n",
       "      <th>CELL WINDOWED-INTENSITY-STDDEV SYTOG</th>\n",
       "      <th>REGION COMBINED Region 4</th>\n",
       "      <th>REGION COMBINED Region 3</th>\n",
       "      <th>REGION COMBINED Region 2</th>\n",
       "      <th>REGION COMBINED Region 1</th>\n",
       "      <th>REGION COMBINED Region 5</th>\n",
       "      <th>rowid</th>\n",
       "      <th>Unnamed: 137</th>\n",
       "    </tr>\n",
       "  </thead>\n",
       "  <tbody>\n",
       "    <tr>\n",
       "      <th>44656</th>\n",
       "      <td>20240326_Onur_NG_555cFos_647NeuN_800Gad67_slid...</td>\n",
       "      <td>Items</td>\n",
       "      <td>p1_wA1_t1_m410_c0_z1_l1_o0</td>\n",
       "      <td>items</td>\n",
       "      <td>49</td>\n",
       "      <td>95</td>\n",
       "      <td>95</td>\n",
       "      <td>-7033.807129</td>\n",
       "      <td>-22445.248047</td>\n",
       "      <td>556</td>\n",
       "      <td>...</td>\n",
       "      <td>0.085478</td>\n",
       "      <td>0.034645</td>\n",
       "      <td>0.136210</td>\n",
       "      <td>0.0</td>\n",
       "      <td>0.0</td>\n",
       "      <td>1.0</td>\n",
       "      <td>0.0</td>\n",
       "      <td>0.0</td>\n",
       "      <td>44657.0</td>\n",
       "      <td>NaN</td>\n",
       "    </tr>\n",
       "    <tr>\n",
       "      <th>44670</th>\n",
       "      <td>20240326_Onur_NG_555cFos_647NeuN_800Gad67_slid...</td>\n",
       "      <td>Items</td>\n",
       "      <td>p1_wA1_t1_m410_c0_z1_l1_o0</td>\n",
       "      <td>items</td>\n",
       "      <td>74</td>\n",
       "      <td>95</td>\n",
       "      <td>95</td>\n",
       "      <td>-7106.711914</td>\n",
       "      <td>-22429.767578</td>\n",
       "      <td>923</td>\n",
       "      <td>...</td>\n",
       "      <td>0.178659</td>\n",
       "      <td>0.025422</td>\n",
       "      <td>0.209225</td>\n",
       "      <td>0.0</td>\n",
       "      <td>0.0</td>\n",
       "      <td>1.0</td>\n",
       "      <td>0.0</td>\n",
       "      <td>0.0</td>\n",
       "      <td>44671.0</td>\n",
       "      <td>NaN</td>\n",
       "    </tr>\n",
       "    <tr>\n",
       "      <th>44702</th>\n",
       "      <td>20240326_Onur_NG_555cFos_647NeuN_800Gad67_slid...</td>\n",
       "      <td>Items</td>\n",
       "      <td>p1_wA1_t1_m410_c0_z1_l1_o0</td>\n",
       "      <td>items</td>\n",
       "      <td>113</td>\n",
       "      <td>95</td>\n",
       "      <td>95</td>\n",
       "      <td>-7109.700195</td>\n",
       "      <td>-22405.738281</td>\n",
       "      <td>711</td>\n",
       "      <td>...</td>\n",
       "      <td>0.192377</td>\n",
       "      <td>0.031346</td>\n",
       "      <td>0.209856</td>\n",
       "      <td>0.0</td>\n",
       "      <td>0.0</td>\n",
       "      <td>1.0</td>\n",
       "      <td>0.0</td>\n",
       "      <td>0.0</td>\n",
       "      <td>44703.0</td>\n",
       "      <td>NaN</td>\n",
       "    </tr>\n",
       "    <tr>\n",
       "      <th>44704</th>\n",
       "      <td>20240326_Onur_NG_555cFos_647NeuN_800Gad67_slid...</td>\n",
       "      <td>Items</td>\n",
       "      <td>p1_wA1_t1_m410_c0_z1_l1_o0</td>\n",
       "      <td>items</td>\n",
       "      <td>115</td>\n",
       "      <td>95</td>\n",
       "      <td>95</td>\n",
       "      <td>-7409.506348</td>\n",
       "      <td>-22404.863281</td>\n",
       "      <td>1075</td>\n",
       "      <td>...</td>\n",
       "      <td>0.127939</td>\n",
       "      <td>0.037525</td>\n",
       "      <td>0.127899</td>\n",
       "      <td>0.0</td>\n",
       "      <td>0.0</td>\n",
       "      <td>1.0</td>\n",
       "      <td>0.0</td>\n",
       "      <td>0.0</td>\n",
       "      <td>44705.0</td>\n",
       "      <td>NaN</td>\n",
       "    </tr>\n",
       "    <tr>\n",
       "      <th>44734</th>\n",
       "      <td>20240326_Onur_NG_555cFos_647NeuN_800Gad67_slid...</td>\n",
       "      <td>Items</td>\n",
       "      <td>p1_wA1_t1_m410_c0_z1_l1_o0</td>\n",
       "      <td>items</td>\n",
       "      <td>147</td>\n",
       "      <td>95</td>\n",
       "      <td>95</td>\n",
       "      <td>-7364.495605</td>\n",
       "      <td>-22380.455078</td>\n",
       "      <td>1048</td>\n",
       "      <td>...</td>\n",
       "      <td>0.145795</td>\n",
       "      <td>0.039726</td>\n",
       "      <td>0.169230</td>\n",
       "      <td>0.0</td>\n",
       "      <td>0.0</td>\n",
       "      <td>1.0</td>\n",
       "      <td>0.0</td>\n",
       "      <td>0.0</td>\n",
       "      <td>44735.0</td>\n",
       "      <td>NaN</td>\n",
       "    </tr>\n",
       "    <tr>\n",
       "      <th>...</th>\n",
       "      <td>...</td>\n",
       "      <td>...</td>\n",
       "      <td>...</td>\n",
       "      <td>...</td>\n",
       "      <td>...</td>\n",
       "      <td>...</td>\n",
       "      <td>...</td>\n",
       "      <td>...</td>\n",
       "      <td>...</td>\n",
       "      <td>...</td>\n",
       "      <td>...</td>\n",
       "      <td>...</td>\n",
       "      <td>...</td>\n",
       "      <td>...</td>\n",
       "      <td>...</td>\n",
       "      <td>...</td>\n",
       "      <td>...</td>\n",
       "      <td>...</td>\n",
       "      <td>...</td>\n",
       "      <td>...</td>\n",
       "      <td>...</td>\n",
       "    </tr>\n",
       "    <tr>\n",
       "      <th>199733</th>\n",
       "      <td>20240326_Onur_NG_555cFos_647NeuN_800Gad67_slid...</td>\n",
       "      <td>Items</td>\n",
       "      <td>p1_wA1_t1_m587_c0_z1_l1_o0</td>\n",
       "      <td>items</td>\n",
       "      <td>177</td>\n",
       "      <td>470</td>\n",
       "      <td>470</td>\n",
       "      <td>-7154.093750</td>\n",
       "      <td>-24822.787109</td>\n",
       "      <td>496</td>\n",
       "      <td>...</td>\n",
       "      <td>0.053558</td>\n",
       "      <td>0.052087</td>\n",
       "      <td>0.081629</td>\n",
       "      <td>0.0</td>\n",
       "      <td>0.0</td>\n",
       "      <td>1.0</td>\n",
       "      <td>0.0</td>\n",
       "      <td>0.0</td>\n",
       "      <td>199734.0</td>\n",
       "      <td>NaN</td>\n",
       "    </tr>\n",
       "    <tr>\n",
       "      <th>199736</th>\n",
       "      <td>20240326_Onur_NG_555cFos_647NeuN_800Gad67_slid...</td>\n",
       "      <td>Items</td>\n",
       "      <td>p1_wA1_t1_m587_c0_z1_l1_o0</td>\n",
       "      <td>items</td>\n",
       "      <td>180</td>\n",
       "      <td>470</td>\n",
       "      <td>470</td>\n",
       "      <td>-7286.207520</td>\n",
       "      <td>-24817.599609</td>\n",
       "      <td>965</td>\n",
       "      <td>...</td>\n",
       "      <td>0.018872</td>\n",
       "      <td>0.059079</td>\n",
       "      <td>0.155367</td>\n",
       "      <td>0.0</td>\n",
       "      <td>0.0</td>\n",
       "      <td>1.0</td>\n",
       "      <td>0.0</td>\n",
       "      <td>0.0</td>\n",
       "      <td>199737.0</td>\n",
       "      <td>NaN</td>\n",
       "    </tr>\n",
       "    <tr>\n",
       "      <th>199744</th>\n",
       "      <td>20240326_Onur_NG_555cFos_647NeuN_800Gad67_slid...</td>\n",
       "      <td>Items</td>\n",
       "      <td>p1_wA1_t1_m587_c0_z1_l1_o0</td>\n",
       "      <td>items</td>\n",
       "      <td>188</td>\n",
       "      <td>470</td>\n",
       "      <td>470</td>\n",
       "      <td>-7244.534668</td>\n",
       "      <td>-24806.484375</td>\n",
       "      <td>783</td>\n",
       "      <td>...</td>\n",
       "      <td>0.032476</td>\n",
       "      <td>0.063305</td>\n",
       "      <td>0.093131</td>\n",
       "      <td>0.0</td>\n",
       "      <td>0.0</td>\n",
       "      <td>1.0</td>\n",
       "      <td>0.0</td>\n",
       "      <td>0.0</td>\n",
       "      <td>199745.0</td>\n",
       "      <td>NaN</td>\n",
       "    </tr>\n",
       "    <tr>\n",
       "      <th>199746</th>\n",
       "      <td>20240326_Onur_NG_555cFos_647NeuN_800Gad67_slid...</td>\n",
       "      <td>Items</td>\n",
       "      <td>p1_wA1_t1_m587_c0_z1_l1_o0</td>\n",
       "      <td>items</td>\n",
       "      <td>190</td>\n",
       "      <td>470</td>\n",
       "      <td>470</td>\n",
       "      <td>-7295.278809</td>\n",
       "      <td>-24805.242188</td>\n",
       "      <td>542</td>\n",
       "      <td>...</td>\n",
       "      <td>0.022872</td>\n",
       "      <td>0.082915</td>\n",
       "      <td>0.061553</td>\n",
       "      <td>0.0</td>\n",
       "      <td>0.0</td>\n",
       "      <td>1.0</td>\n",
       "      <td>0.0</td>\n",
       "      <td>0.0</td>\n",
       "      <td>199747.0</td>\n",
       "      <td>NaN</td>\n",
       "    </tr>\n",
       "    <tr>\n",
       "      <th>199761</th>\n",
       "      <td>20240326_Onur_NG_555cFos_647NeuN_800Gad67_slid...</td>\n",
       "      <td>Items</td>\n",
       "      <td>p1_wA1_t1_m587_c0_z1_l1_o0</td>\n",
       "      <td>items</td>\n",
       "      <td>215</td>\n",
       "      <td>470</td>\n",
       "      <td>470</td>\n",
       "      <td>-7582.562988</td>\n",
       "      <td>-24761.439453</td>\n",
       "      <td>1005</td>\n",
       "      <td>...</td>\n",
       "      <td>0.027909</td>\n",
       "      <td>0.080274</td>\n",
       "      <td>0.188349</td>\n",
       "      <td>0.0</td>\n",
       "      <td>0.0</td>\n",
       "      <td>1.0</td>\n",
       "      <td>0.0</td>\n",
       "      <td>0.0</td>\n",
       "      <td>199762.0</td>\n",
       "      <td>NaN</td>\n",
       "    </tr>\n",
       "  </tbody>\n",
       "</table>\n",
       "<p>1581 rows × 137 columns</p>\n",
       "</div>"
      ]
     },
     "execution_count": 48,
     "metadata": {},
     "output_type": "execute_result"
    }
   ],
   "execution_count": 48
  },
  {
   "cell_type": "code",
   "source": [],
   "metadata": {
    "collapsed": false,
    "ExecuteTime": {
     "end_time": "2024-05-20T12:41:58.095641Z",
     "start_time": "2024-05-20T12:41:58.094084Z"
    }
   },
   "id": "68f7657554f42bbc",
   "outputs": [],
   "execution_count": 31
  },
  {
   "cell_type": "code",
   "source": "strong_555_positive = high_555_signal",
   "metadata": {
    "collapsed": false,
    "ExecuteTime": {
     "end_time": "2024-05-20T12:41:58.986544Z",
     "start_time": "2024-05-20T12:41:58.984519Z"
    }
   },
   "id": "750d48aa68a243bc",
   "outputs": [],
   "execution_count": 32
  },
  {
   "cell_type": "code",
   "source": [
    "strong_555_positive"
   ],
   "metadata": {
    "collapsed": false,
    "ExecuteTime": {
     "end_time": "2024-05-20T12:41:59.989081Z",
     "start_time": "2024-05-20T12:41:59.977301Z"
    }
   },
   "id": "c56274110a6096ad",
   "outputs": [
    {
     "data": {
      "text/plain": [
       "                                                   series   path  \\\n",
       "44656   20240326_Onur_NG_555cFos_647NeuN_800Gad67_slid...  Items   \n",
       "44670   20240326_Onur_NG_555cFos_647NeuN_800Gad67_slid...  Items   \n",
       "44702   20240326_Onur_NG_555cFos_647NeuN_800Gad67_slid...  Items   \n",
       "44704   20240326_Onur_NG_555cFos_647NeuN_800Gad67_slid...  Items   \n",
       "44734   20240326_Onur_NG_555cFos_647NeuN_800Gad67_slid...  Items   \n",
       "...                                                   ...    ...   \n",
       "199733  20240326_Onur_NG_555cFos_647NeuN_800Gad67_slid...  Items   \n",
       "199736  20240326_Onur_NG_555cFos_647NeuN_800Gad67_slid...  Items   \n",
       "199744  20240326_Onur_NG_555cFos_647NeuN_800Gad67_slid...  Items   \n",
       "199746  20240326_Onur_NG_555cFos_647NeuN_800Gad67_slid...  Items   \n",
       "199761  20240326_Onur_NG_555cFos_647NeuN_800Gad67_slid...  Items   \n",
       "\n",
       "                              name   type  item id  fm id  il id  \\\n",
       "44656   p1_wA1_t1_m410_c0_z1_l1_o0  items       49     95     95   \n",
       "44670   p1_wA1_t1_m410_c0_z1_l1_o0  items       74     95     95   \n",
       "44702   p1_wA1_t1_m410_c0_z1_l1_o0  items      113     95     95   \n",
       "44704   p1_wA1_t1_m410_c0_z1_l1_o0  items      115     95     95   \n",
       "44734   p1_wA1_t1_m410_c0_z1_l1_o0  items      147     95     95   \n",
       "...                            ...    ...      ...    ...    ...   \n",
       "199733  p1_wA1_t1_m587_c0_z1_l1_o0  items      177    470    470   \n",
       "199736  p1_wA1_t1_m587_c0_z1_l1_o0  items      180    470    470   \n",
       "199744  p1_wA1_t1_m587_c0_z1_l1_o0  items      188    470    470   \n",
       "199746  p1_wA1_t1_m587_c0_z1_l1_o0  items      190    470    470   \n",
       "199761  p1_wA1_t1_m587_c0_z1_l1_o0  items      215    470    470   \n",
       "\n",
       "        CELL METCENTER-X  CELL METCENTER-Y  CELL AREA  ...  \\\n",
       "44656       -7033.807129     -22445.248047        556  ...   \n",
       "44670       -7106.711914     -22429.767578        923  ...   \n",
       "44702       -7109.700195     -22405.738281        711  ...   \n",
       "44704       -7409.506348     -22404.863281       1075  ...   \n",
       "44734       -7364.495605     -22380.455078       1048  ...   \n",
       "...                  ...               ...        ...  ...   \n",
       "199733      -7154.093750     -24822.787109        496  ...   \n",
       "199736      -7286.207520     -24817.599609        965  ...   \n",
       "199744      -7244.534668     -24806.484375        783  ...   \n",
       "199746      -7295.278809     -24805.242188        542  ...   \n",
       "199761      -7582.562988     -24761.439453       1005  ...   \n",
       "\n",
       "        CELL WINDOWED-INTENSITY-STDDEV AF647  \\\n",
       "44656                               0.085478   \n",
       "44670                               0.178659   \n",
       "44702                               0.192377   \n",
       "44704                               0.127939   \n",
       "44734                               0.145795   \n",
       "...                                      ...   \n",
       "199733                              0.053558   \n",
       "199736                              0.018872   \n",
       "199744                              0.032476   \n",
       "199746                              0.022872   \n",
       "199761                              0.027909   \n",
       "\n",
       "        CELL WINDOWED-INTENSITY-STDDEV AF800  \\\n",
       "44656                               0.034645   \n",
       "44670                               0.025422   \n",
       "44702                               0.031346   \n",
       "44704                               0.037525   \n",
       "44734                               0.039726   \n",
       "...                                      ...   \n",
       "199733                              0.052087   \n",
       "199736                              0.059079   \n",
       "199744                              0.063305   \n",
       "199746                              0.082915   \n",
       "199761                              0.080274   \n",
       "\n",
       "        CELL WINDOWED-INTENSITY-STDDEV SYTOG  REGION COMBINED Region 4  \\\n",
       "44656                               0.136210                       0.0   \n",
       "44670                               0.209225                       0.0   \n",
       "44702                               0.209856                       0.0   \n",
       "44704                               0.127899                       0.0   \n",
       "44734                               0.169230                       0.0   \n",
       "...                                      ...                       ...   \n",
       "199733                              0.081629                       0.0   \n",
       "199736                              0.155367                       0.0   \n",
       "199744                              0.093131                       0.0   \n",
       "199746                              0.061553                       0.0   \n",
       "199761                              0.188349                       0.0   \n",
       "\n",
       "        REGION COMBINED Region 3  REGION COMBINED Region 2  \\\n",
       "44656                        0.0                       1.0   \n",
       "44670                        0.0                       1.0   \n",
       "44702                        0.0                       1.0   \n",
       "44704                        0.0                       1.0   \n",
       "44734                        0.0                       1.0   \n",
       "...                          ...                       ...   \n",
       "199733                       0.0                       1.0   \n",
       "199736                       0.0                       1.0   \n",
       "199744                       0.0                       1.0   \n",
       "199746                       0.0                       1.0   \n",
       "199761                       0.0                       1.0   \n",
       "\n",
       "        REGION COMBINED Region 1  REGION COMBINED Region 5     rowid  \\\n",
       "44656                        0.0                       0.0   44657.0   \n",
       "44670                        0.0                       0.0   44671.0   \n",
       "44702                        0.0                       0.0   44703.0   \n",
       "44704                        0.0                       0.0   44705.0   \n",
       "44734                        0.0                       0.0   44735.0   \n",
       "...                          ...                       ...       ...   \n",
       "199733                       0.0                       0.0  199734.0   \n",
       "199736                       0.0                       0.0  199737.0   \n",
       "199744                       0.0                       0.0  199745.0   \n",
       "199746                       0.0                       0.0  199747.0   \n",
       "199761                       0.0                       0.0  199762.0   \n",
       "\n",
       "        Unnamed: 137  \n",
       "44656            NaN  \n",
       "44670            NaN  \n",
       "44702            NaN  \n",
       "44704            NaN  \n",
       "44734            NaN  \n",
       "...              ...  \n",
       "199733           NaN  \n",
       "199736           NaN  \n",
       "199744           NaN  \n",
       "199746           NaN  \n",
       "199761           NaN  \n",
       "\n",
       "[1581 rows x 137 columns]"
      ],
      "text/html": [
       "<div>\n",
       "<style scoped>\n",
       "    .dataframe tbody tr th:only-of-type {\n",
       "        vertical-align: middle;\n",
       "    }\n",
       "\n",
       "    .dataframe tbody tr th {\n",
       "        vertical-align: top;\n",
       "    }\n",
       "\n",
       "    .dataframe thead th {\n",
       "        text-align: right;\n",
       "    }\n",
       "</style>\n",
       "<table border=\"1\" class=\"dataframe\">\n",
       "  <thead>\n",
       "    <tr style=\"text-align: right;\">\n",
       "      <th></th>\n",
       "      <th>series</th>\n",
       "      <th>path</th>\n",
       "      <th>name</th>\n",
       "      <th>type</th>\n",
       "      <th>item id</th>\n",
       "      <th>fm id</th>\n",
       "      <th>il id</th>\n",
       "      <th>CELL METCENTER-X</th>\n",
       "      <th>CELL METCENTER-Y</th>\n",
       "      <th>CELL AREA</th>\n",
       "      <th>...</th>\n",
       "      <th>CELL WINDOWED-INTENSITY-STDDEV AF647</th>\n",
       "      <th>CELL WINDOWED-INTENSITY-STDDEV AF800</th>\n",
       "      <th>CELL WINDOWED-INTENSITY-STDDEV SYTOG</th>\n",
       "      <th>REGION COMBINED Region 4</th>\n",
       "      <th>REGION COMBINED Region 3</th>\n",
       "      <th>REGION COMBINED Region 2</th>\n",
       "      <th>REGION COMBINED Region 1</th>\n",
       "      <th>REGION COMBINED Region 5</th>\n",
       "      <th>rowid</th>\n",
       "      <th>Unnamed: 137</th>\n",
       "    </tr>\n",
       "  </thead>\n",
       "  <tbody>\n",
       "    <tr>\n",
       "      <th>44656</th>\n",
       "      <td>20240326_Onur_NG_555cFos_647NeuN_800Gad67_slid...</td>\n",
       "      <td>Items</td>\n",
       "      <td>p1_wA1_t1_m410_c0_z1_l1_o0</td>\n",
       "      <td>items</td>\n",
       "      <td>49</td>\n",
       "      <td>95</td>\n",
       "      <td>95</td>\n",
       "      <td>-7033.807129</td>\n",
       "      <td>-22445.248047</td>\n",
       "      <td>556</td>\n",
       "      <td>...</td>\n",
       "      <td>0.085478</td>\n",
       "      <td>0.034645</td>\n",
       "      <td>0.136210</td>\n",
       "      <td>0.0</td>\n",
       "      <td>0.0</td>\n",
       "      <td>1.0</td>\n",
       "      <td>0.0</td>\n",
       "      <td>0.0</td>\n",
       "      <td>44657.0</td>\n",
       "      <td>NaN</td>\n",
       "    </tr>\n",
       "    <tr>\n",
       "      <th>44670</th>\n",
       "      <td>20240326_Onur_NG_555cFos_647NeuN_800Gad67_slid...</td>\n",
       "      <td>Items</td>\n",
       "      <td>p1_wA1_t1_m410_c0_z1_l1_o0</td>\n",
       "      <td>items</td>\n",
       "      <td>74</td>\n",
       "      <td>95</td>\n",
       "      <td>95</td>\n",
       "      <td>-7106.711914</td>\n",
       "      <td>-22429.767578</td>\n",
       "      <td>923</td>\n",
       "      <td>...</td>\n",
       "      <td>0.178659</td>\n",
       "      <td>0.025422</td>\n",
       "      <td>0.209225</td>\n",
       "      <td>0.0</td>\n",
       "      <td>0.0</td>\n",
       "      <td>1.0</td>\n",
       "      <td>0.0</td>\n",
       "      <td>0.0</td>\n",
       "      <td>44671.0</td>\n",
       "      <td>NaN</td>\n",
       "    </tr>\n",
       "    <tr>\n",
       "      <th>44702</th>\n",
       "      <td>20240326_Onur_NG_555cFos_647NeuN_800Gad67_slid...</td>\n",
       "      <td>Items</td>\n",
       "      <td>p1_wA1_t1_m410_c0_z1_l1_o0</td>\n",
       "      <td>items</td>\n",
       "      <td>113</td>\n",
       "      <td>95</td>\n",
       "      <td>95</td>\n",
       "      <td>-7109.700195</td>\n",
       "      <td>-22405.738281</td>\n",
       "      <td>711</td>\n",
       "      <td>...</td>\n",
       "      <td>0.192377</td>\n",
       "      <td>0.031346</td>\n",
       "      <td>0.209856</td>\n",
       "      <td>0.0</td>\n",
       "      <td>0.0</td>\n",
       "      <td>1.0</td>\n",
       "      <td>0.0</td>\n",
       "      <td>0.0</td>\n",
       "      <td>44703.0</td>\n",
       "      <td>NaN</td>\n",
       "    </tr>\n",
       "    <tr>\n",
       "      <th>44704</th>\n",
       "      <td>20240326_Onur_NG_555cFos_647NeuN_800Gad67_slid...</td>\n",
       "      <td>Items</td>\n",
       "      <td>p1_wA1_t1_m410_c0_z1_l1_o0</td>\n",
       "      <td>items</td>\n",
       "      <td>115</td>\n",
       "      <td>95</td>\n",
       "      <td>95</td>\n",
       "      <td>-7409.506348</td>\n",
       "      <td>-22404.863281</td>\n",
       "      <td>1075</td>\n",
       "      <td>...</td>\n",
       "      <td>0.127939</td>\n",
       "      <td>0.037525</td>\n",
       "      <td>0.127899</td>\n",
       "      <td>0.0</td>\n",
       "      <td>0.0</td>\n",
       "      <td>1.0</td>\n",
       "      <td>0.0</td>\n",
       "      <td>0.0</td>\n",
       "      <td>44705.0</td>\n",
       "      <td>NaN</td>\n",
       "    </tr>\n",
       "    <tr>\n",
       "      <th>44734</th>\n",
       "      <td>20240326_Onur_NG_555cFos_647NeuN_800Gad67_slid...</td>\n",
       "      <td>Items</td>\n",
       "      <td>p1_wA1_t1_m410_c0_z1_l1_o0</td>\n",
       "      <td>items</td>\n",
       "      <td>147</td>\n",
       "      <td>95</td>\n",
       "      <td>95</td>\n",
       "      <td>-7364.495605</td>\n",
       "      <td>-22380.455078</td>\n",
       "      <td>1048</td>\n",
       "      <td>...</td>\n",
       "      <td>0.145795</td>\n",
       "      <td>0.039726</td>\n",
       "      <td>0.169230</td>\n",
       "      <td>0.0</td>\n",
       "      <td>0.0</td>\n",
       "      <td>1.0</td>\n",
       "      <td>0.0</td>\n",
       "      <td>0.0</td>\n",
       "      <td>44735.0</td>\n",
       "      <td>NaN</td>\n",
       "    </tr>\n",
       "    <tr>\n",
       "      <th>...</th>\n",
       "      <td>...</td>\n",
       "      <td>...</td>\n",
       "      <td>...</td>\n",
       "      <td>...</td>\n",
       "      <td>...</td>\n",
       "      <td>...</td>\n",
       "      <td>...</td>\n",
       "      <td>...</td>\n",
       "      <td>...</td>\n",
       "      <td>...</td>\n",
       "      <td>...</td>\n",
       "      <td>...</td>\n",
       "      <td>...</td>\n",
       "      <td>...</td>\n",
       "      <td>...</td>\n",
       "      <td>...</td>\n",
       "      <td>...</td>\n",
       "      <td>...</td>\n",
       "      <td>...</td>\n",
       "      <td>...</td>\n",
       "      <td>...</td>\n",
       "    </tr>\n",
       "    <tr>\n",
       "      <th>199733</th>\n",
       "      <td>20240326_Onur_NG_555cFos_647NeuN_800Gad67_slid...</td>\n",
       "      <td>Items</td>\n",
       "      <td>p1_wA1_t1_m587_c0_z1_l1_o0</td>\n",
       "      <td>items</td>\n",
       "      <td>177</td>\n",
       "      <td>470</td>\n",
       "      <td>470</td>\n",
       "      <td>-7154.093750</td>\n",
       "      <td>-24822.787109</td>\n",
       "      <td>496</td>\n",
       "      <td>...</td>\n",
       "      <td>0.053558</td>\n",
       "      <td>0.052087</td>\n",
       "      <td>0.081629</td>\n",
       "      <td>0.0</td>\n",
       "      <td>0.0</td>\n",
       "      <td>1.0</td>\n",
       "      <td>0.0</td>\n",
       "      <td>0.0</td>\n",
       "      <td>199734.0</td>\n",
       "      <td>NaN</td>\n",
       "    </tr>\n",
       "    <tr>\n",
       "      <th>199736</th>\n",
       "      <td>20240326_Onur_NG_555cFos_647NeuN_800Gad67_slid...</td>\n",
       "      <td>Items</td>\n",
       "      <td>p1_wA1_t1_m587_c0_z1_l1_o0</td>\n",
       "      <td>items</td>\n",
       "      <td>180</td>\n",
       "      <td>470</td>\n",
       "      <td>470</td>\n",
       "      <td>-7286.207520</td>\n",
       "      <td>-24817.599609</td>\n",
       "      <td>965</td>\n",
       "      <td>...</td>\n",
       "      <td>0.018872</td>\n",
       "      <td>0.059079</td>\n",
       "      <td>0.155367</td>\n",
       "      <td>0.0</td>\n",
       "      <td>0.0</td>\n",
       "      <td>1.0</td>\n",
       "      <td>0.0</td>\n",
       "      <td>0.0</td>\n",
       "      <td>199737.0</td>\n",
       "      <td>NaN</td>\n",
       "    </tr>\n",
       "    <tr>\n",
       "      <th>199744</th>\n",
       "      <td>20240326_Onur_NG_555cFos_647NeuN_800Gad67_slid...</td>\n",
       "      <td>Items</td>\n",
       "      <td>p1_wA1_t1_m587_c0_z1_l1_o0</td>\n",
       "      <td>items</td>\n",
       "      <td>188</td>\n",
       "      <td>470</td>\n",
       "      <td>470</td>\n",
       "      <td>-7244.534668</td>\n",
       "      <td>-24806.484375</td>\n",
       "      <td>783</td>\n",
       "      <td>...</td>\n",
       "      <td>0.032476</td>\n",
       "      <td>0.063305</td>\n",
       "      <td>0.093131</td>\n",
       "      <td>0.0</td>\n",
       "      <td>0.0</td>\n",
       "      <td>1.0</td>\n",
       "      <td>0.0</td>\n",
       "      <td>0.0</td>\n",
       "      <td>199745.0</td>\n",
       "      <td>NaN</td>\n",
       "    </tr>\n",
       "    <tr>\n",
       "      <th>199746</th>\n",
       "      <td>20240326_Onur_NG_555cFos_647NeuN_800Gad67_slid...</td>\n",
       "      <td>Items</td>\n",
       "      <td>p1_wA1_t1_m587_c0_z1_l1_o0</td>\n",
       "      <td>items</td>\n",
       "      <td>190</td>\n",
       "      <td>470</td>\n",
       "      <td>470</td>\n",
       "      <td>-7295.278809</td>\n",
       "      <td>-24805.242188</td>\n",
       "      <td>542</td>\n",
       "      <td>...</td>\n",
       "      <td>0.022872</td>\n",
       "      <td>0.082915</td>\n",
       "      <td>0.061553</td>\n",
       "      <td>0.0</td>\n",
       "      <td>0.0</td>\n",
       "      <td>1.0</td>\n",
       "      <td>0.0</td>\n",
       "      <td>0.0</td>\n",
       "      <td>199747.0</td>\n",
       "      <td>NaN</td>\n",
       "    </tr>\n",
       "    <tr>\n",
       "      <th>199761</th>\n",
       "      <td>20240326_Onur_NG_555cFos_647NeuN_800Gad67_slid...</td>\n",
       "      <td>Items</td>\n",
       "      <td>p1_wA1_t1_m587_c0_z1_l1_o0</td>\n",
       "      <td>items</td>\n",
       "      <td>215</td>\n",
       "      <td>470</td>\n",
       "      <td>470</td>\n",
       "      <td>-7582.562988</td>\n",
       "      <td>-24761.439453</td>\n",
       "      <td>1005</td>\n",
       "      <td>...</td>\n",
       "      <td>0.027909</td>\n",
       "      <td>0.080274</td>\n",
       "      <td>0.188349</td>\n",
       "      <td>0.0</td>\n",
       "      <td>0.0</td>\n",
       "      <td>1.0</td>\n",
       "      <td>0.0</td>\n",
       "      <td>0.0</td>\n",
       "      <td>199762.0</td>\n",
       "      <td>NaN</td>\n",
       "    </tr>\n",
       "  </tbody>\n",
       "</table>\n",
       "<p>1581 rows × 137 columns</p>\n",
       "</div>"
      ]
     },
     "execution_count": 33,
     "metadata": {},
     "output_type": "execute_result"
    }
   ],
   "execution_count": 33
  },
  {
   "cell_type": "code",
   "source": [
    "strong_555_positive = strong_555_positive['rowid'].to_list()"
   ],
   "metadata": {
    "collapsed": false,
    "ExecuteTime": {
     "end_time": "2024-05-20T12:42:04.344622Z",
     "start_time": "2024-05-20T12:42:04.342249Z"
    }
   },
   "id": "3c512909710e9fb3",
   "outputs": [],
   "execution_count": 34
  },
  {
   "metadata": {
    "ExecuteTime": {
     "end_time": "2024-05-20T13:10:50.176186Z",
     "start_time": "2024-05-20T13:10:50.108817Z"
    }
   },
   "cell_type": "code",
   "source": "high_555_signal.describe()[['CELL AREA', 'CELL CIRCULARITY', 'CELL INTENSITY-MEDIAN AF647', 'CELL INTENSITY-MEAN AF647']]v",
   "id": "36d3e0f91b56409e",
   "outputs": [
    {
     "data": {
      "text/plain": [
       "         CELL AREA  CELL CIRCULARITY  CELL INTENSITY-MEDIAN AF647  \\\n",
       "count  1581.000000       1581.000000                  1581.000000   \n",
       "mean    991.749526          0.858041                 15462.535737   \n",
       "std     316.687880          0.048867                  1809.507075   \n",
       "min     253.000000          0.750329                  5986.000000   \n",
       "25%     766.000000          0.821282                 15400.500000   \n",
       "50%     987.000000          0.861496                 16383.000000   \n",
       "75%    1247.000000          0.896610                 16383.000000   \n",
       "max    1600.000000          1.001145                 16383.000000   \n",
       "\n",
       "       CELL INTENSITY-MEAN AF647  \n",
       "count                1581.000000  \n",
       "mean                14818.824155  \n",
       "std                  1591.760896  \n",
       "min                  6123.803223  \n",
       "25%                 14389.444336  \n",
       "50%                 15380.950195  \n",
       "75%                 15833.488281  \n",
       "max                 16383.000000  "
      ],
      "text/html": [
       "<div>\n",
       "<style scoped>\n",
       "    .dataframe tbody tr th:only-of-type {\n",
       "        vertical-align: middle;\n",
       "    }\n",
       "\n",
       "    .dataframe tbody tr th {\n",
       "        vertical-align: top;\n",
       "    }\n",
       "\n",
       "    .dataframe thead th {\n",
       "        text-align: right;\n",
       "    }\n",
       "</style>\n",
       "<table border=\"1\" class=\"dataframe\">\n",
       "  <thead>\n",
       "    <tr style=\"text-align: right;\">\n",
       "      <th></th>\n",
       "      <th>CELL AREA</th>\n",
       "      <th>CELL CIRCULARITY</th>\n",
       "      <th>CELL INTENSITY-MEDIAN AF647</th>\n",
       "      <th>CELL INTENSITY-MEAN AF647</th>\n",
       "    </tr>\n",
       "  </thead>\n",
       "  <tbody>\n",
       "    <tr>\n",
       "      <th>count</th>\n",
       "      <td>1581.000000</td>\n",
       "      <td>1581.000000</td>\n",
       "      <td>1581.000000</td>\n",
       "      <td>1581.000000</td>\n",
       "    </tr>\n",
       "    <tr>\n",
       "      <th>mean</th>\n",
       "      <td>991.749526</td>\n",
       "      <td>0.858041</td>\n",
       "      <td>15462.535737</td>\n",
       "      <td>14818.824155</td>\n",
       "    </tr>\n",
       "    <tr>\n",
       "      <th>std</th>\n",
       "      <td>316.687880</td>\n",
       "      <td>0.048867</td>\n",
       "      <td>1809.507075</td>\n",
       "      <td>1591.760896</td>\n",
       "    </tr>\n",
       "    <tr>\n",
       "      <th>min</th>\n",
       "      <td>253.000000</td>\n",
       "      <td>0.750329</td>\n",
       "      <td>5986.000000</td>\n",
       "      <td>6123.803223</td>\n",
       "    </tr>\n",
       "    <tr>\n",
       "      <th>25%</th>\n",
       "      <td>766.000000</td>\n",
       "      <td>0.821282</td>\n",
       "      <td>15400.500000</td>\n",
       "      <td>14389.444336</td>\n",
       "    </tr>\n",
       "    <tr>\n",
       "      <th>50%</th>\n",
       "      <td>987.000000</td>\n",
       "      <td>0.861496</td>\n",
       "      <td>16383.000000</td>\n",
       "      <td>15380.950195</td>\n",
       "    </tr>\n",
       "    <tr>\n",
       "      <th>75%</th>\n",
       "      <td>1247.000000</td>\n",
       "      <td>0.896610</td>\n",
       "      <td>16383.000000</td>\n",
       "      <td>15833.488281</td>\n",
       "    </tr>\n",
       "    <tr>\n",
       "      <th>max</th>\n",
       "      <td>1600.000000</td>\n",
       "      <td>1.001145</td>\n",
       "      <td>16383.000000</td>\n",
       "      <td>16383.000000</td>\n",
       "    </tr>\n",
       "  </tbody>\n",
       "</table>\n",
       "</div>"
      ]
     },
     "execution_count": 42,
     "metadata": {},
     "output_type": "execute_result"
    }
   ],
   "execution_count": 42
  },
  {
   "metadata": {
    "ExecuteTime": {
     "end_time": "2024-05-20T12:43:27.479130Z",
     "start_time": "2024-05-20T12:43:27.466653Z"
    }
   },
   "cell_type": "code",
   "source": "high_555_excluded = df.drop(high_555_signal.index)",
   "id": "37434dc7b1a8ad3e",
   "outputs": [],
   "execution_count": 36
  },
  {
   "metadata": {
    "ExecuteTime": {
     "end_time": "2024-05-20T12:43:31.768272Z",
     "start_time": "2024-05-20T12:43:31.744035Z"
    }
   },
   "cell_type": "code",
   "source": [
    "prefiltered = high_555_excluded[high_555_excluded['CELL AREA'].between(253, 1600, inclusive='both')]\n",
    "prefiltered = prefiltered[prefiltered['CELL CIRCULARITY'] > 0.75]\n",
    "prefiltered = prefiltered[prefiltered['CELL INTENSITY-MEDIAN AF647'].between(5986, 16383, inclusive='both')]"
   ],
   "id": "b2abf2687f6eb3fd",
   "outputs": [],
   "execution_count": 37
  },
  {
   "metadata": {
    "ExecuteTime": {
     "end_time": "2024-05-20T12:54:15.332779Z",
     "start_time": "2024-05-20T12:54:14.428938Z"
    }
   },
   "cell_type": "code",
   "source": "system(\"jupyter\" \"notebook\" \"list\")",
   "id": "e6a16ac98830a065",
   "outputs": [
    {
     "data": {
      "text/plain": [
       "['Currently running servers:',\n",
       " 'http://localhost:8888/?token=6b990d4b2ac47e0be0facdc2805c06025c22226084dd51cd :: /Users/onur.serce/PycharmProjects/DVPtools']"
      ]
     },
     "execution_count": 38,
     "metadata": {},
     "output_type": "execute_result"
    }
   ],
   "execution_count": 38
  },
  {
   "metadata": {
    "ExecuteTime": {
     "end_time": "2024-05-20T13:00:54.107608Z",
     "start_time": "2024-05-20T13:00:53.893960Z"
    }
   },
   "cell_type": "code",
   "source": "define_thresholds(prefiltered, variable='CELL INTENSITY-INTEGRATED AF555')",
   "id": "5e3f9b394849ca71",
   "outputs": [
    {
     "data": {
      "text/plain": [
       "interactive(children=(FloatRangeSlider(value=(1293145.0, 17001706496.0), continuous_update=False, description=…"
      ],
      "application/vnd.jupyter.widget-view+json": {
       "version_major": 2,
       "version_minor": 0,
       "model_id": "71b0ad3ab69144d49d15a12300c020f7"
      }
     },
     "metadata": {},
     "output_type": "display_data"
    }
   ],
   "execution_count": 39
  },
  {
   "metadata": {
    "ExecuteTime": {
     "end_time": "2024-05-20T13:23:16.161041Z",
     "start_time": "2024-05-20T13:23:16.153946Z"
    }
   },
   "cell_type": "code",
   "source": [
    "final_555_neg = subset_dataframe_by_thresholds(prefiltered, 'CELL INTENSITY-INTEGRATED AF555')\n",
    "print(len(final_555_neg))"
   ],
   "id": "16c28d636b721521",
   "outputs": [
    {
     "name": "stdout",
     "output_type": "stream",
     "text": [
      "(1293145.0, 171297278.51)\n",
      "7079\n"
     ]
    }
   ],
   "execution_count": 43
  },
  {
   "metadata": {
    "ExecuteTime": {
     "end_time": "2024-05-20T15:04:17.720348Z",
     "start_time": "2024-05-20T15:04:17.394957Z"
    }
   },
   "cell_type": "code",
   "source": [
    "sb.scatterplot(data=subdf, x='CELL INTENSITY-INTEGRATED AF555', y='CELL AREA')\n",
    "sb.scatterplot(data=final_555_neg, x='CELL INTENSITY-INTEGRATED AF555', y='CELL AREA', color='r')\n",
    "sb.scatterplot(data=high_555_signal, x='CELL INTENSITY-INTEGRATED AF555', y='CELL AREA', color='r')\n",
    "\n",
    "plt.axhline(y=253, linestyle='--', c='r')\n",
    "plt.axhline(y=1600, linestyle='--', c='r')\n",
    "plt.axvline(x=high_555_signal['CELL INTENSITY-INTEGRATED AF555'].min(), linestyle='--', c='r')\n",
    "plt.axvline(x=final_555_neg['CELL INTENSITY-INTEGRATED AF555'].max(), linestyle='--', c='r')\n",
    "\n",
    "plt.xscale('log')"
   ],
   "id": "219b12550a68842e",
   "outputs": [
    {
     "data": {
      "text/plain": [
       "<Figure size 640x480 with 1 Axes>"
      ],
      "image/png": "[encoded data removed]"
     },
     "metadata": {},
     "output_type": "display_data"
    }
   ],
   "execution_count": 64
  },
  {
   "metadata": {
    "ExecuteTime": {
     "end_time": "2024-05-20T15:04:22.236166Z",
     "start_time": "2024-05-20T15:04:17.888755Z"
    }
   },
   "cell_type": "code",
   "source": [
    "g = sb.jointplot(data=subdf, x='CELL INTENSITY-INTEGRATED AF555', y='CELL AREA')\n",
    "sb.rugplot(data=subdf, x='CELL INTENSITY-INTEGRATED AF555', y='CELL AREA')\n",
    "g.plot_marginals(sb.kdeplot)\n",
    "\n",
    "plt.axhline(y=253, linestyle='--', c='r')\n",
    "plt.axhline(y=1600, linestyle='--', c='r')\n",
    "plt.axvline(x=high_555_signal['CELL INTENSITY-INTEGRATED AF555'].min(), linestyle='--', c='r')\n",
    "plt.axvline(x=final_555_neg['CELL INTENSITY-INTEGRATED AF555'].max(), linestyle='--', c='r')\n",
    "\n",
    "plt.xscale('log')"
   ],
   "id": "51e7126722cf16df",
   "outputs": [
    {
     "data": {
      "text/plain": [
       "<Figure size 600x600 with 3 Axes>"
      ],
      "image/png": "[encoded data removed]"
     },
     "metadata": {},
     "output_type": "display_data"
    }
   ],
   "execution_count": 65
  },
  {
   "metadata": {},
   "cell_type": "markdown",
   "source": "This notebook was used up until this point for preparing PR3, which happened on 22.05.24 (23.05.2024)",
   "id": "71dd519b91c84296"
  },
  {
   "metadata": {
    "ExecuteTime": {
     "end_time": "2024-05-23T09:38:13.137893Z",
     "start_time": "2024-05-23T09:38:13.136683Z"
    }
   },
   "cell_type": "code",
   "source": "",
   "id": "2945db9822a7f26f",
   "outputs": [],
   "execution_count": null
  },
  {
   "metadata": {
    "ExecuteTime": {
     "end_time": "2024-04-22T12:42:27.878923Z",
     "start_time": "2024-04-22T12:42:27.876759Z"
    }
   },
   "cell_type": "code",
   "source": "(25 + 50 + 125 + 250 + 500 + 1000) * 3",
   "id": "be870c9969e3bf12",
   "outputs": [
    {
     "data": {
      "text/plain": [
       "5850"
      ]
     },
     "execution_count": 97,
     "metadata": {},
     "output_type": "execute_result"
    }
   ],
   "execution_count": 97
  },
  {
   "cell_type": "code",
   "source": "final_555_neg",
   "metadata": {
    "collapsed": false,
    "ExecuteTime": {
     "end_time": "2024-04-22T12:43:24.103721Z",
     "start_time": "2024-04-22T12:43:24.090857Z"
    }
   },
   "id": "fd38359c50733868",
   "outputs": [
    {
     "data": {
      "text/plain": [
       "                                                   series   path  \\\n",
       "42316   20240326_Onur_NG_555cFos_647NeuN_800Gad67_slid...  Items   \n",
       "44637   20240326_Onur_NG_555cFos_647NeuN_800Gad67_slid...  Items   \n",
       "44649   20240326_Onur_NG_555cFos_647NeuN_800Gad67_slid...  Items   \n",
       "44650   20240326_Onur_NG_555cFos_647NeuN_800Gad67_slid...  Items   \n",
       "44651   20240326_Onur_NG_555cFos_647NeuN_800Gad67_slid...  Items   \n",
       "...                                                   ...    ...   \n",
       "199658  20240326_Onur_NG_555cFos_647NeuN_800Gad67_slid...  Items   \n",
       "199662  20240326_Onur_NG_555cFos_647NeuN_800Gad67_slid...  Items   \n",
       "199666  20240326_Onur_NG_555cFos_647NeuN_800Gad67_slid...  Items   \n",
       "199704  20240326_Onur_NG_555cFos_647NeuN_800Gad67_slid...  Items   \n",
       "199757  20240326_Onur_NG_555cFos_647NeuN_800Gad67_slid...  Items   \n",
       "\n",
       "                              name   type  item id  fm id  il id  \\\n",
       "42316   p1_wA1_t1_m400_c0_z1_l1_o0  items       18     89     89   \n",
       "44637   p1_wA1_t1_m410_c0_z1_l1_o0  items       11     95     95   \n",
       "44649   p1_wA1_t1_m410_c0_z1_l1_o0  items       37     95     95   \n",
       "44650   p1_wA1_t1_m410_c0_z1_l1_o0  items       38     95     95   \n",
       "44651   p1_wA1_t1_m410_c0_z1_l1_o0  items       40     95     95   \n",
       "...                            ...    ...      ...    ...    ...   \n",
       "199658  p1_wA1_t1_m587_c0_z1_l1_o0  items       90    470    470   \n",
       "199662  p1_wA1_t1_m587_c0_z1_l1_o0  items       94    470    470   \n",
       "199666  p1_wA1_t1_m587_c0_z1_l1_o0  items       99    470    470   \n",
       "199704  p1_wA1_t1_m587_c0_z1_l1_o0  items      142    470    470   \n",
       "199757  p1_wA1_t1_m587_c0_z1_l1_o0  items      210    470    470   \n",
       "\n",
       "        CELL METCENTER-X  CELL METCENTER-Y  CELL AREA  ...  \\\n",
       "42316       -1819.485107     -23925.392578        361  ...   \n",
       "44637       -7388.028809     -22465.544922       1050  ...   \n",
       "44649       -7608.626953     -22455.708984        600  ...   \n",
       "44650       -7022.028320     -22452.531250        562  ...   \n",
       "44651       -7259.765137     -22451.365234        494  ...   \n",
       "...                  ...               ...        ...  ...   \n",
       "199658      -7282.640625     -24941.535156        337  ...   \n",
       "199662      -7328.471191     -24937.666016        499  ...   \n",
       "199666      -7192.584961     -24931.951172        689  ...   \n",
       "199704      -7537.295410     -24862.175781        344  ...   \n",
       "199757      -7567.976562     -24768.279297        623  ...   \n",
       "\n",
       "        CELL WINDOWED-INTENSITY-STDDEV AF647  \\\n",
       "42316                               0.061881   \n",
       "44637                               0.228350   \n",
       "44649                               0.132257   \n",
       "44650                               0.114811   \n",
       "44651                               0.118526   \n",
       "...                                      ...   \n",
       "199658                              0.102273   \n",
       "199662                              0.042938   \n",
       "199666                              0.079244   \n",
       "199704                              0.015500   \n",
       "199757                              0.023434   \n",
       "\n",
       "        CELL WINDOWED-INTENSITY-STDDEV AF800  \\\n",
       "42316                               0.033769   \n",
       "44637                               0.053470   \n",
       "44649                               0.035040   \n",
       "44650                               0.046173   \n",
       "44651                               0.028373   \n",
       "...                                      ...   \n",
       "199658                              0.029247   \n",
       "199662                              0.029381   \n",
       "199666                              0.035221   \n",
       "199704                              0.019112   \n",
       "199757                              0.027183   \n",
       "\n",
       "        CELL WINDOWED-INTENSITY-STDDEV SYTOG  REGION COMBINED Region 4  \\\n",
       "42316                               0.223151                       0.0   \n",
       "44637                               0.176697                       0.0   \n",
       "44649                               0.138501                       0.0   \n",
       "44650                               0.031657                       0.0   \n",
       "44651                               0.163114                       0.0   \n",
       "...                                      ...                       ...   \n",
       "199658                              0.018738                       0.0   \n",
       "199662                              0.030612                       0.0   \n",
       "199666                              0.219502                       0.0   \n",
       "199704                              0.141300                       0.0   \n",
       "199757                              0.017186                       0.0   \n",
       "\n",
       "        REGION COMBINED Region 3  REGION COMBINED Region 2  \\\n",
       "42316                        0.0                       1.0   \n",
       "44637                        0.0                       1.0   \n",
       "44649                        0.0                       1.0   \n",
       "44650                        0.0                       1.0   \n",
       "44651                        0.0                       1.0   \n",
       "...                          ...                       ...   \n",
       "199658                       0.0                       1.0   \n",
       "199662                       0.0                       1.0   \n",
       "199666                       0.0                       1.0   \n",
       "199704                       0.0                       1.0   \n",
       "199757                       0.0                       1.0   \n",
       "\n",
       "        REGION COMBINED Region 1  REGION COMBINED Region 5     rowid  \\\n",
       "42316                        0.0                       0.0   42317.0   \n",
       "44637                        0.0                       0.0   44638.0   \n",
       "44649                        0.0                       0.0   44650.0   \n",
       "44650                        0.0                       0.0   44651.0   \n",
       "44651                        0.0                       0.0   44652.0   \n",
       "...                          ...                       ...       ...   \n",
       "199658                       0.0                       0.0  199659.0   \n",
       "199662                       0.0                       0.0  199663.0   \n",
       "199666                       0.0                       0.0  199667.0   \n",
       "199704                       0.0                       0.0  199705.0   \n",
       "199757                       0.0                       0.0  199758.0   \n",
       "\n",
       "        Unnamed: 137  \n",
       "42316            NaN  \n",
       "44637            NaN  \n",
       "44649            NaN  \n",
       "44650            NaN  \n",
       "44651            NaN  \n",
       "...              ...  \n",
       "199658           NaN  \n",
       "199662           NaN  \n",
       "199666           NaN  \n",
       "199704           NaN  \n",
       "199757           NaN  \n",
       "\n",
       "[7079 rows x 137 columns]"
      ],
      "text/html": [
       "<div>\n",
       "<style scoped>\n",
       "    .dataframe tbody tr th:only-of-type {\n",
       "        vertical-align: middle;\n",
       "    }\n",
       "\n",
       "    .dataframe tbody tr th {\n",
       "        vertical-align: top;\n",
       "    }\n",
       "\n",
       "    .dataframe thead th {\n",
       "        text-align: right;\n",
       "    }\n",
       "</style>\n",
       "<table border=\"1\" class=\"dataframe\">\n",
       "  <thead>\n",
       "    <tr style=\"text-align: right;\">\n",
       "      <th></th>\n",
       "      <th>series</th>\n",
       "      <th>path</th>\n",
       "      <th>name</th>\n",
       "      <th>type</th>\n",
       "      <th>item id</th>\n",
       "      <th>fm id</th>\n",
       "      <th>il id</th>\n",
       "      <th>CELL METCENTER-X</th>\n",
       "      <th>CELL METCENTER-Y</th>\n",
       "      <th>CELL AREA</th>\n",
       "      <th>...</th>\n",
       "      <th>CELL WINDOWED-INTENSITY-STDDEV AF647</th>\n",
       "      <th>CELL WINDOWED-INTENSITY-STDDEV AF800</th>\n",
       "      <th>CELL WINDOWED-INTENSITY-STDDEV SYTOG</th>\n",
       "      <th>REGION COMBINED Region 4</th>\n",
       "      <th>REGION COMBINED Region 3</th>\n",
       "      <th>REGION COMBINED Region 2</th>\n",
       "      <th>REGION COMBINED Region 1</th>\n",
       "      <th>REGION COMBINED Region 5</th>\n",
       "      <th>rowid</th>\n",
       "      <th>Unnamed: 137</th>\n",
       "    </tr>\n",
       "  </thead>\n",
       "  <tbody>\n",
       "    <tr>\n",
       "      <th>42316</th>\n",
       "      <td>20240326_Onur_NG_555cFos_647NeuN_800Gad67_slid...</td>\n",
       "      <td>Items</td>\n",
       "      <td>p1_wA1_t1_m400_c0_z1_l1_o0</td>\n",
       "      <td>items</td>\n",
       "      <td>18</td>\n",
       "      <td>89</td>\n",
       "      <td>89</td>\n",
       "      <td>-1819.485107</td>\n",
       "      <td>-23925.392578</td>\n",
       "      <td>361</td>\n",
       "      <td>...</td>\n",
       "      <td>0.061881</td>\n",
       "      <td>0.033769</td>\n",
       "      <td>0.223151</td>\n",
       "      <td>0.0</td>\n",
       "      <td>0.0</td>\n",
       "      <td>1.0</td>\n",
       "      <td>0.0</td>\n",
       "      <td>0.0</td>\n",
       "      <td>42317.0</td>\n",
       "      <td>NaN</td>\n",
       "    </tr>\n",
       "    <tr>\n",
       "      <th>44637</th>\n",
       "      <td>20240326_Onur_NG_555cFos_647NeuN_800Gad67_slid...</td>\n",
       "      <td>Items</td>\n",
       "      <td>p1_wA1_t1_m410_c0_z1_l1_o0</td>\n",
       "      <td>items</td>\n",
       "      <td>11</td>\n",
       "      <td>95</td>\n",
       "      <td>95</td>\n",
       "      <td>-7388.028809</td>\n",
       "      <td>-22465.544922</td>\n",
       "      <td>1050</td>\n",
       "      <td>...</td>\n",
       "      <td>0.228350</td>\n",
       "      <td>0.053470</td>\n",
       "      <td>0.176697</td>\n",
       "      <td>0.0</td>\n",
       "      <td>0.0</td>\n",
       "      <td>1.0</td>\n",
       "      <td>0.0</td>\n",
       "      <td>0.0</td>\n",
       "      <td>44638.0</td>\n",
       "      <td>NaN</td>\n",
       "    </tr>\n",
       "    <tr>\n",
       "      <th>44649</th>\n",
       "      <td>20240326_Onur_NG_555cFos_647NeuN_800Gad67_slid...</td>\n",
       "      <td>Items</td>\n",
       "      <td>p1_wA1_t1_m410_c0_z1_l1_o0</td>\n",
       "      <td>items</td>\n",
       "      <td>37</td>\n",
       "      <td>95</td>\n",
       "      <td>95</td>\n",
       "      <td>-7608.626953</td>\n",
       "      <td>-22455.708984</td>\n",
       "      <td>600</td>\n",
       "      <td>...</td>\n",
       "      <td>0.132257</td>\n",
       "      <td>0.035040</td>\n",
       "      <td>0.138501</td>\n",
       "      <td>0.0</td>\n",
       "      <td>0.0</td>\n",
       "      <td>1.0</td>\n",
       "      <td>0.0</td>\n",
       "      <td>0.0</td>\n",
       "      <td>44650.0</td>\n",
       "      <td>NaN</td>\n",
       "    </tr>\n",
       "    <tr>\n",
       "      <th>44650</th>\n",
       "      <td>20240326_Onur_NG_555cFos_647NeuN_800Gad67_slid...</td>\n",
       "      <td>Items</td>\n",
       "      <td>p1_wA1_t1_m410_c0_z1_l1_o0</td>\n",
       "      <td>items</td>\n",
       "      <td>38</td>\n",
       "      <td>95</td>\n",
       "      <td>95</td>\n",
       "      <td>-7022.028320</td>\n",
       "      <td>-22452.531250</td>\n",
       "      <td>562</td>\n",
       "      <td>...</td>\n",
       "      <td>0.114811</td>\n",
       "      <td>0.046173</td>\n",
       "      <td>0.031657</td>\n",
       "      <td>0.0</td>\n",
       "      <td>0.0</td>\n",
       "      <td>1.0</td>\n",
       "      <td>0.0</td>\n",
       "      <td>0.0</td>\n",
       "      <td>44651.0</td>\n",
       "      <td>NaN</td>\n",
       "    </tr>\n",
       "    <tr>\n",
       "      <th>44651</th>\n",
       "      <td>20240326_Onur_NG_555cFos_647NeuN_800Gad67_slid...</td>\n",
       "      <td>Items</td>\n",
       "      <td>p1_wA1_t1_m410_c0_z1_l1_o0</td>\n",
       "      <td>items</td>\n",
       "      <td>40</td>\n",
       "      <td>95</td>\n",
       "      <td>95</td>\n",
       "      <td>-7259.765137</td>\n",
       "      <td>-22451.365234</td>\n",
       "      <td>494</td>\n",
       "      <td>...</td>\n",
       "      <td>0.118526</td>\n",
       "      <td>0.028373</td>\n",
       "      <td>0.163114</td>\n",
       "      <td>0.0</td>\n",
       "      <td>0.0</td>\n",
       "      <td>1.0</td>\n",
       "      <td>0.0</td>\n",
       "      <td>0.0</td>\n",
       "      <td>44652.0</td>\n",
       "      <td>NaN</td>\n",
       "    </tr>\n",
       "    <tr>\n",
       "      <th>...</th>\n",
       "      <td>...</td>\n",
       "      <td>...</td>\n",
       "      <td>...</td>\n",
       "      <td>...</td>\n",
       "      <td>...</td>\n",
       "      <td>...</td>\n",
       "      <td>...</td>\n",
       "      <td>...</td>\n",
       "      <td>...</td>\n",
       "      <td>...</td>\n",
       "      <td>...</td>\n",
       "      <td>...</td>\n",
       "      <td>...</td>\n",
       "      <td>...</td>\n",
       "      <td>...</td>\n",
       "      <td>...</td>\n",
       "      <td>...</td>\n",
       "      <td>...</td>\n",
       "      <td>...</td>\n",
       "      <td>...</td>\n",
       "      <td>...</td>\n",
       "    </tr>\n",
       "    <tr>\n",
       "      <th>199658</th>\n",
       "      <td>20240326_Onur_NG_555cFos_647NeuN_800Gad67_slid...</td>\n",
       "      <td>Items</td>\n",
       "      <td>p1_wA1_t1_m587_c0_z1_l1_o0</td>\n",
       "      <td>items</td>\n",
       "      <td>90</td>\n",
       "      <td>470</td>\n",
       "      <td>470</td>\n",
       "      <td>-7282.640625</td>\n",
       "      <td>-24941.535156</td>\n",
       "      <td>337</td>\n",
       "      <td>...</td>\n",
       "      <td>0.102273</td>\n",
       "      <td>0.029247</td>\n",
       "      <td>0.018738</td>\n",
       "      <td>0.0</td>\n",
       "      <td>0.0</td>\n",
       "      <td>1.0</td>\n",
       "      <td>0.0</td>\n",
       "      <td>0.0</td>\n",
       "      <td>199659.0</td>\n",
       "      <td>NaN</td>\n",
       "    </tr>\n",
       "    <tr>\n",
       "      <th>199662</th>\n",
       "      <td>20240326_Onur_NG_555cFos_647NeuN_800Gad67_slid...</td>\n",
       "      <td>Items</td>\n",
       "      <td>p1_wA1_t1_m587_c0_z1_l1_o0</td>\n",
       "      <td>items</td>\n",
       "      <td>94</td>\n",
       "      <td>470</td>\n",
       "      <td>470</td>\n",
       "      <td>-7328.471191</td>\n",
       "      <td>-24937.666016</td>\n",
       "      <td>499</td>\n",
       "      <td>...</td>\n",
       "      <td>0.042938</td>\n",
       "      <td>0.029381</td>\n",
       "      <td>0.030612</td>\n",
       "      <td>0.0</td>\n",
       "      <td>0.0</td>\n",
       "      <td>1.0</td>\n",
       "      <td>0.0</td>\n",
       "      <td>0.0</td>\n",
       "      <td>199663.0</td>\n",
       "      <td>NaN</td>\n",
       "    </tr>\n",
       "    <tr>\n",
       "      <th>199666</th>\n",
       "      <td>20240326_Onur_NG_555cFos_647NeuN_800Gad67_slid...</td>\n",
       "      <td>Items</td>\n",
       "      <td>p1_wA1_t1_m587_c0_z1_l1_o0</td>\n",
       "      <td>items</td>\n",
       "      <td>99</td>\n",
       "      <td>470</td>\n",
       "      <td>470</td>\n",
       "      <td>-7192.584961</td>\n",
       "      <td>-24931.951172</td>\n",
       "      <td>689</td>\n",
       "      <td>...</td>\n",
       "      <td>0.079244</td>\n",
       "      <td>0.035221</td>\n",
       "      <td>0.219502</td>\n",
       "      <td>0.0</td>\n",
       "      <td>0.0</td>\n",
       "      <td>1.0</td>\n",
       "      <td>0.0</td>\n",
       "      <td>0.0</td>\n",
       "      <td>199667.0</td>\n",
       "      <td>NaN</td>\n",
       "    </tr>\n",
       "    <tr>\n",
       "      <th>199704</th>\n",
       "      <td>20240326_Onur_NG_555cFos_647NeuN_800Gad67_slid...</td>\n",
       "      <td>Items</td>\n",
       "      <td>p1_wA1_t1_m587_c0_z1_l1_o0</td>\n",
       "      <td>items</td>\n",
       "      <td>142</td>\n",
       "      <td>470</td>\n",
       "      <td>470</td>\n",
       "      <td>-7537.295410</td>\n",
       "      <td>-24862.175781</td>\n",
       "      <td>344</td>\n",
       "      <td>...</td>\n",
       "      <td>0.015500</td>\n",
       "      <td>0.019112</td>\n",
       "      <td>0.141300</td>\n",
       "      <td>0.0</td>\n",
       "      <td>0.0</td>\n",
       "      <td>1.0</td>\n",
       "      <td>0.0</td>\n",
       "      <td>0.0</td>\n",
       "      <td>199705.0</td>\n",
       "      <td>NaN</td>\n",
       "    </tr>\n",
       "    <tr>\n",
       "      <th>199757</th>\n",
       "      <td>20240326_Onur_NG_555cFos_647NeuN_800Gad67_slid...</td>\n",
       "      <td>Items</td>\n",
       "      <td>p1_wA1_t1_m587_c0_z1_l1_o0</td>\n",
       "      <td>items</td>\n",
       "      <td>210</td>\n",
       "      <td>470</td>\n",
       "      <td>470</td>\n",
       "      <td>-7567.976562</td>\n",
       "      <td>-24768.279297</td>\n",
       "      <td>623</td>\n",
       "      <td>...</td>\n",
       "      <td>0.023434</td>\n",
       "      <td>0.027183</td>\n",
       "      <td>0.017186</td>\n",
       "      <td>0.0</td>\n",
       "      <td>0.0</td>\n",
       "      <td>1.0</td>\n",
       "      <td>0.0</td>\n",
       "      <td>0.0</td>\n",
       "      <td>199758.0</td>\n",
       "      <td>NaN</td>\n",
       "    </tr>\n",
       "  </tbody>\n",
       "</table>\n",
       "<p>7079 rows × 137 columns</p>\n",
       "</div>"
      ]
     },
     "execution_count": 101,
     "metadata": {},
     "output_type": "execute_result"
    }
   ],
   "execution_count": 101
  },
  {
   "cell_type": "code",
   "source": "final_555_neg = final_555_neg['rowid'].to_list()",
   "metadata": {
    "collapsed": false,
    "ExecuteTime": {
     "end_time": "2024-04-22T12:43:54.526846Z",
     "start_time": "2024-04-22T12:43:54.524823Z"
    }
   },
   "id": "bd09efcf2b3d321b",
   "outputs": [],
   "execution_count": 102
  },
  {
   "cell_type": "code",
   "source": "weak_555_negative = final_555_neg",
   "metadata": {
    "collapsed": false,
    "ExecuteTime": {
     "end_time": "2024-04-22T12:45:37.435661Z",
     "start_time": "2024-04-22T12:45:37.433966Z"
    }
   },
   "id": "4526328e9809f24",
   "outputs": [],
   "execution_count": 104
  },
  {
   "cell_type": "code",
   "source": "",
   "metadata": {
    "collapsed": false,
    "ExecuteTime": {
     "end_time": "2024-04-22T12:45:15.643799Z",
     "start_time": "2024-04-22T12:45:15.642197Z"
    }
   },
   "id": "b5d89999d19ccb3d",
   "outputs": [],
   "execution_count": 102
  },
  {
   "cell_type": "code",
   "source": [
    "len(strong_555_positive)"
   ],
   "metadata": {
    "collapsed": false,
    "ExecuteTime": {
     "end_time": "2024-04-22T12:45:38.901338Z",
     "start_time": "2024-04-22T12:45:38.898463Z"
    }
   },
   "id": "72b08dd3eb29fd8e",
   "outputs": [
    {
     "data": {
      "text/plain": [
       "1581"
      ]
     },
     "execution_count": 105,
     "metadata": {},
     "output_type": "execute_result"
    }
   ],
   "execution_count": 105
  },
  {
   "cell_type": "code",
   "source": "len(weak_555_negative)",
   "metadata": {
    "collapsed": false,
    "ExecuteTime": {
     "end_time": "2024-04-22T12:45:42.739314Z",
     "start_time": "2024-04-22T12:45:42.736773Z"
    }
   },
   "id": "ed2f481af6360adc",
   "outputs": [
    {
     "data": {
      "text/plain": [
       "7079"
      ]
     },
     "execution_count": 106,
     "metadata": {},
     "output_type": "execute_result"
    }
   ],
   "execution_count": 106
  },
  {
   "cell_type": "code",
   "source": "",
   "metadata": {
    "collapsed": false,
    "ExecuteTime": {
     "end_time": "2024-04-22T12:45:21.792672Z",
     "start_time": "2024-04-22T12:45:21.791224Z"
    }
   },
   "id": "e297fd87213251a0",
   "outputs": [],
   "execution_count": 103
  },
  {
   "metadata": {},
   "cell_type": "code",
   "outputs": [],
   "execution_count": null,
   "source": "",
   "id": "a8876c6078652383"
  },
  {
   "metadata": {},
   "cell_type": "code",
   "outputs": [],
   "execution_count": null,
   "source": "",
   "id": "5e5c7f4cd1cac566"
  },
  {
   "cell_type": "code",
   "source": [
    "from copy import deepcopy\n",
    "from random import shuffle\n",
    "\n",
    "strong_555_positive_copy = deepcopy(strong_555_positive)\n",
    "weak_555_negative_copy = deepcopy(weak_555_negative)\n",
    "shuffle(strong_555_positive_copy)\n",
    "shuffle(weak_555_negative_copy)\n",
    "\n",
    "print('length strong_555_positive_copy', len(strong_555_positive_copy))\n",
    "print('length weak_555_negative_copy', len(weak_555_negative_copy))\n",
    "\n",
    "subset_dict = {'strong_555_pos': [], 'weak_555_neg': []}\n",
    "\n",
    "start_val = 500\n",
    "reps = 3\n",
    "groups = 1\n",
    "\n",
    "for g in range(groups):\n",
    "    for r in range(reps):\n",
    "        alist = []\n",
    "        entry = 'g'+str(g)+str('_r')+str(r)\n",
    "        for i in range(start_val):\n",
    "            alist.append(int(strong_555_positive_copy.pop()))\n",
    "        subset_dict['strong_555_pos'].append(alist)\n",
    "    start_val = int(start_val/2)\n",
    "\n",
    "start_val = 1000\n",
    "reps = 3\n",
    "groups = 7\n",
    "\n",
    "for g in range(groups):\n",
    "    for r in range(reps):\n",
    "        alist = []\n",
    "        entry = 'g'+str(g)+str('_r')+str(r)\n",
    "        for i in range(start_val):\n",
    "            alist.append(int(weak_555_negative_copy.pop()))\n",
    "        subset_dict['weak_555_neg'].append(alist)\n",
    "    start_val = int(start_val/2)"
   ],
   "metadata": {
    "collapsed": false,
    "ExecuteTime": {
     "end_time": "2024-04-22T12:47:23.606239Z",
     "start_time": "2024-04-22T12:47:23.597210Z"
    }
   },
   "id": "f2c677bc9898edfd",
   "outputs": [
    {
     "name": "stdout",
     "output_type": "stream",
     "text": [
      "length strong_555_positive_copy 1581\n",
      "length weak_555_negative_copy 7079\n"
     ]
    }
   ],
   "execution_count": 107
  },
  {
   "cell_type": "code",
   "source": [
    "for l in subset_dict['strong_555_pos']:\n",
    "    print(len(l))\n",
    "    \n",
    "print(len(strong_555_positive_copy))"
   ],
   "metadata": {
    "collapsed": false,
    "ExecuteTime": {
     "end_time": "2024-04-22T12:47:34.871273Z",
     "start_time": "2024-04-22T12:47:34.869376Z"
    }
   },
   "id": "86d82f14fff89d4a",
   "outputs": [
    {
     "name": "stdout",
     "output_type": "stream",
     "text": [
      "500\n",
      "500\n",
      "500\n",
      "81\n"
     ]
    }
   ],
   "execution_count": 108
  },
  {
   "cell_type": "code",
   "outputs": [],
   "source": [],
   "metadata": {
    "collapsed": false
   },
   "id": "79d2db24af4083ba",
   "execution_count": null
  },
  {
   "cell_type": "code",
   "outputs": [],
   "source": [],
   "metadata": {
    "collapsed": false
   },
   "id": "619d6d75ed37572c",
   "execution_count": null
  },
  {
   "cell_type": "code",
   "outputs": [],
   "source": [
    "pretext = \"SELECT \\'Item lists\\'.\\'il id\\', \\'Item lists\\'.\\'series\\', \\'Item lists\\'.\\'path\\', \\'Item lists\\'.\\'name\\', \\'Item lists\\'.\\'type\\', \\'Item lists\\'.\\'plate\\', \\'Item lists\\'.\\'well\\', \\'Region features\\'.\\'rowid\\', \\'Region features\\'.\\'item id\\', \\'Region features\\'.\\'fm id\\', \\'Region features\\'.\\'il id\\'\\nFROM \\'Region features\\'\\nINNER JOIN \\'Item lists\\' ON \\'Item lists\\'.\\'il id\\' = \\'Region features\\'.\\'il id\\'\\nWHERE \"\n",
    "\n",
    "for k,v in subset_dict.items():\n",
    "   for i,ind in enumerate(v):\n",
    "       if len(ind)>0:\n",
    "           outtext = pretext + ''.join([\"\\'Region features\\'.\\'rowid\\' = \\'{}\\' OR \".format(x) for x in subset_dict[k][i]])\n",
    "           sql_out = outtext.rstrip(' OR ')\n",
    "           outname = '/Users/onurserce/MPIB/20240125_MPIB_15um/{}_{}_{}_sqlQuery.sql'.format(k,i,len(ind))\n",
    "           with open(outname, 'w') as f:\n",
    "               f.write(sql_out)"
   ],
   "metadata": {
    "collapsed": false,
    "ExecuteTime": {
     "end_time": "2024-03-14T12:21:32.934138Z",
     "start_time": "2024-03-14T12:21:32.923451Z"
    }
   },
   "id": "33583716a3c5cf7d",
   "execution_count": 89
  },
  {
   "cell_type": "markdown",
   "source": [
    "\n",
    "\n",
    "Have sent the output SQL files to Edwin on 14.03.2024. We'll meet next week on Tuesday and Wednesday to deal with the LMD and start cutting.\n",
    "\n",
    "- Need to prioritize mask matching (Pia's code)\n",
    "- Remind Edwin to look for the slide (tomorrow morning and also on Monday)\n",
    "\n",
    "My conclusion:\n",
    "\n",
    "Not enough cFOS positive cells (at least within the Region 3)."
   ],
   "metadata": {
    "collapsed": false
   },
   "id": "97a8f5a8a073b64e"
  },
  {
   "cell_type": "code",
   "outputs": [],
   "source": [],
   "metadata": {
    "collapsed": false
   },
   "id": "57ae18b2058d70f0",
   "execution_count": null
  },
  {
   "cell_type": "markdown",
   "source": [
    "Ok, so the alternative is to make the titration curve from cells that are not cFOS positive (since we have a ton), and then just make a triplicate from the top X cFOS positive cells (X has to be a number that is in the titration curve, so that I can compare the data by)"
   ],
   "metadata": {
    "collapsed": false
   },
   "id": "413dedcdad27015b"
  },
  {
   "cell_type": "code",
   "outputs": [],
   "source": [
    "area_and_sytog_filtered_sorted = area_and_sytog_filtered.sort_values(['CELL INTENSITY-INTEGRATED AF555'], ascending=False)"
   ],
   "metadata": {
    "collapsed": false,
    "ExecuteTime": {
     "end_time": "2024-03-14T15:13:40.694964Z",
     "start_time": "2024-03-14T15:13:40.664079Z"
    }
   },
   "id": "9235fa8b4bbb4bd1",
   "execution_count": 110
  },
  {
   "cell_type": "code",
   "outputs": [
    {
     "data": {
      "text/plain": "<Axes: xlabel='CELL INTENSITY-INTEGRATED AF555', ylabel='CELL AREA'>"
     },
     "execution_count": 115,
     "metadata": {},
     "output_type": "execute_result"
    },
    {
     "data": {
      "text/plain": "<Figure size 640x480 with 1 Axes>",
      "image/png": "[encoded data removed]"
     },
     "metadata": {},
     "output_type": "display_data"
    }
   ],
   "source": [
    "sb.scatterplot(data=area_and_sytog_filtered_sorted[:3000], x='CELL INTENSITY-INTEGRATED AF555', y='CELL AREA')"
   ],
   "metadata": {
    "collapsed": false,
    "ExecuteTime": {
     "end_time": "2024-03-14T15:17:41.880916Z",
     "start_time": "2024-03-14T15:17:41.766339Z"
    }
   },
   "id": "9c7535e0fc2428d",
   "execution_count": 115
  },
  {
   "cell_type": "code",
   "outputs": [
    {
     "data": {
      "text/plain": "        il id                                             series  \\\n114412    171  20240125_Onur_15um_NG_555cfos_647neun-_EDFvar-...   \n159019    238  20240125_Onur_15um_NG_555cfos_647neun-_EDFvar-...   \n367275    568  20240125_Onur_15um_NG_555cfos_647neun-_EDFvar-...   \n371142    574  20240125_Onur_15um_NG_555cfos_647neun-_EDFvar-...   \n297986    461  20240125_Onur_15um_NG_555cfos_647neun-_EDFvar-...   \n...       ...                                                ...   \n383533    597  20240125_Onur_15um_NG_555cfos_647neun-_EDFvar-...   \n274794    420  20240125_Onur_15um_NG_555cfos_647neun-_EDFvar-...   \n174596    264  20240125_Onur_15um_NG_555cfos_647neun-_EDFvar-...   \n219022    335  20240125_Onur_15um_NG_555cfos_647neun-_EDFvar-...   \n236158    361  20240125_Onur_15um_NG_555cfos_647neun-_EDFvar-...   \n\n                    path                        name   type  plate well  \\\n114412  Items_NeuN_dedup  p1_wA1_t1_m351_c0_z1_l1_o0  items      1   A1   \n159019  Items_NeuN_dedup  p1_wA1_t1_m382_c0_z1_l1_o0  items      1   A1   \n367275  Items_NeuN_dedup  p1_wA1_t1_m339_c0_z1_l1_o0  items      1   A1   \n371142  Items_NeuN_dedup  p1_wA1_t1_m349_c0_z1_l1_o0  items      1   A1   \n297986  Items_NeuN_dedup  p1_wA1_t1_m337_c0_z1_l1_o0  items      1   A1   \n...                  ...                         ...    ...    ...  ...   \n383533  Items_NeuN_dedup  p1_wA1_t1_m389_c0_z1_l1_o0  items      1   A1   \n274794  Items_NeuN_dedup  p1_wA1_t1_m356_c0_z1_l1_o0  items      1   A1   \n174596  Items_NeuN_dedup  p1_wA1_t1_m333_c0_z1_l1_o0  items      1   A1   \n219022  Items_NeuN_dedup  p1_wA1_t1_m374_c0_z1_l1_o0  items      1   A1   \n236158  Items_NeuN_dedup  p1_wA1_t1_m335_c0_z1_l1_o0  items      1   A1   \n\n        well_row  well_column  timepoint  ...  \\\n114412         1            1          1  ...   \n159019         1            1          1  ...   \n367275         1            1          1  ...   \n371142         1            1          1  ...   \n297986         1            1          1  ...   \n...          ...          ...        ...  ...   \n383533         1            1          1  ...   \n274794         1            1          1  ...   \n174596         1            1          1  ...   \n219022         1            1          1  ...   \n236158         1            1          1  ...   \n\n        CELL WINDOWED-INTENSITY-STDDEV AF647  \\\n114412                              0.292245   \n159019                              0.241130   \n367275                              0.126649   \n371142                              0.062442   \n297986                              0.110366   \n...                                      ...   \n383533                              0.315752   \n274794                              0.132812   \n174596                              0.039590   \n219022                              0.045172   \n236158                              0.031272   \n\n        CELL WINDOWED-INTENSITY-STDDEV SYTOG  REGION COMBINED Region 1  \\\n114412                              0.143465                         0   \n159019                              0.099707                         0   \n367275                              0.121222                         0   \n371142                              0.115606                         0   \n297986                              0.104415                         0   \n...                                      ...                       ...   \n383533                              0.072754                         0   \n274794                              0.084052                         0   \n174596                              0.043385                         0   \n219022                              0.202989                         0   \n236158                              0.042937                         0   \n\n        REGION COMBINED Region 4  REGION COMBINED Region 5  \\\n114412                       0.0                       0.0   \n159019                       0.0                       0.0   \n367275                       0.0                       0.0   \n371142                       0.0                       0.0   \n297986                       0.0                       0.0   \n...                          ...                       ...   \n383533                       0.0                       0.0   \n274794                       0.0                       0.0   \n174596                       0.0                       0.0   \n219022                       0.0                       0.0   \n236158                       0.0                       0.0   \n\n        REGION COMBINED Region 2  REGION COMBINED Region 3     rowid  il id.2  \\\n114412                         0                       1.0  114415.0    171.0   \n159019                         0                       1.0  159022.0    238.0   \n367275                         0                       1.0  367282.0    568.0   \n371142                         0                       1.0  371149.0    574.0   \n297986                         0                       1.0  297993.0    461.0   \n...                          ...                       ...       ...      ...   \n383533                         0                       1.0  383542.0    597.0   \n274794                         0                       1.0  274801.0    420.0   \n174596                         0                       1.0  174599.0    264.0   \n219022                         0                       1.0  219027.0    335.0   \n236158                         0                       1.0  236165.0    361.0   \n\n        Unnamed: 230  \n114412           NaN  \n159019           NaN  \n367275           NaN  \n371142           NaN  \n297986           NaN  \n...              ...  \n383533           NaN  \n274794           NaN  \n174596           NaN  \n219022           NaN  \n236158           NaN  \n\n[3000 rows x 124 columns]",
      "text/html": "<div>\n<style scoped>\n    .dataframe tbody tr th:only-of-type {\n        vertical-align: middle;\n    }\n\n    .dataframe tbody tr th {\n        vertical-align: top;\n    }\n\n    .dataframe thead th {\n        text-align: right;\n    }\n</style>\n<table border=\"1\" class=\"dataframe\">\n  <thead>\n    <tr style=\"text-align: right;\">\n      <th></th>\n      <th>il id</th>\n      <th>series</th>\n      <th>path</th>\n      <th>name</th>\n      <th>type</th>\n      <th>plate</th>\n      <th>well</th>\n      <th>well_row</th>\n      <th>well_column</th>\n      <th>timepoint</th>\n      <th>...</th>\n      <th>CELL WINDOWED-INTENSITY-STDDEV AF647</th>\n      <th>CELL WINDOWED-INTENSITY-STDDEV SYTOG</th>\n      <th>REGION COMBINED Region 1</th>\n      <th>REGION COMBINED Region 4</th>\n      <th>REGION COMBINED Region 5</th>\n      <th>REGION COMBINED Region 2</th>\n      <th>REGION COMBINED Region 3</th>\n      <th>rowid</th>\n      <th>il id.2</th>\n      <th>Unnamed: 230</th>\n    </tr>\n  </thead>\n  <tbody>\n    <tr>\n      <th>114412</th>\n      <td>171</td>\n      <td>20240125_Onur_15um_NG_555cfos_647neun-_EDFvar-...</td>\n      <td>Items_NeuN_dedup</td>\n      <td>p1_wA1_t1_m351_c0_z1_l1_o0</td>\n      <td>items</td>\n      <td>1</td>\n      <td>A1</td>\n      <td>1</td>\n      <td>1</td>\n      <td>1</td>\n      <td>...</td>\n      <td>0.292245</td>\n      <td>0.143465</td>\n      <td>0</td>\n      <td>0.0</td>\n      <td>0.0</td>\n      <td>0</td>\n      <td>1.0</td>\n      <td>114415.0</td>\n      <td>171.0</td>\n      <td>NaN</td>\n    </tr>\n    <tr>\n      <th>159019</th>\n      <td>238</td>\n      <td>20240125_Onur_15um_NG_555cfos_647neun-_EDFvar-...</td>\n      <td>Items_NeuN_dedup</td>\n      <td>p1_wA1_t1_m382_c0_z1_l1_o0</td>\n      <td>items</td>\n      <td>1</td>\n      <td>A1</td>\n      <td>1</td>\n      <td>1</td>\n      <td>1</td>\n      <td>...</td>\n      <td>0.241130</td>\n      <td>0.099707</td>\n      <td>0</td>\n      <td>0.0</td>\n      <td>0.0</td>\n      <td>0</td>\n      <td>1.0</td>\n      <td>159022.0</td>\n      <td>238.0</td>\n      <td>NaN</td>\n    </tr>\n    <tr>\n      <th>367275</th>\n      <td>568</td>\n      <td>20240125_Onur_15um_NG_555cfos_647neun-_EDFvar-...</td>\n      <td>Items_NeuN_dedup</td>\n      <td>p1_wA1_t1_m339_c0_z1_l1_o0</td>\n      <td>items</td>\n      <td>1</td>\n      <td>A1</td>\n      <td>1</td>\n      <td>1</td>\n      <td>1</td>\n      <td>...</td>\n      <td>0.126649</td>\n      <td>0.121222</td>\n      <td>0</td>\n      <td>0.0</td>\n      <td>0.0</td>\n      <td>0</td>\n      <td>1.0</td>\n      <td>367282.0</td>\n      <td>568.0</td>\n      <td>NaN</td>\n    </tr>\n    <tr>\n      <th>371142</th>\n      <td>574</td>\n      <td>20240125_Onur_15um_NG_555cfos_647neun-_EDFvar-...</td>\n      <td>Items_NeuN_dedup</td>\n      <td>p1_wA1_t1_m349_c0_z1_l1_o0</td>\n      <td>items</td>\n      <td>1</td>\n      <td>A1</td>\n      <td>1</td>\n      <td>1</td>\n      <td>1</td>\n      <td>...</td>\n      <td>0.062442</td>\n      <td>0.115606</td>\n      <td>0</td>\n      <td>0.0</td>\n      <td>0.0</td>\n      <td>0</td>\n      <td>1.0</td>\n      <td>371149.0</td>\n      <td>574.0</td>\n      <td>NaN</td>\n    </tr>\n    <tr>\n      <th>297986</th>\n      <td>461</td>\n      <td>20240125_Onur_15um_NG_555cfos_647neun-_EDFvar-...</td>\n      <td>Items_NeuN_dedup</td>\n      <td>p1_wA1_t1_m337_c0_z1_l1_o0</td>\n      <td>items</td>\n      <td>1</td>\n      <td>A1</td>\n      <td>1</td>\n      <td>1</td>\n      <td>1</td>\n      <td>...</td>\n      <td>0.110366</td>\n      <td>0.104415</td>\n      <td>0</td>\n      <td>0.0</td>\n      <td>0.0</td>\n      <td>0</td>\n      <td>1.0</td>\n      <td>297993.0</td>\n      <td>461.0</td>\n      <td>NaN</td>\n    </tr>\n    <tr>\n      <th>...</th>\n      <td>...</td>\n      <td>...</td>\n      <td>...</td>\n      <td>...</td>\n      <td>...</td>\n      <td>...</td>\n      <td>...</td>\n      <td>...</td>\n      <td>...</td>\n      <td>...</td>\n      <td>...</td>\n      <td>...</td>\n      <td>...</td>\n      <td>...</td>\n      <td>...</td>\n      <td>...</td>\n      <td>...</td>\n      <td>...</td>\n      <td>...</td>\n      <td>...</td>\n      <td>...</td>\n    </tr>\n    <tr>\n      <th>383533</th>\n      <td>597</td>\n      <td>20240125_Onur_15um_NG_555cfos_647neun-_EDFvar-...</td>\n      <td>Items_NeuN_dedup</td>\n      <td>p1_wA1_t1_m389_c0_z1_l1_o0</td>\n      <td>items</td>\n      <td>1</td>\n      <td>A1</td>\n      <td>1</td>\n      <td>1</td>\n      <td>1</td>\n      <td>...</td>\n      <td>0.315752</td>\n      <td>0.072754</td>\n      <td>0</td>\n      <td>0.0</td>\n      <td>0.0</td>\n      <td>0</td>\n      <td>1.0</td>\n      <td>383542.0</td>\n      <td>597.0</td>\n      <td>NaN</td>\n    </tr>\n    <tr>\n      <th>274794</th>\n      <td>420</td>\n      <td>20240125_Onur_15um_NG_555cfos_647neun-_EDFvar-...</td>\n      <td>Items_NeuN_dedup</td>\n      <td>p1_wA1_t1_m356_c0_z1_l1_o0</td>\n      <td>items</td>\n      <td>1</td>\n      <td>A1</td>\n      <td>1</td>\n      <td>1</td>\n      <td>1</td>\n      <td>...</td>\n      <td>0.132812</td>\n      <td>0.084052</td>\n      <td>0</td>\n      <td>0.0</td>\n      <td>0.0</td>\n      <td>0</td>\n      <td>1.0</td>\n      <td>274801.0</td>\n      <td>420.0</td>\n      <td>NaN</td>\n    </tr>\n    <tr>\n      <th>174596</th>\n      <td>264</td>\n      <td>20240125_Onur_15um_NG_555cfos_647neun-_EDFvar-...</td>\n      <td>Items_NeuN_dedup</td>\n      <td>p1_wA1_t1_m333_c0_z1_l1_o0</td>\n      <td>items</td>\n      <td>1</td>\n      <td>A1</td>\n      <td>1</td>\n      <td>1</td>\n      <td>1</td>\n      <td>...</td>\n      <td>0.039590</td>\n      <td>0.043385</td>\n      <td>0</td>\n      <td>0.0</td>\n      <td>0.0</td>\n      <td>0</td>\n      <td>1.0</td>\n      <td>174599.0</td>\n      <td>264.0</td>\n      <td>NaN</td>\n    </tr>\n    <tr>\n      <th>219022</th>\n      <td>335</td>\n      <td>20240125_Onur_15um_NG_555cfos_647neun-_EDFvar-...</td>\n      <td>Items_NeuN_dedup</td>\n      <td>p1_wA1_t1_m374_c0_z1_l1_o0</td>\n      <td>items</td>\n      <td>1</td>\n      <td>A1</td>\n      <td>1</td>\n      <td>1</td>\n      <td>1</td>\n      <td>...</td>\n      <td>0.045172</td>\n      <td>0.202989</td>\n      <td>0</td>\n      <td>0.0</td>\n      <td>0.0</td>\n      <td>0</td>\n      <td>1.0</td>\n      <td>219027.0</td>\n      <td>335.0</td>\n      <td>NaN</td>\n    </tr>\n    <tr>\n      <th>236158</th>\n      <td>361</td>\n      <td>20240125_Onur_15um_NG_555cfos_647neun-_EDFvar-...</td>\n      <td>Items_NeuN_dedup</td>\n      <td>p1_wA1_t1_m335_c0_z1_l1_o0</td>\n      <td>items</td>\n      <td>1</td>\n      <td>A1</td>\n      <td>1</td>\n      <td>1</td>\n      <td>1</td>\n      <td>...</td>\n      <td>0.031272</td>\n      <td>0.042937</td>\n      <td>0</td>\n      <td>0.0</td>\n      <td>0.0</td>\n      <td>0</td>\n      <td>1.0</td>\n      <td>236165.0</td>\n      <td>361.0</td>\n      <td>NaN</td>\n    </tr>\n  </tbody>\n</table>\n<p>3000 rows × 124 columns</p>\n</div>"
     },
     "execution_count": 124,
     "metadata": {},
     "output_type": "execute_result"
    }
   ],
   "source": [
    "area_and_sytog_filtered_sorted_AF555_top3000 = area_and_sytog_filtered_sorted[:3000]\n",
    "area_and_sytog_filtered_sorted_AF555_top3000"
   ],
   "metadata": {
    "collapsed": false,
    "ExecuteTime": {
     "end_time": "2024-03-14T16:58:13.913600Z",
     "start_time": "2024-03-14T16:58:13.900215Z"
    }
   },
   "id": "5c1e2875e699bb35",
   "execution_count": 124
  },
  {
   "cell_type": "code",
   "outputs": [
    {
     "data": {
      "text/plain": "PearsonRResult(statistic=-0.0011585467694318454, pvalue=0.9494242611767699)"
     },
     "execution_count": 122,
     "metadata": {},
     "output_type": "execute_result"
    }
   ],
   "source": [
    "from scipy.stats import pearsonr\n",
    "\n",
    "pearsonr(x=area_and_sytog_filtered_sorted_top3000['CELL INTENSITY-INTEGRATED AF555'],\n",
    "         y=area_and_sytog_filtered_sorted_top3000['CELL AREA'],\n",
    "         alternative='two-sided', method=None)"
   ],
   "metadata": {
    "collapsed": false,
    "ExecuteTime": {
     "end_time": "2024-03-14T16:57:00.479452Z",
     "start_time": "2024-03-14T16:57:00.474262Z"
    }
   },
   "id": "b021a59faec835d4",
   "execution_count": 122
  },
  {
   "cell_type": "code",
   "outputs": [
    {
     "data": {
      "text/plain": "PearsonRResult(statistic=0.18039581271694313, pvalue=0.0)"
     },
     "execution_count": 123,
     "metadata": {},
     "output_type": "execute_result"
    }
   ],
   "source": [
    "pearsonr(x=subdf['CELL INTENSITY-INTEGRATED AF555'],\n",
    "         y=subdf['CELL AREA'],\n",
    "         alternative='two-sided', method=None)"
   ],
   "metadata": {
    "collapsed": false,
    "ExecuteTime": {
     "end_time": "2024-03-14T16:57:04.269428Z",
     "start_time": "2024-03-14T16:57:04.262795Z"
    }
   },
   "id": "bca48639f498749",
   "execution_count": 123
  },
  {
   "cell_type": "code",
   "outputs": [
    {
     "data": {
      "text/plain": "10581.300000000003"
     },
     "execution_count": 137,
     "metadata": {},
     "output_type": "execute_result"
    }
   ],
   "source": [
    "subdf['CELL AREA'].quantile(0.98)"
   ],
   "metadata": {
    "collapsed": false,
    "ExecuteTime": {
     "end_time": "2024-03-14T17:23:40.509306Z",
     "start_time": "2024-03-14T17:23:40.504741Z"
    }
   },
   "id": "e0897e29ed28e6ff",
   "execution_count": 137
  },
  {
   "cell_type": "code",
   "outputs": [
    {
     "data": {
      "text/plain": "10581.300000000003"
     },
     "execution_count": 138,
     "metadata": {},
     "output_type": "execute_result"
    }
   ],
   "source": [
    "subdf['CELL AREA'].quantile(0.98)"
   ],
   "metadata": {
    "collapsed": false,
    "ExecuteTime": {
     "end_time": "2024-03-14T17:25:08.280637Z",
     "start_time": "2024-03-14T17:25:08.276457Z"
    }
   },
   "id": "b205d18ae5cdaf85",
   "execution_count": 138
  },
  {
   "cell_type": "code",
   "outputs": [
    {
     "data": {
      "text/plain": "14446116454.400043"
     },
     "execution_count": 139,
     "metadata": {},
     "output_type": "execute_result"
    }
   ],
   "source": [
    "subdf['CELL INTENSITY-INTEGRATED AF555'].quantile(0.98)"
   ],
   "metadata": {
    "collapsed": false,
    "ExecuteTime": {
     "end_time": "2024-03-14T17:25:27.646233Z",
     "start_time": "2024-03-14T17:25:27.641243Z"
    }
   },
   "id": "ffbd6f5ae852b9bb",
   "execution_count": 139
  },
  {
   "cell_type": "code",
   "outputs": [
    {
     "data": {
      "text/plain": "        il id                                             series  \\\n60932      91  20240125_Onur_15um_NG_555cfos_647neun-_EDFvar-...   \n60951      91  20240125_Onur_15um_NG_555cfos_647neun-_EDFvar-...   \n61000      91  20240125_Onur_15um_NG_555cfos_647neun-_EDFvar-...   \n61208      91  20240125_Onur_15um_NG_555cfos_647neun-_EDFvar-...   \n61347      91  20240125_Onur_15um_NG_555cfos_647neun-_EDFvar-...   \n...       ...                                                ...   \n386850    601  20240125_Onur_15um_NG_555cfos_647neun-_EDFvar-...   \n386944    601  20240125_Onur_15um_NG_555cfos_647neun-_EDFvar-...   \n387087    601  20240125_Onur_15um_NG_555cfos_647neun-_EDFvar-...   \n387107    601  20240125_Onur_15um_NG_555cfos_647neun-_EDFvar-...   \n387234    601  20240125_Onur_15um_NG_555cfos_647neun-_EDFvar-...   \n\n                    path                        name   type  plate well  \\\n60932   Items_NeuN_dedup  p1_wA1_t1_m300_c0_z1_l1_o0  items      1   A1   \n60951   Items_NeuN_dedup  p1_wA1_t1_m300_c0_z1_l1_o0  items      1   A1   \n61000   Items_NeuN_dedup  p1_wA1_t1_m300_c0_z1_l1_o0  items      1   A1   \n61208   Items_NeuN_dedup  p1_wA1_t1_m300_c0_z1_l1_o0  items      1   A1   \n61347   Items_NeuN_dedup  p1_wA1_t1_m300_c0_z1_l1_o0  items      1   A1   \n...                  ...                         ...    ...    ...  ...   \n386850  Items_NeuN_dedup  p1_wA1_t1_m299_c0_z1_l1_o0  items      1   A1   \n386944  Items_NeuN_dedup  p1_wA1_t1_m299_c0_z1_l1_o0  items      1   A1   \n387087  Items_NeuN_dedup  p1_wA1_t1_m299_c0_z1_l1_o0  items      1   A1   \n387107  Items_NeuN_dedup  p1_wA1_t1_m299_c0_z1_l1_o0  items      1   A1   \n387234  Items_NeuN_dedup  p1_wA1_t1_m299_c0_z1_l1_o0  items      1   A1   \n\n        well_row  well_column  timepoint  ...  \\\n60932          1            1          1  ...   \n60951          1            1          1  ...   \n61000          1            1          1  ...   \n61208          1            1          1  ...   \n61347          1            1          1  ...   \n...          ...          ...        ...  ...   \n386850         1            1          1  ...   \n386944         1            1          1  ...   \n387087         1            1          1  ...   \n387107         1            1          1  ...   \n387234         1            1          1  ...   \n\n        CELL WINDOWED-INTENSITY-STDDEV AF647  \\\n60932                               0.173268   \n60951                               0.140380   \n61000                               0.072057   \n61208                               0.231407   \n61347                               0.130253   \n...                                      ...   \n386850                              0.112668   \n386944                              0.155744   \n387087                              0.056135   \n387107                              0.097198   \n387234                              0.241308   \n\n        CELL WINDOWED-INTENSITY-STDDEV SYTOG  REGION COMBINED Region 1  \\\n60932                               0.099368                         0   \n60951                               0.057854                         0   \n61000                               0.113374                         0   \n61208                               0.111357                         0   \n61347                               0.137259                         0   \n...                                      ...                       ...   \n386850                              0.130737                         0   \n386944                              0.121143                         0   \n387087                              0.151583                         0   \n387107                              0.101589                         0   \n387234                              0.146797                         0   \n\n        REGION COMBINED Region 4  REGION COMBINED Region 5  \\\n60932                        0.0                       0.0   \n60951                        0.0                       0.0   \n61000                        0.0                       0.0   \n61208                        0.0                       0.0   \n61347                        0.0                       0.0   \n...                          ...                       ...   \n386850                       0.0                       0.0   \n386944                       0.0                       0.0   \n387087                       0.0                       0.0   \n387107                       0.0                       0.0   \n387234                       0.0                       0.0   \n\n        REGION COMBINED Region 2  REGION COMBINED Region 3     rowid  il id.2  \\\n60932                          0                       1.0   60935.0     91.0   \n60951                          0                       1.0   60954.0     91.0   \n61000                          0                       1.0   61003.0     91.0   \n61208                          0                       1.0   61211.0     91.0   \n61347                          0                       1.0   61350.0     91.0   \n...                          ...                       ...       ...      ...   \n386850                         0                       1.0  386859.0    601.0   \n386944                         0                       1.0  386953.0    601.0   \n387087                         0                       1.0  387096.0    601.0   \n387107                         0                       1.0  387116.0    601.0   \n387234                         0                       1.0  387243.0    601.0   \n\n        Unnamed: 230  \n60932            NaN  \n60951            NaN  \n61000            NaN  \n61208            NaN  \n61347            NaN  \n...              ...  \n386850           NaN  \n386944           NaN  \n387087           NaN  \n387107           NaN  \n387234           NaN  \n\n[1500 rows x 124 columns]",
      "text/html": "<div>\n<style scoped>\n    .dataframe tbody tr th:only-of-type {\n        vertical-align: middle;\n    }\n\n    .dataframe tbody tr th {\n        vertical-align: top;\n    }\n\n    .dataframe thead th {\n        text-align: right;\n    }\n</style>\n<table border=\"1\" class=\"dataframe\">\n  <thead>\n    <tr style=\"text-align: right;\">\n      <th></th>\n      <th>il id</th>\n      <th>series</th>\n      <th>path</th>\n      <th>name</th>\n      <th>type</th>\n      <th>plate</th>\n      <th>well</th>\n      <th>well_row</th>\n      <th>well_column</th>\n      <th>timepoint</th>\n      <th>...</th>\n      <th>CELL WINDOWED-INTENSITY-STDDEV AF647</th>\n      <th>CELL WINDOWED-INTENSITY-STDDEV SYTOG</th>\n      <th>REGION COMBINED Region 1</th>\n      <th>REGION COMBINED Region 4</th>\n      <th>REGION COMBINED Region 5</th>\n      <th>REGION COMBINED Region 2</th>\n      <th>REGION COMBINED Region 3</th>\n      <th>rowid</th>\n      <th>il id.2</th>\n      <th>Unnamed: 230</th>\n    </tr>\n  </thead>\n  <tbody>\n    <tr>\n      <th>60932</th>\n      <td>91</td>\n      <td>20240125_Onur_15um_NG_555cfos_647neun-_EDFvar-...</td>\n      <td>Items_NeuN_dedup</td>\n      <td>p1_wA1_t1_m300_c0_z1_l1_o0</td>\n      <td>items</td>\n      <td>1</td>\n      <td>A1</td>\n      <td>1</td>\n      <td>1</td>\n      <td>1</td>\n      <td>...</td>\n      <td>0.173268</td>\n      <td>0.099368</td>\n      <td>0</td>\n      <td>0.0</td>\n      <td>0.0</td>\n      <td>0</td>\n      <td>1.0</td>\n      <td>60935.0</td>\n      <td>91.0</td>\n      <td>NaN</td>\n    </tr>\n    <tr>\n      <th>60951</th>\n      <td>91</td>\n      <td>20240125_Onur_15um_NG_555cfos_647neun-_EDFvar-...</td>\n      <td>Items_NeuN_dedup</td>\n      <td>p1_wA1_t1_m300_c0_z1_l1_o0</td>\n      <td>items</td>\n      <td>1</td>\n      <td>A1</td>\n      <td>1</td>\n      <td>1</td>\n      <td>1</td>\n      <td>...</td>\n      <td>0.140380</td>\n      <td>0.057854</td>\n      <td>0</td>\n      <td>0.0</td>\n      <td>0.0</td>\n      <td>0</td>\n      <td>1.0</td>\n      <td>60954.0</td>\n      <td>91.0</td>\n      <td>NaN</td>\n    </tr>\n    <tr>\n      <th>61000</th>\n      <td>91</td>\n      <td>20240125_Onur_15um_NG_555cfos_647neun-_EDFvar-...</td>\n      <td>Items_NeuN_dedup</td>\n      <td>p1_wA1_t1_m300_c0_z1_l1_o0</td>\n      <td>items</td>\n      <td>1</td>\n      <td>A1</td>\n      <td>1</td>\n      <td>1</td>\n      <td>1</td>\n      <td>...</td>\n      <td>0.072057</td>\n      <td>0.113374</td>\n      <td>0</td>\n      <td>0.0</td>\n      <td>0.0</td>\n      <td>0</td>\n      <td>1.0</td>\n      <td>61003.0</td>\n      <td>91.0</td>\n      <td>NaN</td>\n    </tr>\n    <tr>\n      <th>61208</th>\n      <td>91</td>\n      <td>20240125_Onur_15um_NG_555cfos_647neun-_EDFvar-...</td>\n      <td>Items_NeuN_dedup</td>\n      <td>p1_wA1_t1_m300_c0_z1_l1_o0</td>\n      <td>items</td>\n      <td>1</td>\n      <td>A1</td>\n      <td>1</td>\n      <td>1</td>\n      <td>1</td>\n      <td>...</td>\n      <td>0.231407</td>\n      <td>0.111357</td>\n      <td>0</td>\n      <td>0.0</td>\n      <td>0.0</td>\n      <td>0</td>\n      <td>1.0</td>\n      <td>61211.0</td>\n      <td>91.0</td>\n      <td>NaN</td>\n    </tr>\n    <tr>\n      <th>61347</th>\n      <td>91</td>\n      <td>20240125_Onur_15um_NG_555cfos_647neun-_EDFvar-...</td>\n      <td>Items_NeuN_dedup</td>\n      <td>p1_wA1_t1_m300_c0_z1_l1_o0</td>\n      <td>items</td>\n      <td>1</td>\n      <td>A1</td>\n      <td>1</td>\n      <td>1</td>\n      <td>1</td>\n      <td>...</td>\n      <td>0.130253</td>\n      <td>0.137259</td>\n      <td>0</td>\n      <td>0.0</td>\n      <td>0.0</td>\n      <td>0</td>\n      <td>1.0</td>\n      <td>61350.0</td>\n      <td>91.0</td>\n      <td>NaN</td>\n    </tr>\n    <tr>\n      <th>...</th>\n      <td>...</td>\n      <td>...</td>\n      <td>...</td>\n      <td>...</td>\n      <td>...</td>\n      <td>...</td>\n      <td>...</td>\n      <td>...</td>\n      <td>...</td>\n      <td>...</td>\n      <td>...</td>\n      <td>...</td>\n      <td>...</td>\n      <td>...</td>\n      <td>...</td>\n      <td>...</td>\n      <td>...</td>\n      <td>...</td>\n      <td>...</td>\n      <td>...</td>\n      <td>...</td>\n    </tr>\n    <tr>\n      <th>386850</th>\n      <td>601</td>\n      <td>20240125_Onur_15um_NG_555cfos_647neun-_EDFvar-...</td>\n      <td>Items_NeuN_dedup</td>\n      <td>p1_wA1_t1_m299_c0_z1_l1_o0</td>\n      <td>items</td>\n      <td>1</td>\n      <td>A1</td>\n      <td>1</td>\n      <td>1</td>\n      <td>1</td>\n      <td>...</td>\n      <td>0.112668</td>\n      <td>0.130737</td>\n      <td>0</td>\n      <td>0.0</td>\n      <td>0.0</td>\n      <td>0</td>\n      <td>1.0</td>\n      <td>386859.0</td>\n      <td>601.0</td>\n      <td>NaN</td>\n    </tr>\n    <tr>\n      <th>386944</th>\n      <td>601</td>\n      <td>20240125_Onur_15um_NG_555cfos_647neun-_EDFvar-...</td>\n      <td>Items_NeuN_dedup</td>\n      <td>p1_wA1_t1_m299_c0_z1_l1_o0</td>\n      <td>items</td>\n      <td>1</td>\n      <td>A1</td>\n      <td>1</td>\n      <td>1</td>\n      <td>1</td>\n      <td>...</td>\n      <td>0.155744</td>\n      <td>0.121143</td>\n      <td>0</td>\n      <td>0.0</td>\n      <td>0.0</td>\n      <td>0</td>\n      <td>1.0</td>\n      <td>386953.0</td>\n      <td>601.0</td>\n      <td>NaN</td>\n    </tr>\n    <tr>\n      <th>387087</th>\n      <td>601</td>\n      <td>20240125_Onur_15um_NG_555cfos_647neun-_EDFvar-...</td>\n      <td>Items_NeuN_dedup</td>\n      <td>p1_wA1_t1_m299_c0_z1_l1_o0</td>\n      <td>items</td>\n      <td>1</td>\n      <td>A1</td>\n      <td>1</td>\n      <td>1</td>\n      <td>1</td>\n      <td>...</td>\n      <td>0.056135</td>\n      <td>0.151583</td>\n      <td>0</td>\n      <td>0.0</td>\n      <td>0.0</td>\n      <td>0</td>\n      <td>1.0</td>\n      <td>387096.0</td>\n      <td>601.0</td>\n      <td>NaN</td>\n    </tr>\n    <tr>\n      <th>387107</th>\n      <td>601</td>\n      <td>20240125_Onur_15um_NG_555cfos_647neun-_EDFvar-...</td>\n      <td>Items_NeuN_dedup</td>\n      <td>p1_wA1_t1_m299_c0_z1_l1_o0</td>\n      <td>items</td>\n      <td>1</td>\n      <td>A1</td>\n      <td>1</td>\n      <td>1</td>\n      <td>1</td>\n      <td>...</td>\n      <td>0.097198</td>\n      <td>0.101589</td>\n      <td>0</td>\n      <td>0.0</td>\n      <td>0.0</td>\n      <td>0</td>\n      <td>1.0</td>\n      <td>387116.0</td>\n      <td>601.0</td>\n      <td>NaN</td>\n    </tr>\n    <tr>\n      <th>387234</th>\n      <td>601</td>\n      <td>20240125_Onur_15um_NG_555cfos_647neun-_EDFvar-...</td>\n      <td>Items_NeuN_dedup</td>\n      <td>p1_wA1_t1_m299_c0_z1_l1_o0</td>\n      <td>items</td>\n      <td>1</td>\n      <td>A1</td>\n      <td>1</td>\n      <td>1</td>\n      <td>1</td>\n      <td>...</td>\n      <td>0.241308</td>\n      <td>0.146797</td>\n      <td>0</td>\n      <td>0.0</td>\n      <td>0.0</td>\n      <td>0</td>\n      <td>1.0</td>\n      <td>387243.0</td>\n      <td>601.0</td>\n      <td>NaN</td>\n    </tr>\n  </tbody>\n</table>\n<p>1500 rows × 124 columns</p>\n</div>"
     },
     "execution_count": 184,
     "metadata": {},
     "output_type": "execute_result"
    }
   ],
   "source": [
    "selected = subdf.loc[(subdf['CELL INTENSITY-INTEGRATED AF555'] > 14446116454) & (subdf['CELL AREA'].between(3307, 10581))]\n",
    "selected"
   ],
   "metadata": {
    "collapsed": false,
    "ExecuteTime": {
     "end_time": "2024-03-14T17:45:57.306626Z",
     "start_time": "2024-03-14T17:45:57.286374Z"
    }
   },
   "id": "1462643f4c943075",
   "execution_count": 184
  },
  {
   "cell_type": "code",
   "outputs": [
    {
     "data": {
      "text/plain": "<Figure size 640x480 with 1 Axes>",
      "image/png": "[encoded data removed]"
     },
     "metadata": {},
     "output_type": "display_data"
    }
   ],
   "source": [
    "sb.scatterplot(data=subdf, x='CELL INTENSITY-INTEGRATED AF555', y='CELL AREA')\n",
    "sb.scatterplot(data=selected, x='CELL INTENSITY-INTEGRATED AF555', y='CELL AREA', color='r')\n",
    "\n",
    "plt.axhline(y=10581, linestyle='--', c='r')\n",
    "plt.axhline(y=3307, linestyle='--', c='r')\n",
    "plt.axvline(x=14446116454, linestyle='--', c='r')\n",
    "\n",
    "plt.xscale('log')"
   ],
   "metadata": {
    "collapsed": false,
    "ExecuteTime": {
     "end_time": "2024-03-14T17:47:05.945508Z",
     "start_time": "2024-03-14T17:47:05.563289Z"
    }
   },
   "id": "5e1033da818e2214",
   "execution_count": 189
  },
  {
   "cell_type": "code",
   "outputs": [],
   "source": [
    "selected.to_csv('/Users/onurserce/MPIB/20240125_MPIB_15um/selected_555_positive.csv', index=True)"
   ],
   "metadata": {
    "collapsed": false,
    "ExecuteTime": {
     "end_time": "2024-03-14T17:51:22.644857Z",
     "start_time": "2024-03-14T17:51:22.529028Z"
    }
   },
   "id": "1f86bb7bc87de12a",
   "execution_count": 194
  },
  {
   "cell_type": "code",
   "outputs": [],
   "source": [],
   "metadata": {
    "collapsed": false,
    "ExecuteTime": {
     "end_time": "2024-03-15T16:03:26.309726Z",
     "start_time": "2024-03-15T16:03:26.301773Z"
    }
   },
   "id": "fdfd5417750c5531",
   "execution_count": 203
  },
  {
   "cell_type": "code",
   "outputs": [],
   "source": [],
   "metadata": {
    "collapsed": false,
    "ExecuteTime": {
     "end_time": "2024-03-15T16:04:02.896939Z",
     "start_time": "2024-03-15T16:04:02.894026Z"
    }
   },
   "id": "8e4b6c65158c1e9",
   "execution_count": 204
  },
  {
   "cell_type": "code",
   "outputs": [
    {
     "data": {
      "text/plain": "interactive(children=(FloatRangeSlider(value=(314.0, 15331.0), continuous_update=False, description='Threshold…",
      "application/vnd.jupyter.widget-view+json": {
       "version_major": 2,
       "version_minor": 0,
       "model_id": "896ec22591b44b59ac639fe88467e77b"
      }
     },
     "metadata": {},
     "output_type": "display_data"
    }
   ],
   "source": [
    "define_thresholds(subdf, 'CELL INTENSITY-MEAN AF555')"
   ],
   "metadata": {
    "collapsed": false,
    "ExecuteTime": {
     "end_time": "2024-03-15T15:49:59.599177Z",
     "start_time": "2024-03-15T15:49:59.206566Z"
    }
   },
   "id": "ea342e32d7ef5c25",
   "execution_count": 202
  },
  {
   "cell_type": "code",
   "outputs": [
    {
     "data": {
      "text/plain": "        il id                                             series  \\\n60779      91  20240125_Onur_15um_NG_555cfos_647neun-_EDFvar-...   \n60781      91  20240125_Onur_15um_NG_555cfos_647neun-_EDFvar-...   \n60783      91  20240125_Onur_15um_NG_555cfos_647neun-_EDFvar-...   \n60790      91  20240125_Onur_15um_NG_555cfos_647neun-_EDFvar-...   \n60797      91  20240125_Onur_15um_NG_555cfos_647neun-_EDFvar-...   \n...       ...                                                ...   \n387400    602  20240125_Onur_15um_NG_555cfos_647neun-_EDFvar-...   \n387402    602  20240125_Onur_15um_NG_555cfos_647neun-_EDFvar-...   \n387403    602  20240125_Onur_15um_NG_555cfos_647neun-_EDFvar-...   \n387404    602  20240125_Onur_15um_NG_555cfos_647neun-_EDFvar-...   \n387405    602  20240125_Onur_15um_NG_555cfos_647neun-_EDFvar-...   \n\n                    path                        name   type  plate well  \\\n60779   Items_NeuN_dedup  p1_wA1_t1_m300_c0_z1_l1_o0  items      1   A1   \n60781   Items_NeuN_dedup  p1_wA1_t1_m300_c0_z1_l1_o0  items      1   A1   \n60783   Items_NeuN_dedup  p1_wA1_t1_m300_c0_z1_l1_o0  items      1   A1   \n60790   Items_NeuN_dedup  p1_wA1_t1_m300_c0_z1_l1_o0  items      1   A1   \n60797   Items_NeuN_dedup  p1_wA1_t1_m300_c0_z1_l1_o0  items      1   A1   \n...                  ...                         ...    ...    ...  ...   \n387400  Items_NeuN_dedup  p1_wA1_t1_m399_c0_z1_l1_o0  items      1   A1   \n387402  Items_NeuN_dedup  p1_wA1_t1_m399_c0_z1_l1_o0  items      1   A1   \n387403  Items_NeuN_dedup  p1_wA1_t1_m399_c0_z1_l1_o0  items      1   A1   \n387404  Items_NeuN_dedup  p1_wA1_t1_m399_c0_z1_l1_o0  items      1   A1   \n387405  Items_NeuN_dedup  p1_wA1_t1_m399_c0_z1_l1_o0  items      1   A1   \n\n        well_row  well_column  timepoint  ...  \\\n60779          1            1          1  ...   \n60781          1            1          1  ...   \n60783          1            1          1  ...   \n60790          1            1          1  ...   \n60797          1            1          1  ...   \n...          ...          ...        ...  ...   \n387400         1            1          1  ...   \n387402         1            1          1  ...   \n387403         1            1          1  ...   \n387404         1            1          1  ...   \n387405         1            1          1  ...   \n\n        CELL WINDOWED-INTENSITY-STDDEV AF647  \\\n60779                               0.133397   \n60781                               0.052654   \n60783                               0.112227   \n60790                              -0.011154   \n60797                               0.047657   \n...                                      ...   \n387400                              0.050466   \n387402                              0.082055   \n387403                              0.043846   \n387404                              0.042914   \n387405                              0.043951   \n\n        CELL WINDOWED-INTENSITY-STDDEV SYTOG  REGION COMBINED Region 1  \\\n60779                               0.099521                         0   \n60781                               0.071948                         0   \n60783                               0.066198                         0   \n60790                               0.007132                         0   \n60797                               0.040388                         0   \n...                                      ...                       ...   \n387400                              0.226810                         0   \n387402                              0.121275                         0   \n387403                              0.154746                         0   \n387404                              0.144523                         0   \n387405                              0.089042                         0   \n\n        REGION COMBINED Region 4  REGION COMBINED Region 5  \\\n60779                        0.0                       0.0   \n60781                        0.0                       0.0   \n60783                        0.0                       0.0   \n60790                        0.0                       0.0   \n60797                        0.0                       0.0   \n...                          ...                       ...   \n387400                       0.0                       0.0   \n387402                       0.0                       0.0   \n387403                       0.0                       0.0   \n387404                       0.0                       0.0   \n387405                       0.0                       0.0   \n\n        REGION COMBINED Region 2  REGION COMBINED Region 3     rowid  il id.2  \\\n60779                          0                       1.0   60782.0     91.0   \n60781                          0                       1.0   60784.0     91.0   \n60783                          0                       1.0   60786.0     91.0   \n60790                          0                       1.0   60793.0     91.0   \n60797                          0                       1.0   60800.0     91.0   \n...                          ...                       ...       ...      ...   \n387400                         0                       1.0  387409.0    602.0   \n387402                         0                       1.0  387411.0    602.0   \n387403                         0                       1.0  387412.0    602.0   \n387404                         0                       1.0  387413.0    602.0   \n387405                         0                       1.0  387414.0    602.0   \n\n        Unnamed: 230  \n60779            NaN  \n60781            NaN  \n60783            NaN  \n60790            NaN  \n60797            NaN  \n...              ...  \n387400           NaN  \n387402           NaN  \n387403           NaN  \n387404           NaN  \n387405           NaN  \n\n[16944 rows x 124 columns]",
      "text/html": "<div>\n<style scoped>\n    .dataframe tbody tr th:only-of-type {\n        vertical-align: middle;\n    }\n\n    .dataframe tbody tr th {\n        vertical-align: top;\n    }\n\n    .dataframe thead th {\n        text-align: right;\n    }\n</style>\n<table border=\"1\" class=\"dataframe\">\n  <thead>\n    <tr style=\"text-align: right;\">\n      <th></th>\n      <th>il id</th>\n      <th>series</th>\n      <th>path</th>\n      <th>name</th>\n      <th>type</th>\n      <th>plate</th>\n      <th>well</th>\n      <th>well_row</th>\n      <th>well_column</th>\n      <th>timepoint</th>\n      <th>...</th>\n      <th>CELL WINDOWED-INTENSITY-STDDEV AF647</th>\n      <th>CELL WINDOWED-INTENSITY-STDDEV SYTOG</th>\n      <th>REGION COMBINED Region 1</th>\n      <th>REGION COMBINED Region 4</th>\n      <th>REGION COMBINED Region 5</th>\n      <th>REGION COMBINED Region 2</th>\n      <th>REGION COMBINED Region 3</th>\n      <th>rowid</th>\n      <th>il id.2</th>\n      <th>Unnamed: 230</th>\n    </tr>\n  </thead>\n  <tbody>\n    <tr>\n      <th>60779</th>\n      <td>91</td>\n      <td>20240125_Onur_15um_NG_555cfos_647neun-_EDFvar-...</td>\n      <td>Items_NeuN_dedup</td>\n      <td>p1_wA1_t1_m300_c0_z1_l1_o0</td>\n      <td>items</td>\n      <td>1</td>\n      <td>A1</td>\n      <td>1</td>\n      <td>1</td>\n      <td>1</td>\n      <td>...</td>\n      <td>0.133397</td>\n      <td>0.099521</td>\n      <td>0</td>\n      <td>0.0</td>\n      <td>0.0</td>\n      <td>0</td>\n      <td>1.0</td>\n      <td>60782.0</td>\n      <td>91.0</td>\n      <td>NaN</td>\n    </tr>\n    <tr>\n      <th>60781</th>\n      <td>91</td>\n      <td>20240125_Onur_15um_NG_555cfos_647neun-_EDFvar-...</td>\n      <td>Items_NeuN_dedup</td>\n      <td>p1_wA1_t1_m300_c0_z1_l1_o0</td>\n      <td>items</td>\n      <td>1</td>\n      <td>A1</td>\n      <td>1</td>\n      <td>1</td>\n      <td>1</td>\n      <td>...</td>\n      <td>0.052654</td>\n      <td>0.071948</td>\n      <td>0</td>\n      <td>0.0</td>\n      <td>0.0</td>\n      <td>0</td>\n      <td>1.0</td>\n      <td>60784.0</td>\n      <td>91.0</td>\n      <td>NaN</td>\n    </tr>\n    <tr>\n      <th>60783</th>\n      <td>91</td>\n      <td>20240125_Onur_15um_NG_555cfos_647neun-_EDFvar-...</td>\n      <td>Items_NeuN_dedup</td>\n      <td>p1_wA1_t1_m300_c0_z1_l1_o0</td>\n      <td>items</td>\n      <td>1</td>\n      <td>A1</td>\n      <td>1</td>\n      <td>1</td>\n      <td>1</td>\n      <td>...</td>\n      <td>0.112227</td>\n      <td>0.066198</td>\n      <td>0</td>\n      <td>0.0</td>\n      <td>0.0</td>\n      <td>0</td>\n      <td>1.0</td>\n      <td>60786.0</td>\n      <td>91.0</td>\n      <td>NaN</td>\n    </tr>\n    <tr>\n      <th>60790</th>\n      <td>91</td>\n      <td>20240125_Onur_15um_NG_555cfos_647neun-_EDFvar-...</td>\n      <td>Items_NeuN_dedup</td>\n      <td>p1_wA1_t1_m300_c0_z1_l1_o0</td>\n      <td>items</td>\n      <td>1</td>\n      <td>A1</td>\n      <td>1</td>\n      <td>1</td>\n      <td>1</td>\n      <td>...</td>\n      <td>-0.011154</td>\n      <td>0.007132</td>\n      <td>0</td>\n      <td>0.0</td>\n      <td>0.0</td>\n      <td>0</td>\n      <td>1.0</td>\n      <td>60793.0</td>\n      <td>91.0</td>\n      <td>NaN</td>\n    </tr>\n    <tr>\n      <th>60797</th>\n      <td>91</td>\n      <td>20240125_Onur_15um_NG_555cfos_647neun-_EDFvar-...</td>\n      <td>Items_NeuN_dedup</td>\n      <td>p1_wA1_t1_m300_c0_z1_l1_o0</td>\n      <td>items</td>\n      <td>1</td>\n      <td>A1</td>\n      <td>1</td>\n      <td>1</td>\n      <td>1</td>\n      <td>...</td>\n      <td>0.047657</td>\n      <td>0.040388</td>\n      <td>0</td>\n      <td>0.0</td>\n      <td>0.0</td>\n      <td>0</td>\n      <td>1.0</td>\n      <td>60800.0</td>\n      <td>91.0</td>\n      <td>NaN</td>\n    </tr>\n    <tr>\n      <th>...</th>\n      <td>...</td>\n      <td>...</td>\n      <td>...</td>\n      <td>...</td>\n      <td>...</td>\n      <td>...</td>\n      <td>...</td>\n      <td>...</td>\n      <td>...</td>\n      <td>...</td>\n      <td>...</td>\n      <td>...</td>\n      <td>...</td>\n      <td>...</td>\n      <td>...</td>\n      <td>...</td>\n      <td>...</td>\n      <td>...</td>\n      <td>...</td>\n      <td>...</td>\n      <td>...</td>\n    </tr>\n    <tr>\n      <th>387400</th>\n      <td>602</td>\n      <td>20240125_Onur_15um_NG_555cfos_647neun-_EDFvar-...</td>\n      <td>Items_NeuN_dedup</td>\n      <td>p1_wA1_t1_m399_c0_z1_l1_o0</td>\n      <td>items</td>\n      <td>1</td>\n      <td>A1</td>\n      <td>1</td>\n      <td>1</td>\n      <td>1</td>\n      <td>...</td>\n      <td>0.050466</td>\n      <td>0.226810</td>\n      <td>0</td>\n      <td>0.0</td>\n      <td>0.0</td>\n      <td>0</td>\n      <td>1.0</td>\n      <td>387409.0</td>\n      <td>602.0</td>\n      <td>NaN</td>\n    </tr>\n    <tr>\n      <th>387402</th>\n      <td>602</td>\n      <td>20240125_Onur_15um_NG_555cfos_647neun-_EDFvar-...</td>\n      <td>Items_NeuN_dedup</td>\n      <td>p1_wA1_t1_m399_c0_z1_l1_o0</td>\n      <td>items</td>\n      <td>1</td>\n      <td>A1</td>\n      <td>1</td>\n      <td>1</td>\n      <td>1</td>\n      <td>...</td>\n      <td>0.082055</td>\n      <td>0.121275</td>\n      <td>0</td>\n      <td>0.0</td>\n      <td>0.0</td>\n      <td>0</td>\n      <td>1.0</td>\n      <td>387411.0</td>\n      <td>602.0</td>\n      <td>NaN</td>\n    </tr>\n    <tr>\n      <th>387403</th>\n      <td>602</td>\n      <td>20240125_Onur_15um_NG_555cfos_647neun-_EDFvar-...</td>\n      <td>Items_NeuN_dedup</td>\n      <td>p1_wA1_t1_m399_c0_z1_l1_o0</td>\n      <td>items</td>\n      <td>1</td>\n      <td>A1</td>\n      <td>1</td>\n      <td>1</td>\n      <td>1</td>\n      <td>...</td>\n      <td>0.043846</td>\n      <td>0.154746</td>\n      <td>0</td>\n      <td>0.0</td>\n      <td>0.0</td>\n      <td>0</td>\n      <td>1.0</td>\n      <td>387412.0</td>\n      <td>602.0</td>\n      <td>NaN</td>\n    </tr>\n    <tr>\n      <th>387404</th>\n      <td>602</td>\n      <td>20240125_Onur_15um_NG_555cfos_647neun-_EDFvar-...</td>\n      <td>Items_NeuN_dedup</td>\n      <td>p1_wA1_t1_m399_c0_z1_l1_o0</td>\n      <td>items</td>\n      <td>1</td>\n      <td>A1</td>\n      <td>1</td>\n      <td>1</td>\n      <td>1</td>\n      <td>...</td>\n      <td>0.042914</td>\n      <td>0.144523</td>\n      <td>0</td>\n      <td>0.0</td>\n      <td>0.0</td>\n      <td>0</td>\n      <td>1.0</td>\n      <td>387413.0</td>\n      <td>602.0</td>\n      <td>NaN</td>\n    </tr>\n    <tr>\n      <th>387405</th>\n      <td>602</td>\n      <td>20240125_Onur_15um_NG_555cfos_647neun-_EDFvar-...</td>\n      <td>Items_NeuN_dedup</td>\n      <td>p1_wA1_t1_m399_c0_z1_l1_o0</td>\n      <td>items</td>\n      <td>1</td>\n      <td>A1</td>\n      <td>1</td>\n      <td>1</td>\n      <td>1</td>\n      <td>...</td>\n      <td>0.043951</td>\n      <td>0.089042</td>\n      <td>0</td>\n      <td>0.0</td>\n      <td>0.0</td>\n      <td>0</td>\n      <td>1.0</td>\n      <td>387414.0</td>\n      <td>602.0</td>\n      <td>NaN</td>\n    </tr>\n  </tbody>\n</table>\n<p>16944 rows × 124 columns</p>\n</div>"
     },
     "execution_count": 209,
     "metadata": {},
     "output_type": "execute_result"
    }
   ],
   "source": [
    "af555_negative = subdf.loc[(subdf['CELL INTENSITY-INTEGRATED AF555'] < 1e9) & (subdf['CELL AREA'].between(3307, 10581) & (subdf['CELL INTENSITY-MEAN AF555'] < 4000))]\n",
    "af555_negative.to_csv('/Users/onurserce/MPIB/20240125_MPIB_15um/af555_negative.csv', index=True)\n",
    "af555_negative"
   ],
   "metadata": {
    "collapsed": false,
    "ExecuteTime": {
     "end_time": "2024-03-15T16:05:14.647372Z",
     "start_time": "2024-03-15T16:05:13.374648Z"
    }
   },
   "id": "4aceebbc123b2c0b",
   "execution_count": 209
  },
  {
   "cell_type": "code",
   "outputs": [
    {
     "data": {
      "text/plain": "<Figure size 640x480 with 1 Axes>",
      "image/png": "[encoded data removed]"
     },
     "metadata": {},
     "output_type": "display_data"
    }
   ],
   "source": [
    "sb.scatterplot(data=subdf, x='CELL INTENSITY-INTEGRATED AF555', y='CELL AREA')\n",
    "sb.scatterplot(data=selected, x='CELL INTENSITY-INTEGRATED AF555', y='CELL AREA', color='r')\n",
    "\n",
    "plt.axhline(y=10581, linestyle='--', c='r')\n",
    "plt.axhline(y=3307, linestyle='--', c='r')\n",
    "plt.axvline(x=1e9, linestyle='--', c='r')\n",
    "\n",
    "plt.xscale('log')"
   ],
   "metadata": {
    "collapsed": false,
    "ExecuteTime": {
     "end_time": "2024-03-15T16:04:07.804335Z",
     "start_time": "2024-03-15T16:04:07.379801Z"
    }
   },
   "id": "e35ac083ae20269",
   "execution_count": 205
  },
  {
   "cell_type": "code",
   "outputs": [],
   "source": [
    "strong_555_positive = selected['rowid'].to_list()\n",
    "strong_555_negative = af555_negative['rowid'].to_list()"
   ],
   "metadata": {
    "collapsed": false,
    "ExecuteTime": {
     "end_time": "2024-03-15T16:10:44.681028Z",
     "start_time": "2024-03-15T16:10:44.677512Z"
    }
   },
   "id": "bd08f8d2f3482619",
   "execution_count": 215
  },
  {
   "cell_type": "code",
   "source": [
    "strong_555_positive_copy = deepcopy(strong_555_positive)\n",
    "weak_555_negative_copy = deepcopy(weak_555_negative)\n",
    "shuffle(strong_555_positive_copy)\n",
    "shuffle(weak_555_negative_copy)\n",
    "\n",
    "print('length strong_555_positive_copy', len(strong_555_positive_copy))\n",
    "print('length weak_555_negative_copy', len(weak_555_negative_copy))\n",
    "\n",
    "subset_dict = {'strong_555_pos': [], 'weak_555_neg': []}\n",
    "\n",
    "start_val = 500\n",
    "reps = 3\n",
    "groups = 1\n",
    "\n",
    "for g in range(groups):\n",
    "    for r in range(reps):\n",
    "        alist = []\n",
    "        entry = 'g'+str(g)+str('_r')+str(r)\n",
    "        for i in range(start_val):\n",
    "            alist.append(int(strong_555_positive_copy.pop()))\n",
    "        subset_dict['strong_555_pos'].append(alist)\n",
    "    start_val = int(start_val/2)\n",
    "\n",
    "print('length strong_555_positive_copy', len(strong_555_positive_copy))\n",
    "print('length weak_555_negative_copy', len(weak_555_negative_copy))"
   ],
   "metadata": {
    "collapsed": false,
    "ExecuteTime": {
     "end_time": "2024-04-22T12:48:53.923400Z",
     "start_time": "2024-04-22T12:48:53.916256Z"
    }
   },
   "id": "76bf66725bcd0364",
   "outputs": [
    {
     "name": "stdout",
     "output_type": "stream",
     "text": [
      "length strong_555_positive_copy 1581\n",
      "length weak_555_negative_copy 7079\n",
      "length strong_555_positive_copy 81\n",
      "length weak_555_negative_copy 7079\n"
     ]
    }
   ],
   "execution_count": 109
  },
  {
   "cell_type": "code",
   "outputs": [],
   "source": [],
   "metadata": {
    "collapsed": false,
    "ExecuteTime": {
     "end_time": "2024-03-15T16:25:25.172038Z",
     "start_time": "2024-03-15T16:25:25.170703Z"
    }
   },
   "id": "786f5b984d12431c",
   "execution_count": 244
  },
  {
   "cell_type": "code",
   "source": [
    "reps = 3\n",
    "groups = [1000, 500, 250, 125, 50, 25, 10]\n",
    "\n",
    "for g in groups:\n",
    "    print(g)\n",
    "    for r in range(reps):\n",
    "        alist = []\n",
    "        entry = 'g'+str(g)+str('_r')+str(r)\n",
    "        for i in range(g):\n",
    "            alist.append(int(weak_555_negative_copy.pop()))\n",
    "        subset_dict['weak_555_neg'].append(alist)\n",
    "    \n",
    "print('length strong_555_positive_copy', len(strong_555_positive_copy))\n",
    "print('length weak_555_negative_copy', len(weak_555_negative_copy))"
   ],
   "metadata": {
    "collapsed": false,
    "ExecuteTime": {
     "end_time": "2024-04-22T12:49:20.009237Z",
     "start_time": "2024-04-22T12:49:20.004679Z"
    }
   },
   "id": "3d0a26dc03e6740d",
   "outputs": [
    {
     "name": "stdout",
     "output_type": "stream",
     "text": [
      "1000\n",
      "500\n",
      "250\n",
      "125\n",
      "50\n",
      "25\n",
      "10\n",
      "length strong_555_positive_copy 81\n",
      "length weak_555_negative_copy 1199\n"
     ]
    }
   ],
   "execution_count": 110
  },
  {
   "cell_type": "code",
   "source": [
    "pretext = \"SELECT \\'Item lists\\'.\\'il id\\', \\'Item lists\\'.\\'series\\', \\'Item lists\\'.\\'path\\', \\'Item lists\\'.\\'name\\', \\'Item lists\\'.\\'type\\', \\'Item lists\\'.\\'plate\\', \\'Item lists\\'.\\'well\\', \\'Region features\\'.\\'rowid\\', \\'Region features\\'.\\'item id\\', \\'Region features\\'.\\'fm id\\', \\'Region features\\'.\\'il id\\'\\nFROM \\'Region features\\'\\nINNER JOIN \\'Item lists\\' ON \\'Item lists\\'.\\'il id\\' = \\'Region features\\'.\\'il id\\'\\nWHERE \"\n",
    "\n",
    "for k,v in subset_dict.items():\n",
    "   for i,ind in enumerate(v):\n",
    "       if len(ind)>0:\n",
    "           outtext = pretext + ''.join([\"\\'Region features\\'.\\'rowid\\' = \\'{}\\' OR \".format(x) for x in subset_dict[k][i]])\n",
    "           sql_out = outtext.rstrip(' OR ')\n",
    "           outname = '/Users/onur.serce/Data/MPIB/20240326_backup_slides/{}_{}_{}_sqlQuery.sql'.format(k,i,len(ind))\n",
    "           with open(outname, 'w') as f:\n",
    "               f.write(sql_out)"
   ],
   "metadata": {
    "collapsed": false,
    "ExecuteTime": {
     "end_time": "2024-04-22T12:52:49.448337Z",
     "start_time": "2024-04-22T12:52:49.439455Z"
    }
   },
   "id": "ece0b2ffb73e616e",
   "outputs": [],
   "execution_count": 111
  },
  {
   "cell_type": "markdown",
   "source": "Sent the files to Edwin! (uploaded to DataShare)",
   "metadata": {
    "collapsed": false
   },
   "id": "c363fb1121f4bd64"
  },
  {
   "cell_type": "code",
   "source": [],
   "metadata": {
    "collapsed": false,
    "ExecuteTime": {
     "end_time": "2024-04-22T12:55:54.916751Z",
     "start_time": "2024-04-22T12:55:54.915214Z"
    }
   },
   "id": "96bc4fe1d4e099f3",
   "outputs": [],
   "execution_count": 111
  },
  {
   "cell_type": "code",
   "source": [],
   "metadata": {
    "collapsed": false,
    "ExecuteTime": {
     "end_time": "2024-04-22T12:55:55.874426Z",
     "start_time": "2024-04-22T12:55:55.872851Z"
    }
   },
   "id": "141c3e9c0eb163b6",
   "outputs": [],
   "execution_count": 111
  },
  {
   "cell_type": "code",
   "source": [],
   "metadata": {
    "collapsed": false,
    "ExecuteTime": {
     "end_time": "2024-04-22T12:55:56.072249Z",
     "start_time": "2024-04-22T12:55:56.070923Z"
    }
   },
   "id": "ea8a5532c0f60b53",
   "outputs": [],
   "execution_count": 111
  },
  {
   "cell_type": "code",
   "source": [],
   "metadata": {
    "collapsed": false,
    "ExecuteTime": {
     "end_time": "2024-04-22T12:55:56.305691Z",
     "start_time": "2024-04-22T12:55:56.304119Z"
    }
   },
   "id": "2ad8cbebac5c34a5",
   "outputs": [],
   "execution_count": 111
  },
  {
   "cell_type": "code",
   "outputs": [],
   "source": [],
   "metadata": {
    "collapsed": false
   },
   "id": "ebad4825824fcc9d",
   "execution_count": null
  }
 ],
 "metadata": {
  "kernelspec": {
   "display_name": "Python 3",
   "language": "python",
   "name": "python3"
  },
  "language_info": {
   "codemirror_mode": {
    "name": "ipython",
    "version": 2
   },
   "file_extension": ".py",
   "mimetype": "text/x-python",
   "name": "python",
   "nbconvert_exporter": "python",
   "pygments_lexer": "ipython2",
   "version": "2.7.6"
  }
 },
 "nbformat": 4,
 "nbformat_minor": 5
}
