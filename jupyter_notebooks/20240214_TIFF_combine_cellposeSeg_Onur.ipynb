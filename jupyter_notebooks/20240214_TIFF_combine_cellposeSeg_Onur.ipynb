{
 "cells": [
  {
   "cell_type": "code",
   "execution_count": 2,
   "id": "f0505c6b-ae14-4702-aafd-a87e3e2cb10a",
   "metadata": {},
   "outputs": [],
   "source": [
    "import numpy as np\n",
    "import matplotlib.pyplot as plt\n",
    "# from cellpose import core, utils, io, models, metrics\n",
    "import os\n",
    "import time\n",
    "import tkinter as tk\n",
    "import re\n",
    "import datetime\n",
    "from tifffile import imread, imwrite\n",
    "from tqdm import tqdm"
   ]
  },
  {
   "cell_type": "code",
   "execution_count": 3,
   "id": "4c7a61c7",
   "metadata": {},
   "outputs": [],
   "source": [
    "dir = '/media/rodriguez/DVP/onur/20240125_NG_555cfos_647neun_tiffs/'\n",
    "os.chdir(dir)"
   ]
  },
  {
   "cell_type": "code",
   "execution_count": 4,
   "id": "b915840f",
   "metadata": {},
   "outputs": [
    {
     "data": {
      "text/plain": [
       "'/media/rodriguez/DVP/onur/20240125_NG_555cfos_647neun_tiffs'"
      ]
     },
     "execution_count": 4,
     "metadata": {},
     "output_type": "execute_result"
    }
   ],
   "source": [
    "os.getcwd()"
   ]
  },
  {
   "cell_type": "code",
   "execution_count": 5,
   "id": "d98da3ab-f5fc-48e6-9eb2-6415ac9e96cf",
   "metadata": {},
   "outputs": [],
   "source": [
    "# Instantiate folders\n",
    "folders = ['image_input', 'image_output', 'mask_output']\n",
    "for folder in folders:\n",
    "    if not os.path.exists(folder):\n",
    "        os.mkdir(folder)"
   ]
  },
  {
   "cell_type": "code",
   "execution_count": 6,
   "id": "e62460f0-5784-4060-aecf-2f5a3b973364",
   "metadata": {},
   "outputs": [],
   "source": [
    "def list_files(dir_location: str,\n",
    "               file_extension: str,\n",
    "               include_names=None,\n",
    "               exclude_names=None):\n",
    "    '''\n",
    "    Returns a list of file names, and paths where each file\n",
    "    matches all the criteria.\n",
    "    '''\n",
    "    \n",
    "    list_fnames = os.listdir(dir_location)\n",
    "\n",
    "    list_fnames = [x for x in list_fnames if x.endswith(file_extension)]\n",
    "\n",
    "    # Files must include all of the include_names\n",
    "    if include_names is not None:\n",
    "        for include_name in include_names:\n",
    "            list_fnames = [x for x in list_fnames if include_name in x]\n",
    "            # print(f'Finding `{include_name}`, found {len(list_fnames)}')\n",
    "\n",
    "    # Files must exclude any of the exclude_names\n",
    "    if exclude_names is not None:\n",
    "        for exclude_name in exclude_names:\n",
    "            list_fnames = [x for x in list_fnames if exclude_name not in x]\n",
    "\n",
    "    list_fpath = [os.path.join(dir_location, x) for x in list_fnames]\n",
    "\n",
    "    return list_fpath"
   ]
  },
  {
   "cell_type": "code",
   "execution_count": 7,
   "id": "89b4b992-0577-47ef-b7f9-4aecf08c7010",
   "metadata": {
    "tags": []
   },
   "outputs": [
    {
     "name": "stdout",
     "output_type": "stream",
     "text": [
      "number of tiles: 604\n"
     ]
    }
   ],
   "source": [
    "lst_images_in = list_files('image_input/', 'tiff', ['c1'])\n",
    "print(\"number of tiles:\", len(lst_images_in))"
   ]
  },
  {
   "cell_type": "code",
   "execution_count": 9,
   "id": "936f2ff0-a314-47ad-94ab-073c11b09bc6",
   "metadata": {
    "tags": []
   },
   "outputs": [
    {
     "name": "stderr",
     "output_type": "stream",
     "text": [
      "604it [15:59,  1.59s/it]\n"
     ]
    }
   ],
   "source": [
    "# Define the number of channels and the names of the fluorescent channels\n",
    "num_channels = 3\n",
    "# channels_chosen = [1,2,3]\n",
    "# channel_names = ['SYTOG', 'AF555', 'AF647']\n",
    "channels_chosen = [2,1,3]\n",
    "channel_names = ['AF555', 'SYTOG','AF647']\n",
    "#order of channel names here will show up in cellpose as R, g, b\n",
    "\n",
    "channels = [None] * num_channels\n",
    "for i, ch in enumerate(channels_chosen):\n",
    "    channels[i] = [x.replace('_c1_', f'_c{ch}_') for x in lst_images_in]\n",
    "\n",
    "lst_images_out = [x.replace('input', 'output') for x in lst_images_in]\n",
    "for idx, image_name in enumerate(lst_images_in):\n",
    "    lst_images_out[idx] = re.sub('_c1_', f'_c{num_channels}_', lst_images_out[idx], 1)\n",
    "\n",
    "for idx, image_name in tqdm(enumerate(lst_images_in)):\n",
    "    # print(f'Image {idx}, file name: {image_name}')\n",
    "\n",
    "    images = [None] * num_channels\n",
    "    for i in range(num_channels):\n",
    "        images[i] = imread(channels[i][idx])\n",
    "\n",
    "    comb = np.dstack(images)\n",
    "\n",
    "    # print(f' |-> Outfile image: {lst_images_out[idx]}')\n",
    "    imwrite(lst_images_out[idx], comb)"
   ]
  },
  {
   "cell_type": "code",
   "execution_count": 7,
   "id": "00bf6078-9c6f-49a1-8ebf-de457f66ab01",
   "metadata": {},
   "outputs": [
    {
     "data": {
      "text/plain": [
       "['Alexa647', 'TRITC', 'HOECHST33342']"
      ]
     },
     "execution_count": 7,
     "metadata": {},
     "output_type": "execute_result"
    }
   ],
   "source": [
    "channel_names"
   ]
  },
  {
   "cell_type": "code",
   "execution_count": 7,
   "id": "af109927-0d07-4497-b2d3-77993e7f63f1",
   "metadata": {},
   "outputs": [
    {
     "name": "stdout",
     "output_type": "stream",
     "text": [
      "2  = membrane channel = TRITC \n",
      " 3  = nuclear channel = HOECHST33342\n"
     ]
    }
   ],
   "source": [
    "# define model\n",
    "model_path = 'Marc_HEK293'\n",
    "#model_type = \"TN2\"\n",
    "\n",
    "# define segmentation channel\n",
    "cyto_channel = channel_names.index('TRITC') + 1\n",
    "#nuc_channel = channel_names.index('SytoxGreen') + 1\n",
    "nuc_channel = channel_names.index('HOECHST33342') + 1\n",
    "\n",
    "print(cyto_channel, \" = membrane channel =\", channel_names[cyto_channel-1],\"\\n\",nuc_channel, \" = nuclear channel =\",  channel_names[nuc_channel-1])"
   ]
  },
  {
   "cell_type": "code",
   "execution_count": 8,
   "id": "3f90414b-3ddc-4ca2-bf51-4ef157dd0837",
   "metadata": {
    "scrolled": false
   },
   "outputs": [
    {
     "name": "stdout",
     "output_type": "stream",
     "text": [
      "Number of tiles to segment: 453\n",
      "Segmenting on: membrane marker TRITC & nuclear marker HOECHST33342\n",
      "Model used: Marc_HEK293\n",
      "Model parameters: 35.836 diameter, 0.4 flow_threshold, 0 cellprob_threshold.\n",
      "Estimated time for segmentation:87.882 min\n",
      "Segmentation completed!. Remaining Time: 54.02\n",
      "done\n"
     ]
    }
   ],
   "source": [
    "from threading import Thread\n",
    "from time import sleep\n",
    "import sys\n",
    "\n",
    "def timer(prognosed_time):\n",
    "    global status\n",
    "    prognosed_time = prognosed_time * 60\n",
    "    start_time = time.time()\n",
    "    while True:\n",
    "        elapsed_time = time.time() - start_time\n",
    "        remaining_time = prognosed_time - elapsed_time\n",
    "        if status == \"completed\":\n",
    "            print(\"Segmentation completed!\")\n",
    "            return\n",
    "        print(\"Elapsed Time:\", np.round(elapsed_time/60, 2), \"min. Remaining Time:\", np.round(remaining_time/60, 2), end='\\r')\n",
    "        sleep(10)      \n",
    "        \n",
    "def calculate_cellpose():\n",
    "    \n",
    "    global status, images,lst_images_out, channel_names, model_path, diameter, flow_threshold, cellprob_threshold, cyto_channel, nuc_channel\n",
    "    with open(\"log.txt\", \"w\") as f:\n",
    "    \n",
    "        start = time.process_time()\n",
    "\n",
    "        print(\"Image:\", os.path.basename(os.getcwd()), file=f)\n",
    "        print(\"Current date and time:\", datetime.datetime.now().strftime('%d.%m.%Y, %H:%M:%S'), file=f)\n",
    "        print(\"Number of tiles segmented:\", len(lst_images_out), file=f)\n",
    "        print(\"Segmenting on: membrane marker\", channel_names[cyto_channel-1],\"& nuclear marker\", channel_names[nuc_channel-1], file=f)    \n",
    "        print(\"Model used:\", model_path, file=f)\n",
    "        print(f'Model parameters: {diameter:.3f} diameter, {flow_threshold} flow_threshold, {cellprob_threshold} cellprob_threshold.', file=f)\n",
    "\n",
    "        masks, flows, styles = model.eval(images, \n",
    "                                            channels=[cyto_channel, nuc_channel],\n",
    "                                            diameter=diameter,\n",
    "                                            flow_threshold=flow_threshold,\n",
    "                                            cellprob_threshold=cellprob_threshold)\n",
    "\n",
    "        end = time.process_time()\n",
    "\n",
    "        print(\"Done. process_time()\", (end - start) / 60, \"min.\", \"\\nNow SAVING MASKS as tiff\", file=f)\n",
    "\n",
    "        # save masks\n",
    "        lst_mask_out = [x.replace('image_output', 'mask_output') for x in lst_images_out]\n",
    "        start = time.process_time()\n",
    "\n",
    "        io.save_masks(images,\n",
    "                      masks, \n",
    "                      flows, \n",
    "                      lst_mask_out, \n",
    "                      channels=[cyto_channel, nuc_channel],\n",
    "                      png=False, # save masks as PNGs and save example image\n",
    "                      tif=True, # save masks as TIFFs\n",
    "                      save_txt=False, # save txt outlines for ImageJ\n",
    "                      save_flows=False, # save flows as TIFFs\n",
    "                      save_outlines=False, # save outlines as TIFFs \n",
    "                      )\n",
    "\n",
    "        mask_files = list_files('mask_output/', 'tif', ['cp_masks'])\n",
    "        [os.rename(x, x.replace('_cp_masks', '')) for x in mask_files]\n",
    "\n",
    "        end = time.process_time()\n",
    "\n",
    "        # print elapsed time in seconds\n",
    "        print(\"Done. Process_time()\", (end - start) * 10**3, \"ms.\", file=f)\n",
    "        \n",
    "        status = \"completed\"\n",
    "        return()\n",
    "    \n",
    "# get image files in dir \n",
    "images = [io.imread(f) for f in lst_images_out]\n",
    "\n",
    "# Load model for custom model\n",
    "model = models.CellposeModel(gpu=True, pretrained_model=model_path)\n",
    "\n",
    "# Load available model instead of custom model using this command\n",
    "# model = models.CellposeModel(gpu=True, model_type='TN2')\n",
    "\n",
    "# Define the parameters of cellpose, DEFINE DIAMETER if not defined by custom model (in this case use 0) !!!\n",
    "\n",
    "diameter = 0\n",
    "diameter = model.diam_labels if diameter==0 else diameter\n",
    "flow_threshold = 0.4\n",
    "cellprob_threshold  = 0\n",
    "    \n",
    "print(\"Number of tiles to segment:\", len(lst_images_out))\n",
    "print(\"Segmenting on: membrane marker\", channel_names[cyto_channel-1],\"& nuclear marker\", channel_names[nuc_channel-1])\n",
    "print(\"Model used:\", model_path)\n",
    "print(f'Model parameters: {diameter:.3f} diameter, {flow_threshold} flow_threshold, {cellprob_threshold} cellprob_threshold.')    \n",
    "estimated_time =  (len(lst_images_out) * 0.194)\n",
    "print(f\"Estimated time for segmentation:{estimated_time} min\")\n",
    "\n",
    "status = \"not complete\"\n",
    "\n",
    "t1 = Thread(target=timer, args=(estimated_time,))\n",
    "t2 = Thread(target=calculate_cellpose)\n",
    "t1.start()\n",
    "t2.start()\n",
    "\n",
    "t2.join()  # wait for calculate_cellpose() to complete\n",
    "\n",
    "print(\"done\")"
   ]
  },
  {
   "cell_type": "code",
   "execution_count": 16,
   "id": "15c559b6-dd73-4197-831b-1786271a148b",
   "metadata": {},
   "outputs": [
    {
     "name": "stdout",
     "output_type": "stream",
     "text": [
      "Number of tiles to segment: 11\n",
      "Segmenting on: membrane marker TRITC & nuclear marker HOECHST33342\n",
      "Model used: MelDVP_stringentCPbased_H80p07\n",
      "Model parameters: 80.021 diameter, 0.4 flow_threshold, 0 cellprob_threshold.\n",
      "Estimated time for segmentation: 2.134 min\n",
      "Done\n"
     ]
    }
   ],
   "source": [
    "# CLEAN VERSION without 2 threads, just cellpose function\n",
    "# get image files in dir \n",
    "# print(lst_images_out)\n",
    "images = [io.imread(f) for f in lst_images_out]\n",
    "\n",
    "# Load model for custom model\n",
    "model = models.CellposeModel(gpu=True, pretrained_model=model_path)\n",
    "\n",
    "# Load available model\n",
    "#model = models.CellposeModel(gpu=True, model_type='TN2')\n",
    "\n",
    "# Define the parameters of cellpose, DEFINE DIAMETER !!!\n",
    "\n",
    "diameter = 0\n",
    "diameter = model.diam_labels if diameter==0 else diameter\n",
    "flow_threshold = 0.4\n",
    "cellprob_threshold  = 0\n",
    "    \n",
    "print(\"Number of tiles to segment:\", len(lst_images_out))\n",
    "print(\"Segmenting on: membrane marker\", channel_names[cyto_channel-1],\"& nuclear marker\", channel_names[nuc_channel-1])\n",
    "print(\"Model used:\", model_path)\n",
    "print(f'Model parameters: {diameter:.3f} diameter, {flow_threshold} flow_threshold, {cellprob_threshold} cellprob_threshold.')    \n",
    "print(\"Estimated time for segmentation:\", (len(lst_images_out) * 0.194), \"min\")\n",
    "\n",
    "\n",
    "\n",
    "# start cellpose\n",
    "with open(\"log.txt\", \"w\") as f:\n",
    "    \n",
    "    start = time.process_time()\n",
    "    \n",
    "    print(\"Image:\", os.path.basename(os.getcwd()), file=f)\n",
    "    print(\"Current date and time:\", datetime.datetime.now().strftime('%d.%m.%Y, %H:%M:%S'), file=f)\n",
    "    print(\"Number of tiles segmented:\", len(lst_images_out), file=f)\n",
    "    print(\"Segmenting on: membrane marker\", channel_names[cyto_channel-1],\"& nuclear marker\", channel_names[nuc_channel-1], file=f)    \n",
    "    print(\"Model used:\", model_path, file=f)\n",
    "    print(f'Model parameters: {diameter:.3f} diameter, {flow_threshold} flow_threshold, {cellprob_threshold} cellprob_threshold.', file=f)\n",
    "    \n",
    "    masks, flows, styles = model.eval(images, \n",
    "                                        channels=[cyto_channel, nuc_channel],\n",
    "                                        diameter=diameter,\n",
    "                                        flow_threshold=flow_threshold,\n",
    "                                        cellprob_threshold=cellprob_threshold)\n",
    "\n",
    "    end = time.process_time()\n",
    "\n",
    "    print(\"Done. process_time()\", (end - start) / 60, \"min.\", \"\\nNow SAVING MASKS as tiff\", file=f)\n",
    "\n",
    "    # save masks\n",
    "    lst_mask_out = [x.replace('image_output', 'mask_output') for x in lst_images_out]\n",
    "    start = time.process_time()\n",
    "\n",
    "    io.save_masks(images,\n",
    "                  masks, \n",
    "                  flows, \n",
    "                  lst_mask_out, \n",
    "                  channels=[cyto_channel, nuc_channel],\n",
    "                  png=False, # save masks as PNGs and save example image\n",
    "                  tif=True, # save masks as TIFFs\n",
    "                  save_txt=False, # save txt outlines for ImageJ\n",
    "                  save_flows=False, # save flows as TIFFs\n",
    "                  save_outlines=False, # save outlines as TIFFs \n",
    "                  )\n",
    "\n",
    "    mask_files = list_files('mask_output/', 'tif', ['cp_masks'])\n",
    "    [os.rename(x, x.replace('_cp_masks', '')) for x in mask_files]\n",
    "\n",
    "    end = time.process_time()\n",
    "\n",
    "    # print elapsed time in seconds\n",
    "    print(\"Done. Process_time()\", (end - start) * 10**3, \"ms.\", file=f)\n",
    "    \n",
    "print(\"Done\")"
   ]
  },
  {
   "cell_type": "code",
   "execution_count": null,
   "id": "6b0a38d0-5f14-4e0d-85ed-c6c70caffdd0",
   "metadata": {},
   "outputs": [],
   "source": []
  }
 ],
 "metadata": {
  "kernelspec": {
   "display_name": "Python 3 (ipykernel)",
   "language": "python",
   "name": "python3"
  },
  "language_info": {
   "codemirror_mode": {
    "name": "ipython",
    "version": 3
   },
   "file_extension": ".py",
   "mimetype": "text/x-python",
   "name": "python",
   "nbconvert_exporter": "python",
   "pygments_lexer": "ipython3",
   "version": "3.9.12"
  }
 },
 "nbformat": 4,
 "nbformat_minor": 5
}
