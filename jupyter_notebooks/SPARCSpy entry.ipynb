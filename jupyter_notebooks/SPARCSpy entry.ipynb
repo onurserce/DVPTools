{
 "cells": [
  {
   "cell_type": "code",
   "id": "initial_id",
   "metadata": {
    "collapsed": true,
    "ExecuteTime": {
     "end_time": "2024-05-13T15:05:00.251801Z",
     "start_time": "2024-05-13T15:04:54.666296Z"
    }
   },
   "source": [
    "import os\n",
    "import numpy as np\n",
    "import matplotlib.pyplot as plt\n",
    "from tqdm.notebook import tqdm\n",
    "import pandas as pd\n",
    "\n",
    "from sparcscore.pipeline.project import Project\n",
    "from sparcscore.pipeline.workflows import ShardedCytosolSegmentationCellpose\n",
    "from sparcscore.pipeline.extraction import HDF5CellExtraction\n",
    "from sparcscore.pipeline.classification import MLClusterClassifier\n",
    "from sparcscore.pipeline.selection import LMDSelection"
   ],
   "outputs": [
    {
     "name": "stderr",
     "output_type": "stream",
     "text": [
      "WARNING:root:Temp mmap arrays are written to /var/folders/h6/zbdkyqm93tb3q9lvr4x2mxbh0vxdpb/T/temp_mmap_q9aegam3. Cleanup of this folder is OS dependant, and might need to be triggered manually!\n"
     ]
    }
   ],
   "execution_count": 1
  },
  {
   "metadata": {},
   "cell_type": "markdown",
   "source": [
    "- `from sparcscore.pipeline.workflows import WGASegmentation`\n",
    "\n",
    "- `from sparcscore.pipeline.extraction import HDF5CellExtraction`\n",
    "\n",
    "- `from sparcscore.pipeline.selection import LMDSelection`\n",
    " \n",
    "above lines throw the following warning:\n",
    "\n",
    "`WARNING:root:Temp mmap arrays are written to /var/folders/h6/zbdkyqm93tb3q9lvr4x2mxbh0vxdpb/T/temp_mmap_srqpvru7. Cleanup of this folder is OS dependant, and might need to be triggered manually!`"
   ],
   "id": "cd0de419d0fdcb0a"
  },
  {
   "metadata": {
    "ExecuteTime": {
     "end_time": "2024-05-13T15:05:09.094680Z",
     "start_time": "2024-05-13T15:05:08.824711Z"
    }
   },
   "cell_type": "code",
   "source": [
    "project_location = f\"/Users/onur.serce/Data/SPARCSpy_project\"\n",
    "\n",
    "project = Project(os.path.abspath(project_location),\n",
    "                  config_path=\"/Users/onur.serce/Data/SPARCSpy_project/config_screen.yml\",\n",
    "                  debug=True,\n",
    "                  segmentation_f=ShardedCytosolSegmentationCellpose\n",
    "                  )"
   ],
   "id": "4987694843647fdd",
   "outputs": [
    {
     "name": "stderr",
     "output_type": "stream",
     "text": [
      "/Users/onur.serce/PycharmProjects/DVPtools/SPARCSpy/src/sparcscore/pipeline/project.py:117: UserWarning: There is already a directory in the location path\n",
      "  warnings.warn(\"There is already a directory in the location path\")\n"
     ]
    },
    {
     "name": "stdout",
     "output_type": "stream",
     "text": [
      "modifying config\n",
      "[13/05/2024 17:05:08] Loading config from /Users/onur.serce/Data/SPARCSpy_project/config.yml\n"
     ]
    },
    {
     "ename": "ValueError",
     "evalue": "Config for ShardedCytosolSegmentationCellpose is missing from the config file",
     "output_type": "error",
     "traceback": [
      "\u001B[0;31m---------------------------------------------------------------------------\u001B[0m",
      "\u001B[0;31mValueError\u001B[0m                                Traceback (most recent call last)",
      "Cell \u001B[0;32mIn[2], line 3\u001B[0m\n\u001B[1;32m      1\u001B[0m project_location \u001B[38;5;241m=\u001B[39m \u001B[38;5;124mf\u001B[39m\u001B[38;5;124m\"\u001B[39m\u001B[38;5;124m/Users/onur.serce/Data/SPARCSpy_project\u001B[39m\u001B[38;5;124m\"\u001B[39m\n\u001B[0;32m----> 3\u001B[0m project \u001B[38;5;241m=\u001B[39m \u001B[43mProject\u001B[49m\u001B[43m(\u001B[49m\u001B[43mos\u001B[49m\u001B[38;5;241;43m.\u001B[39;49m\u001B[43mpath\u001B[49m\u001B[38;5;241;43m.\u001B[39;49m\u001B[43mabspath\u001B[49m\u001B[43m(\u001B[49m\u001B[43mproject_location\u001B[49m\u001B[43m)\u001B[49m\u001B[43m,\u001B[49m\n\u001B[1;32m      4\u001B[0m \u001B[43m                  \u001B[49m\u001B[43mconfig_path\u001B[49m\u001B[38;5;241;43m=\u001B[39;49m\u001B[38;5;124;43m\"\u001B[39;49m\u001B[38;5;124;43m/Users/onur.serce/Data/SPARCSpy_project/config_screen.yml\u001B[39;49m\u001B[38;5;124;43m\"\u001B[39;49m\u001B[43m,\u001B[49m\n\u001B[1;32m      5\u001B[0m \u001B[43m                  \u001B[49m\u001B[43mdebug\u001B[49m\u001B[38;5;241;43m=\u001B[39;49m\u001B[38;5;28;43;01mTrue\u001B[39;49;00m\u001B[43m,\u001B[49m\n\u001B[1;32m      6\u001B[0m \u001B[43m                  \u001B[49m\u001B[43msegmentation_f\u001B[49m\u001B[38;5;241;43m=\u001B[39;49m\u001B[43mShardedCytosolSegmentationCellpose\u001B[49m\n\u001B[1;32m      7\u001B[0m \u001B[43m                  \u001B[49m\u001B[43m)\u001B[49m\n",
      "File \u001B[0;32m~/PycharmProjects/DVPtools/SPARCSpy/src/sparcscore/pipeline/project.py:149\u001B[0m, in \u001B[0;36mProject.__init__\u001B[0;34m(self, location_path, config_path, intermediate_output, debug, overwrite, segmentation_f, segmentation_filtering_f, extraction_f, classification_f, selection_f, *args, **kwargs)\u001B[0m\n\u001B[1;32m    147\u001B[0m \u001B[38;5;28;01mif\u001B[39;00m \u001B[38;5;28mself\u001B[39m\u001B[38;5;241m.\u001B[39msegmentation_f \u001B[38;5;129;01mis\u001B[39;00m \u001B[38;5;129;01mnot\u001B[39;00m \u001B[38;5;28;01mNone\u001B[39;00m:\n\u001B[1;32m    148\u001B[0m     \u001B[38;5;28;01mif\u001B[39;00m segmentation_f\u001B[38;5;241m.\u001B[39m\u001B[38;5;18m__name__\u001B[39m \u001B[38;5;129;01mnot\u001B[39;00m \u001B[38;5;129;01min\u001B[39;00m \u001B[38;5;28mself\u001B[39m\u001B[38;5;241m.\u001B[39mconfig:\n\u001B[0;32m--> 149\u001B[0m         \u001B[38;5;28;01mraise\u001B[39;00m \u001B[38;5;167;01mValueError\u001B[39;00m(\n\u001B[1;32m    150\u001B[0m             \u001B[38;5;124mf\u001B[39m\u001B[38;5;124m\"\u001B[39m\u001B[38;5;124mConfig for \u001B[39m\u001B[38;5;132;01m{\u001B[39;00msegmentation_f\u001B[38;5;241m.\u001B[39m\u001B[38;5;18m__name__\u001B[39m\u001B[38;5;132;01m}\u001B[39;00m\u001B[38;5;124m is missing from the config file\u001B[39m\u001B[38;5;124m\"\u001B[39m\n\u001B[1;32m    151\u001B[0m         )\n\u001B[1;32m    153\u001B[0m     seg_directory \u001B[38;5;241m=\u001B[39m os\u001B[38;5;241m.\u001B[39mpath\u001B[38;5;241m.\u001B[39mjoin(\n\u001B[1;32m    154\u001B[0m         \u001B[38;5;28mself\u001B[39m\u001B[38;5;241m.\u001B[39mproject_location, \u001B[38;5;28mself\u001B[39m\u001B[38;5;241m.\u001B[39mDEFAULT_SEGMENTATION_DIR_NAME\n\u001B[1;32m    155\u001B[0m     )\n\u001B[1;32m    157\u001B[0m     \u001B[38;5;28mself\u001B[39m\u001B[38;5;241m.\u001B[39mseg_directory \u001B[38;5;241m=\u001B[39m seg_directory\n",
      "\u001B[0;31mValueError\u001B[0m: Config for ShardedCytosolSegmentationCellpose is missing from the config file"
     ]
    }
   ],
   "execution_count": 2
  },
  {
   "metadata": {},
   "cell_type": "code",
   "source": "",
   "id": "2be31edf350d535c",
   "outputs": [],
   "execution_count": null
  },
  {
   "metadata": {},
   "cell_type": "code",
   "source": "",
   "id": "17404d97c611d9e8",
   "outputs": [],
   "execution_count": null
  }
 ],
 "metadata": {
  "kernelspec": {
   "display_name": "Python 3",
   "language": "python",
   "name": "python3"
  },
  "language_info": {
   "codemirror_mode": {
    "name": "ipython",
    "version": 2
   },
   "file_extension": ".py",
   "mimetype": "text/x-python",
   "name": "python",
   "nbconvert_exporter": "python",
   "pygments_lexer": "ipython2",
   "version": "2.7.6"
  }
 },
 "nbformat": 4,
 "nbformat_minor": 5
}
