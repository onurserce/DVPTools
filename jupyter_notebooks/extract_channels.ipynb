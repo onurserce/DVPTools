{
 "cells": [
  {
   "cell_type": "code",
   "id": "initial_id",
   "metadata": {
    "collapsed": true,
    "ExecuteTime": {
     "end_time": "2024-05-14T14:17:33.616150Z",
     "start_time": "2024-05-14T14:17:33.604038Z"
    }
   },
   "source": [
    "import os\n",
    "import tifffile\n",
    "from tqdm import tqdm"
   ],
   "outputs": [],
   "execution_count": 64
  },
  {
   "metadata": {
    "ExecuteTime": {
     "end_time": "2024-05-14T14:15:32.453893Z",
     "start_time": "2024-05-14T14:15:32.449590Z"
    }
   },
   "cell_type": "code",
   "source": [
    "images_4c_folder = \"/Users/onur.serce/Data/MPIB/20240326_backup_slides/image_output_allColor_AF800_AF647_AF555_SYTOG\"\n",
    "output_folder = os.path.join(folder, \"channels\")\n",
    "os.makedirs(output_folder, exist_ok=True)\n",
    "images_4c = [im for im in os.listdir(folder) if im.endswith(\".tiff\")]"
   ],
   "id": "70c9bc0aac13e14a",
   "outputs": [],
   "execution_count": 58
  },
  {
   "metadata": {
    "ExecuteTime": {
     "end_time": "2024-05-14T13:48:45.187113Z",
     "start_time": "2024-05-14T13:48:45.183328Z"
    }
   },
   "cell_type": "code",
   "source": [
    "def extract_channels(image):\n",
    "    \"\"\"Expects the channels to be the last dimention of the (2D) image\"\"\"\n",
    "    n_channels = image.shape[-1]\n",
    "    \n",
    "    channels = {}\n",
    "    for n in range(n_channels):\n",
    "        channels[n] = image[:,:,n]\n",
    "    \n",
    "    return channels"
   ],
   "id": "81617ffdf19bc9aa",
   "outputs": [],
   "execution_count": 32
  },
  {
   "metadata": {
    "ExecuteTime": {
     "end_time": "2024-05-14T14:20:08.808384Z",
     "start_time": "2024-05-14T14:20:08.804637Z"
    }
   },
   "cell_type": "code",
   "source": [
    "def write_channels(channels_dict, output_folder, original_image_name: str, replace):\n",
    "    \"\"\"\n",
    "    \n",
    "    Args:\n",
    "        channels_dict: \n",
    "        original_image_name: \n",
    "        replace: string to replace (e.g. _c4_)\n",
    "\n",
    "    Returns:\n",
    "\n",
    "    \"\"\"\n",
    "    \n",
    "    for channel in channels_dict.keys():\n",
    "        replaced_image_name = original_image_name.replace(replace, \"_c{}_\".format(channel))\n",
    "        final_path = os.path.join(output_folder, replaced_image_name)\n",
    "        tifffile.imwrite(final_path, data=channels_dict[channel])\n"
   ],
   "id": "25bdeef62ef123e3",
   "outputs": [],
   "execution_count": 69
  },
  {
   "metadata": {
    "ExecuteTime": {
     "end_time": "2024-05-14T14:14:15.672375Z",
     "start_time": "2024-05-14T14:14:15.670448Z"
    }
   },
   "cell_type": "code",
   "source": "",
   "id": "1c759b371623ec2a",
   "outputs": [],
   "execution_count": 57
  },
  {
   "metadata": {
    "ExecuteTime": {
     "end_time": "2024-05-14T14:20:22.157088Z",
     "start_time": "2024-05-14T14:20:10.119952Z"
    }
   },
   "cell_type": "code",
   "source": [
    "for im in tqdm(images_4c):\n",
    "    image = tifffile.imread(os.path.join(images_4c_folder, im))\n",
    "    channels = extract_channels(image)\n",
    "    write_channels(channels_dict=channels, output_folder=output_folder, original_image_name=im, replace=\"_c4_\")"
   ],
   "id": "db0c5001130488ab",
   "outputs": [
    {
     "name": "stderr",
     "output_type": "stream",
     "text": [
      "100%|██████████| 571/571 [00:12<00:00, 47.46it/s]\n"
     ]
    }
   ],
   "execution_count": 70
  },
  {
   "metadata": {
    "ExecuteTime": {
     "end_time": "2024-05-14T14:17:42.199150Z",
     "start_time": "2024-05-14T14:17:42.196996Z"
    }
   },
   "cell_type": "code",
   "source": "",
   "id": "dbe48ab88a13a3ff",
   "outputs": [],
   "execution_count": 65
  },
  {
   "metadata": {},
   "cell_type": "code",
   "outputs": [],
   "execution_count": null,
   "source": "",
   "id": "fe626f7bdf476c4b"
  },
  {
   "metadata": {
    "ExecuteTime": {
     "end_time": "2024-05-14T14:04:45.226975Z",
     "start_time": "2024-05-14T14:04:45.224774Z"
    }
   },
   "cell_type": "code",
   "source": "",
   "id": "d3d11d2b3916ca6f",
   "outputs": [],
   "execution_count": 56
  },
  {
   "metadata": {},
   "cell_type": "code",
   "outputs": [],
   "execution_count": null,
   "source": "",
   "id": "1512e3693fc7f531"
  }
 ],
 "metadata": {
  "kernelspec": {
   "display_name": "Python 3",
   "language": "python",
   "name": "python3"
  },
  "language_info": {
   "codemirror_mode": {
    "name": "ipython",
    "version": 2
   },
   "file_extension": ".py",
   "mimetype": "text/x-python",
   "name": "python",
   "nbconvert_exporter": "python",
   "pygments_lexer": "ipython2",
   "version": "2.7.6"
  }
 },
 "nbformat": 4,
 "nbformat_minor": 5
}
