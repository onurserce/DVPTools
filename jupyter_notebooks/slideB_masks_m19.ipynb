{
 "cells": [
  {
   "cell_type": "code",
   "id": "initial_id",
   "metadata": {
    "collapsed": true
   },
   "source": [
    "import napari\n",
    "import numpy as np\n",
    "import pandas as pd\n",
    "import matplotlib.pyplot as plt\n",
    "import seaborn as sb\n",
    "import ipywidgets as widgets\n",
    "from cellpose import io, plot\n",
    "from matplotlib import pyplot as plt\n",
    "import napari"
   ],
   "outputs": [],
   "execution_count": null
  },
  {
   "metadata": {},
   "cell_type": "code",
   "source": [
    "mask_555 = \"/Users/onur.serce/Data/MPIB/20240326_backup_slides/20240326_slideB_RGBtiffs_AF800_AF647_AF555/output/channel_3/masks/p1_wA1_t1_m19_c3_z1_l1_o0_cp_masks.tif\"\n",
    "mask_555 = io.imread(mask_555)\n",
    "mask_647 = \"/Users/onur.serce/Data/MPIB/20240326_backup_slides/20240326_slideB_RGBtiffs_AF800_AF647_AF555/output/channel_2/masks/p1_wA1_t1_m19_c3_z1_l1_o0_cp_masks.tif\"\n",
    "mask_647 = io.imread(mask_647)"
   ],
   "id": "9af4fb145ccb134",
   "outputs": [],
   "execution_count": null
  },
  {
   "metadata": {},
   "cell_type": "code",
   "source": [
    "def binarize_mask(mask, threshold=0):\n",
    "    # make all pixels < threshold black\n",
    "    binarized = 1.0 * (mask > threshold)\n",
    "    return binarized\n",
    "\n",
    "def change_binarization_pixel_value(mask, new_pixel_value=2):\n",
    "    return mask * new_pixel_value"
   ],
   "id": "df1e73f5c642c358",
   "outputs": [],
   "execution_count": null
  },
  {
   "metadata": {},
   "cell_type": "code",
   "source": [
    "mask_555_binarized = binarize_mask(mask_555)\n",
    "mask_555_binarized = change_binarization_pixel_value(mask_555_binarized, 2)\n",
    "mask_647_binarized = binarize_mask(mask_647)"
   ],
   "id": "ab131956831cced4",
   "outputs": [],
   "execution_count": null
  },
  {
   "metadata": {},
   "cell_type": "code",
   "source": [
    "union = mask_555_binarized + mask_647_binarized\n",
    "intersection = mask_555_binarized - mask_647_binarized"
   ],
   "id": "66737965b5cc7b81",
   "outputs": [],
   "execution_count": null
  },
  {
   "metadata": {},
   "cell_type": "code",
   "source": "plt.imshow(union[:800, :1000])",
   "id": "124edb60a81748f1",
   "outputs": [],
   "execution_count": null
  },
  {
   "metadata": {},
   "cell_type": "code",
   "source": "plt.imshow(binarize_mask(union, threshold=1))",
   "id": "7b52394885d1b815",
   "outputs": [],
   "execution_count": null
  },
  {
   "metadata": {},
   "cell_type": "code",
   "source": "napari.view_labels(union.astype(int))",
   "id": "e93de285d2ab5aa",
   "outputs": [],
   "execution_count": null
  },
  {
   "metadata": {},
   "cell_type": "code",
   "source": "",
   "id": "3baf2bbed7a82606",
   "outputs": [],
   "execution_count": null
  },
  {
   "metadata": {},
   "cell_type": "code",
   "source": "",
   "id": "43f4c719e52867e3",
   "outputs": [],
   "execution_count": null
  },
  {
   "metadata": {},
   "cell_type": "code",
   "source": "",
   "id": "99ab5626f7723118",
   "outputs": [],
   "execution_count": null
  }
 ],
 "metadata": {
  "kernelspec": {
   "display_name": "Python 3",
   "language": "python",
   "name": "python3"
  },
  "language_info": {
   "codemirror_mode": {
    "name": "ipython",
    "version": 2
   },
   "file_extension": ".py",
   "mimetype": "text/x-python",
   "name": "python",
   "nbconvert_exporter": "python",
   "pygments_lexer": "ipython2",
   "version": "2.7.6"
  }
 },
 "nbformat": 4,
 "nbformat_minor": 5
}
