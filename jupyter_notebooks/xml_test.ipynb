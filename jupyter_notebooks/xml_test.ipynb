{
 "cells": [
  {
   "cell_type": "code",
   "id": "initial_id",
   "metadata": {
    "collapsed": true,
    "ExecuteTime": {
     "end_time": "2024-05-13T19:37:29.228733Z",
     "start_time": "2024-05-13T19:37:29.223414Z"
    }
   },
   "source": "file = \"/Users/onur.serce/Data/MPIB/20240326_backup_slides/20240504_OA4_33min_EdRo_SA_ER586_Onur_Input_Experiment_slideB_1000_shape_0.imzML\"",
   "outputs": [],
   "execution_count": 120
  },
  {
   "metadata": {
    "ExecuteTime": {
     "end_time": "2024-05-13T19:37:29.995492Z",
     "start_time": "2024-05-13T19:37:29.992911Z"
    }
   },
   "cell_type": "code",
   "source": "import xml.etree.ElementTree as ET",
   "id": "a2e96a93264f797d",
   "outputs": [],
   "execution_count": 121
  },
  {
   "metadata": {
    "ExecuteTime": {
     "end_time": "2024-05-13T19:37:43.411018Z",
     "start_time": "2024-05-13T19:37:30.509751Z"
    }
   },
   "cell_type": "code",
   "source": "tree = ET.parse(file)",
   "id": "b4e07bdbe1b5dae6",
   "outputs": [],
   "execution_count": 122
  },
  {
   "metadata": {
    "ExecuteTime": {
     "end_time": "2024-05-13T18:33:28.653242Z",
     "start_time": "2024-05-13T18:33:28.651172Z"
    }
   },
   "cell_type": "code",
   "source": "root = tree.getroot()",
   "id": "4c6c9f5fa06c9e3a",
   "outputs": [],
   "execution_count": 4
  },
  {
   "metadata": {
    "ExecuteTime": {
     "end_time": "2024-05-13T18:33:31.315322Z",
     "start_time": "2024-05-13T18:33:31.311746Z"
    }
   },
   "cell_type": "code",
   "source": "root",
   "id": "c79a6c743bf2f268",
   "outputs": [
    {
     "data": {
      "text/plain": [
       "<Element '{http://psi.hupo.org/ms/mzml}indexedmzML' at 0x104235670>"
      ]
     },
     "execution_count": 5,
     "metadata": {},
     "output_type": "execute_result"
    }
   ],
   "execution_count": 5
  },
  {
   "metadata": {
    "ExecuteTime": {
     "end_time": "2024-05-13T18:34:59.413695Z",
     "start_time": "2024-05-13T18:34:59.411462Z"
    }
   },
   "cell_type": "code",
   "source": "root.tag",
   "id": "6b5f167bf49120ac",
   "outputs": [
    {
     "data": {
      "text/plain": [
       "'{http://psi.hupo.org/ms/mzml}indexedmzML'"
      ]
     },
     "execution_count": 6,
     "metadata": {},
     "output_type": "execute_result"
    }
   ],
   "execution_count": 6
  },
  {
   "metadata": {
    "ExecuteTime": {
     "end_time": "2024-05-13T18:35:03.693197Z",
     "start_time": "2024-05-13T18:35:03.689957Z"
    }
   },
   "cell_type": "code",
   "source": "root.attrib",
   "id": "1447be04166c690f",
   "outputs": [
    {
     "data": {
      "text/plain": [
       "{'{http://www.w3.org/2001/XMLSchema-instance}schemaLocation': 'http://psi.hupo.org/ms/mzml http://psidev.info/files/ms/mzML/xsd/mzML1.1.2_idx.xsd'}"
      ]
     },
     "execution_count": 7,
     "metadata": {},
     "output_type": "execute_result"
    }
   ],
   "execution_count": 7
  },
  {
   "metadata": {
    "ExecuteTime": {
     "end_time": "2024-05-13T18:57:05.859417Z",
     "start_time": "2024-05-13T18:57:05.856078Z"
    }
   },
   "cell_type": "code",
   "source": [
    "for child in root:\n",
    "    print(f\"now in child: {child}\")\n",
    "    for grandchild in child:\n",
    "        print(f\"    now in grandchild: {grandchild}\")\n",
    "        for ggchild in grandchild:\n",
    "            print(f\"        now in ggchild: {ggchild}\")\n",
    "            print(ggchild.tag, ggchild.attrib)\n",
    "            break"
   ],
   "id": "a52cff627fe8aff3",
   "outputs": [
    {
     "name": "stdout",
     "output_type": "stream",
     "text": [
      "now in child: <Element '{http://psi.hupo.org/ms/mzml}mzML' at 0x104235760>\n",
      "    now in grandchild: <Element '{http://psi.hupo.org/ms/mzml}cvList' at 0x104235800>\n",
      "        now in ggchild: <Element '{http://psi.hupo.org/ms/mzml}cv' at 0x1042358f0>\n",
      "{http://psi.hupo.org/ms/mzml}cv {'id': 'MS', 'fullName': 'Mass spectrometry ontology', 'version': '4.1.79', 'URI': 'https://raw.githubusercontent.com/HUPO-PSI/psi-ms-CV/master/psi-ms.obo'}\n",
      "    now in grandchild: <Element '{http://psi.hupo.org/ms/mzml}fileDescription' at 0x1042359e0>\n",
      "        now in ggchild: <Element '{http://psi.hupo.org/ms/mzml}fileContent' at 0x104235a80>\n",
      "{http://psi.hupo.org/ms/mzml}fileContent {}\n",
      "    now in grandchild: <Element '{http://psi.hupo.org/ms/mzml}referenceableParamGroupList' at 0x104235f80>\n",
      "        now in ggchild: <Element '{http://psi.hupo.org/ms/mzml}referenceableParamGroup' at 0x104236020>\n",
      "{http://psi.hupo.org/ms/mzml}referenceableParamGroup {'id': 'commonInstrumentParams'}\n",
      "    now in grandchild: <Element '{http://psi.hupo.org/ms/mzml}softwareList' at 0x1042361b0>\n",
      "        now in ggchild: <Element '{http://psi.hupo.org/ms/mzml}software' at 0x1042362a0>\n",
      "{http://psi.hupo.org/ms/mzml}software {'id': 'ThermoRawFileParser', 'version': '1.4.4'}\n",
      "    now in grandchild: <Element '{http://psi.hupo.org/ms/mzml}instrumentConfigurationList' at 0x104236390>\n",
      "        now in ggchild: <Element '{http://psi.hupo.org/ms/mzml}instrumentConfiguration' at 0x1042363e0>\n",
      "{http://psi.hupo.org/ms/mzml}instrumentConfiguration {'id': 'IC1'}\n",
      "    now in grandchild: <Element '{http://psi.hupo.org/ms/mzml}dataProcessingList' at 0x104236cf0>\n",
      "        now in ggchild: <Element '{http://psi.hupo.org/ms/mzml}dataProcessing' at 0x104236de0>\n",
      "{http://psi.hupo.org/ms/mzml}dataProcessing {'id': 'ThermoRawFileParserProcessing'}\n",
      "    now in grandchild: <Element '{http://psi.hupo.org/ms/mzml}run' at 0x1042371a0>\n",
      "        now in ggchild: <Element '{http://psi.hupo.org/ms/mzml}spectrumList' at 0x1042372e0>\n",
      "{http://psi.hupo.org/ms/mzml}spectrumList {'count': '83442', 'defaultDataProcessingRef': 'ThermoRawFileParserProcessing'}\n",
      "now in child: <Element '{http://psi.hupo.org/ms/mzml}indexList' at 0x3ea320540>\n",
      "    now in grandchild: <Element '{http://psi.hupo.org/ms/mzml}index' at 0x3ea3205e0>\n",
      "        now in ggchild: <Element '{http://psi.hupo.org/ms/mzml}offset' at 0x3ea320680>\n",
      "{http://psi.hupo.org/ms/mzml}offset {'idRef': 'controllerType=0 controllerNumber=1 scan=1'}\n",
      "    now in grandchild: <Element '{http://psi.hupo.org/ms/mzml}index' at 0x3ede48860>\n",
      "        now in ggchild: <Element '{http://psi.hupo.org/ms/mzml}offset' at 0x3ede488b0>\n",
      "{http://psi.hupo.org/ms/mzml}offset {'idRef': 'BasePeak_0'}\n",
      "now in child: <Element '{http://psi.hupo.org/ms/mzml}indexListOffset' at 0x3ede48950>\n",
      "now in child: <Element '{http://psi.hupo.org/ms/mzml}fileChecksum' at 0x3ede489f0>\n"
     ]
    }
   ],
   "execution_count": 44
  },
  {
   "metadata": {
    "ExecuteTime": {
     "end_time": "2024-05-13T19:10:05.796691Z",
     "start_time": "2024-05-13T19:10:05.794201Z"
    }
   },
   "cell_type": "code",
   "source": "root[1][1][0]",
   "id": "bd3b7fe0a74664e8",
   "outputs": [
    {
     "data": {
      "text/plain": [
       "<Element '{http://psi.hupo.org/ms/mzml}offset' at 0x3ede488b0>"
      ]
     },
     "execution_count": 89,
     "metadata": {},
     "output_type": "execute_result"
    }
   ],
   "execution_count": 89
  },
  {
   "metadata": {
    "ExecuteTime": {
     "end_time": "2024-05-13T19:12:36.480623Z",
     "start_time": "2024-05-13T19:12:36.477741Z"
    }
   },
   "cell_type": "code",
   "source": "root[1][0].attrib",
   "id": "685554086cb70e4",
   "outputs": [
    {
     "data": {
      "text/plain": [
       "{'name': 'spectrum'}"
      ]
     },
     "execution_count": 110,
     "metadata": {},
     "output_type": "execute_result"
    }
   ],
   "execution_count": 110
  },
  {
   "metadata": {
    "ExecuteTime": {
     "end_time": "2024-05-13T19:13:12.417377Z",
     "start_time": "2024-05-13T19:13:12.412779Z"
    }
   },
   "cell_type": "code",
   "source": "root[1][0][0].attrib",
   "id": "16d67deeec101a89",
   "outputs": [
    {
     "data": {
      "text/plain": [
       "{'idRef': 'controllerType=0 controllerNumber=1 scan=1'}"
      ]
     },
     "execution_count": 118,
     "metadata": {},
     "output_type": "execute_result"
    }
   ],
   "execution_count": 118
  },
  {
   "metadata": {
    "ExecuteTime": {
     "end_time": "2024-05-13T19:13:22.274774Z",
     "start_time": "2024-05-13T19:13:22.271620Z"
    }
   },
   "cell_type": "code",
   "source": "root[1][0][0].text",
   "id": "1089c0b16de4bdc6",
   "outputs": [
    {
     "data": {
      "text/plain": [
       "'4575'"
      ]
     },
     "execution_count": 119,
     "metadata": {},
     "output_type": "execute_result"
    }
   ],
   "execution_count": 119
  },
  {
   "metadata": {},
   "cell_type": "code",
   "outputs": [],
   "execution_count": null,
   "source": "",
   "id": "5beef200aa3cf09f"
  }
 ],
 "metadata": {
  "kernelspec": {
   "display_name": "Python 3",
   "language": "python",
   "name": "python3"
  },
  "language_info": {
   "codemirror_mode": {
    "name": "ipython",
    "version": 2
   },
   "file_extension": ".py",
   "mimetype": "text/x-python",
   "name": "python",
   "nbconvert_exporter": "python",
   "pygments_lexer": "ipython2",
   "version": "2.7.6"
  }
 },
 "nbformat": 4,
 "nbformat_minor": 5
}
